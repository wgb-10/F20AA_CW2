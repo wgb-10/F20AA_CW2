{
  "metadata": {
    "kernelspec": {
      "language": "python",
      "display_name": "Python 3",
      "name": "python3"
    },
    "language_info": {
      "name": "python",
      "version": "3.7.12",
      "mimetype": "text/x-python",
      "codemirror_mode": {
        "name": "ipython",
        "version": 3
      },
      "pygments_lexer": "ipython3",
      "nbconvert_exporter": "python",
      "file_extension": ".py"
    },
    "colab": {
      "name": "cw2-amazon-food-review.ipynb",
      "provenance": [],
      "collapsed_sections": [
        "axr-3iTgmhw7",
        "mCiNaT4Hmhw8"
      ],
      "machine_shape": "hm"
    }
  },
  "nbformat_minor": 0,
  "nbformat": 4,
  "cells": [
    {
      "cell_type": "code",
      "source": [
        "import pandas as pd\n",
        "import numpy as np\n",
        "import seaborn as sns\n",
        "import matplotlib.pyplot as plt\n",
        "import re\n",
        "#library that contains punctuation\n",
        "import string\n",
        "from wordcloud import WordCloud\n",
        "import spacy\n",
        "import nltk\n",
        "from nltk.stem import WordNetLemmatizer\n",
        "nltk.download('wordnet')\n",
        "print(\"SpaCy version: {}\".format(spacy.__version__))\n",
        "print(\"nltk version: {}\".format(nltk.__version__))\n",
        "import time\n",
        "from nltk import ngrams"
      ],
      "metadata": {
        "execution": {
          "iopub.status.busy": "2022-03-04T08:10:41.004131Z",
          "iopub.execute_input": "2022-03-04T08:10:41.004365Z",
          "iopub.status.idle": "2022-03-04T08:10:53.584228Z",
          "shell.execute_reply.started": "2022-03-04T08:10:41.004341Z",
          "shell.execute_reply": "2022-03-04T08:10:53.582789Z"
        },
        "trusted": true,
        "colab": {
          "base_uri": "https://localhost:8080/"
        },
        "id": "HpNmkJfumhwt",
        "outputId": "bc5de779-55b5-45e5-e4ab-b028e66aae5c"
      },
      "execution_count": null,
      "outputs": [
        {
          "output_type": "stream",
          "name": "stdout",
          "text": [
            "[nltk_data] Downloading package wordnet to /root/nltk_data...\n",
            "[nltk_data]   Unzipping corpora/wordnet.zip.\n",
            "SpaCy version: 2.2.4\n",
            "nltk version: 3.2.5\n"
          ]
        }
      ]
    },
    {
      "cell_type": "code",
      "source": [
        "train = pd.read_csv('/content/train.csv')"
      ],
      "metadata": {
        "execution": {
          "iopub.status.busy": "2022-03-04T08:10:53.586437Z",
          "iopub.execute_input": "2022-03-04T08:10:53.586725Z",
          "iopub.status.idle": "2022-03-04T08:10:58.973445Z",
          "shell.execute_reply.started": "2022-03-04T08:10:53.586667Z",
          "shell.execute_reply": "2022-03-04T08:10:58.972458Z"
        },
        "trusted": true,
        "id": "OAu7dTUAmhww"
      },
      "execution_count": null,
      "outputs": []
    },
    {
      "cell_type": "code",
      "source": [
        "train.head()"
      ],
      "metadata": {
        "execution": {
          "iopub.status.busy": "2022-03-04T08:10:58.974757Z",
          "iopub.execute_input": "2022-03-04T08:10:58.974958Z",
          "iopub.status.idle": "2022-03-04T08:10:58.995494Z",
          "shell.execute_reply.started": "2022-03-04T08:10:58.974932Z",
          "shell.execute_reply": "2022-03-04T08:10:58.994409Z"
        },
        "trusted": true,
        "colab": {
          "base_uri": "https://localhost:8080/",
          "height": 206
        },
        "id": "D7gWjLcSmhwx",
        "outputId": "3d56401a-86ea-4941-87be-71a9a081c573"
      },
      "execution_count": null,
      "outputs": [
        {
          "output_type": "execute_result",
          "data": {
            "text/plain": [
              "   Score                                        Review_text\n",
              "0      5  I received this product early from the seller!...\n",
              "1      5  *****<br />Numi's Collection Assortment Melang...\n",
              "2      5  I was very careful not to overcook this pasta,...\n",
              "3      5  Buying this multi-pack I was misled by the pic...\n",
              "4      5  These bars are so good! I loved them warmed up..."
            ],
            "text/html": [
              "\n",
              "  <div id=\"df-a40e90e5-eac7-4e07-b83a-269e249d3989\">\n",
              "    <div class=\"colab-df-container\">\n",
              "      <div>\n",
              "<style scoped>\n",
              "    .dataframe tbody tr th:only-of-type {\n",
              "        vertical-align: middle;\n",
              "    }\n",
              "\n",
              "    .dataframe tbody tr th {\n",
              "        vertical-align: top;\n",
              "    }\n",
              "\n",
              "    .dataframe thead th {\n",
              "        text-align: right;\n",
              "    }\n",
              "</style>\n",
              "<table border=\"1\" class=\"dataframe\">\n",
              "  <thead>\n",
              "    <tr style=\"text-align: right;\">\n",
              "      <th></th>\n",
              "      <th>Score</th>\n",
              "      <th>Review_text</th>\n",
              "    </tr>\n",
              "  </thead>\n",
              "  <tbody>\n",
              "    <tr>\n",
              "      <th>0</th>\n",
              "      <td>5</td>\n",
              "      <td>I received this product early from the seller!...</td>\n",
              "    </tr>\n",
              "    <tr>\n",
              "      <th>1</th>\n",
              "      <td>5</td>\n",
              "      <td>*****&lt;br /&gt;Numi's Collection Assortment Melang...</td>\n",
              "    </tr>\n",
              "    <tr>\n",
              "      <th>2</th>\n",
              "      <td>5</td>\n",
              "      <td>I was very careful not to overcook this pasta,...</td>\n",
              "    </tr>\n",
              "    <tr>\n",
              "      <th>3</th>\n",
              "      <td>5</td>\n",
              "      <td>Buying this multi-pack I was misled by the pic...</td>\n",
              "    </tr>\n",
              "    <tr>\n",
              "      <th>4</th>\n",
              "      <td>5</td>\n",
              "      <td>These bars are so good! I loved them warmed up...</td>\n",
              "    </tr>\n",
              "  </tbody>\n",
              "</table>\n",
              "</div>\n",
              "      <button class=\"colab-df-convert\" onclick=\"convertToInteractive('df-a40e90e5-eac7-4e07-b83a-269e249d3989')\"\n",
              "              title=\"Convert this dataframe to an interactive table.\"\n",
              "              style=\"display:none;\">\n",
              "        \n",
              "  <svg xmlns=\"http://www.w3.org/2000/svg\" height=\"24px\"viewBox=\"0 0 24 24\"\n",
              "       width=\"24px\">\n",
              "    <path d=\"M0 0h24v24H0V0z\" fill=\"none\"/>\n",
              "    <path d=\"M18.56 5.44l.94 2.06.94-2.06 2.06-.94-2.06-.94-.94-2.06-.94 2.06-2.06.94zm-11 1L8.5 8.5l.94-2.06 2.06-.94-2.06-.94L8.5 2.5l-.94 2.06-2.06.94zm10 10l.94 2.06.94-2.06 2.06-.94-2.06-.94-.94-2.06-.94 2.06-2.06.94z\"/><path d=\"M17.41 7.96l-1.37-1.37c-.4-.4-.92-.59-1.43-.59-.52 0-1.04.2-1.43.59L10.3 9.45l-7.72 7.72c-.78.78-.78 2.05 0 2.83L4 21.41c.39.39.9.59 1.41.59.51 0 1.02-.2 1.41-.59l7.78-7.78 2.81-2.81c.8-.78.8-2.07 0-2.86zM5.41 20L4 18.59l7.72-7.72 1.47 1.35L5.41 20z\"/>\n",
              "  </svg>\n",
              "      </button>\n",
              "      \n",
              "  <style>\n",
              "    .colab-df-container {\n",
              "      display:flex;\n",
              "      flex-wrap:wrap;\n",
              "      gap: 12px;\n",
              "    }\n",
              "\n",
              "    .colab-df-convert {\n",
              "      background-color: #E8F0FE;\n",
              "      border: none;\n",
              "      border-radius: 50%;\n",
              "      cursor: pointer;\n",
              "      display: none;\n",
              "      fill: #1967D2;\n",
              "      height: 32px;\n",
              "      padding: 0 0 0 0;\n",
              "      width: 32px;\n",
              "    }\n",
              "\n",
              "    .colab-df-convert:hover {\n",
              "      background-color: #E2EBFA;\n",
              "      box-shadow: 0px 1px 2px rgba(60, 64, 67, 0.3), 0px 1px 3px 1px rgba(60, 64, 67, 0.15);\n",
              "      fill: #174EA6;\n",
              "    }\n",
              "\n",
              "    [theme=dark] .colab-df-convert {\n",
              "      background-color: #3B4455;\n",
              "      fill: #D2E3FC;\n",
              "    }\n",
              "\n",
              "    [theme=dark] .colab-df-convert:hover {\n",
              "      background-color: #434B5C;\n",
              "      box-shadow: 0px 1px 3px 1px rgba(0, 0, 0, 0.15);\n",
              "      filter: drop-shadow(0px 1px 2px rgba(0, 0, 0, 0.3));\n",
              "      fill: #FFFFFF;\n",
              "    }\n",
              "  </style>\n",
              "\n",
              "      <script>\n",
              "        const buttonEl =\n",
              "          document.querySelector('#df-a40e90e5-eac7-4e07-b83a-269e249d3989 button.colab-df-convert');\n",
              "        buttonEl.style.display =\n",
              "          google.colab.kernel.accessAllowed ? 'block' : 'none';\n",
              "\n",
              "        async function convertToInteractive(key) {\n",
              "          const element = document.querySelector('#df-a40e90e5-eac7-4e07-b83a-269e249d3989');\n",
              "          const dataTable =\n",
              "            await google.colab.kernel.invokeFunction('convertToInteractive',\n",
              "                                                     [key], {});\n",
              "          if (!dataTable) return;\n",
              "\n",
              "          const docLinkHtml = 'Like what you see? Visit the ' +\n",
              "            '<a target=\"_blank\" href=https://colab.research.google.com/notebooks/data_table.ipynb>data table notebook</a>'\n",
              "            + ' to learn more about interactive tables.';\n",
              "          element.innerHTML = '';\n",
              "          dataTable['output_type'] = 'display_data';\n",
              "          await google.colab.output.renderOutput(dataTable, element);\n",
              "          const docLink = document.createElement('div');\n",
              "          docLink.innerHTML = docLinkHtml;\n",
              "          element.appendChild(docLink);\n",
              "        }\n",
              "      </script>\n",
              "    </div>\n",
              "  </div>\n",
              "  "
            ]
          },
          "metadata": {},
          "execution_count": 4
        }
      ]
    },
    {
      "cell_type": "code",
      "source": [
        "train.info()"
      ],
      "metadata": {
        "execution": {
          "iopub.status.busy": "2022-03-04T08:10:58.998362Z",
          "iopub.execute_input": "2022-03-04T08:10:58.998731Z",
          "iopub.status.idle": "2022-03-04T08:10:59.126917Z",
          "shell.execute_reply.started": "2022-03-04T08:10:58.998666Z",
          "shell.execute_reply": "2022-03-04T08:10:59.126004Z"
        },
        "trusted": true,
        "colab": {
          "base_uri": "https://localhost:8080/"
        },
        "id": "BvJxwTDDmhwx",
        "outputId": "6259f828-c6c2-4aea-babd-b7cbd122c3ea"
      },
      "execution_count": null,
      "outputs": [
        {
          "output_type": "stream",
          "name": "stdout",
          "text": [
            "<class 'pandas.core.frame.DataFrame'>\n",
            "RangeIndex: 426340 entries, 0 to 426339\n",
            "Data columns (total 2 columns):\n",
            " #   Column       Non-Null Count   Dtype \n",
            "---  ------       --------------   ----- \n",
            " 0   Score        426340 non-null  int64 \n",
            " 1   Review_text  426340 non-null  object\n",
            "dtypes: int64(1), object(1)\n",
            "memory usage: 6.5+ MB\n"
          ]
        }
      ]
    },
    {
      "cell_type": "code",
      "source": [
        "train.describe()"
      ],
      "metadata": {
        "execution": {
          "iopub.status.busy": "2022-03-04T08:10:59.128229Z",
          "iopub.execute_input": "2022-03-04T08:10:59.128628Z",
          "iopub.status.idle": "2022-03-04T08:10:59.159941Z",
          "shell.execute_reply.started": "2022-03-04T08:10:59.128591Z",
          "shell.execute_reply": "2022-03-04T08:10:59.158764Z"
        },
        "trusted": true,
        "colab": {
          "base_uri": "https://localhost:8080/",
          "height": 300
        },
        "id": "oHc-11X9mhwy",
        "outputId": "7f9142ef-a532-4c26-bf6e-e524bb5155d5"
      },
      "execution_count": null,
      "outputs": [
        {
          "output_type": "execute_result",
          "data": {
            "text/html": [
              "\n",
              "  <div id=\"df-4c557c0e-9b6f-4bc7-9ad1-dac451244588\">\n",
              "    <div class=\"colab-df-container\">\n",
              "      <div>\n",
              "<style scoped>\n",
              "    .dataframe tbody tr th:only-of-type {\n",
              "        vertical-align: middle;\n",
              "    }\n",
              "\n",
              "    .dataframe tbody tr th {\n",
              "        vertical-align: top;\n",
              "    }\n",
              "\n",
              "    .dataframe thead th {\n",
              "        text-align: right;\n",
              "    }\n",
              "</style>\n",
              "<table border=\"1\" class=\"dataframe\">\n",
              "  <thead>\n",
              "    <tr style=\"text-align: right;\">\n",
              "      <th></th>\n",
              "      <th>Score</th>\n",
              "    </tr>\n",
              "  </thead>\n",
              "  <tbody>\n",
              "    <tr>\n",
              "      <th>count</th>\n",
              "      <td>426340.000000</td>\n",
              "    </tr>\n",
              "    <tr>\n",
              "      <th>mean</th>\n",
              "      <td>4.180928</td>\n",
              "    </tr>\n",
              "    <tr>\n",
              "      <th>std</th>\n",
              "      <td>1.312447</td>\n",
              "    </tr>\n",
              "    <tr>\n",
              "      <th>min</th>\n",
              "      <td>1.000000</td>\n",
              "    </tr>\n",
              "    <tr>\n",
              "      <th>25%</th>\n",
              "      <td>4.000000</td>\n",
              "    </tr>\n",
              "    <tr>\n",
              "      <th>50%</th>\n",
              "      <td>5.000000</td>\n",
              "    </tr>\n",
              "    <tr>\n",
              "      <th>75%</th>\n",
              "      <td>5.000000</td>\n",
              "    </tr>\n",
              "    <tr>\n",
              "      <th>max</th>\n",
              "      <td>5.000000</td>\n",
              "    </tr>\n",
              "  </tbody>\n",
              "</table>\n",
              "</div>\n",
              "      <button class=\"colab-df-convert\" onclick=\"convertToInteractive('df-4c557c0e-9b6f-4bc7-9ad1-dac451244588')\"\n",
              "              title=\"Convert this dataframe to an interactive table.\"\n",
              "              style=\"display:none;\">\n",
              "        \n",
              "  <svg xmlns=\"http://www.w3.org/2000/svg\" height=\"24px\"viewBox=\"0 0 24 24\"\n",
              "       width=\"24px\">\n",
              "    <path d=\"M0 0h24v24H0V0z\" fill=\"none\"/>\n",
              "    <path d=\"M18.56 5.44l.94 2.06.94-2.06 2.06-.94-2.06-.94-.94-2.06-.94 2.06-2.06.94zm-11 1L8.5 8.5l.94-2.06 2.06-.94-2.06-.94L8.5 2.5l-.94 2.06-2.06.94zm10 10l.94 2.06.94-2.06 2.06-.94-2.06-.94-.94-2.06-.94 2.06-2.06.94z\"/><path d=\"M17.41 7.96l-1.37-1.37c-.4-.4-.92-.59-1.43-.59-.52 0-1.04.2-1.43.59L10.3 9.45l-7.72 7.72c-.78.78-.78 2.05 0 2.83L4 21.41c.39.39.9.59 1.41.59.51 0 1.02-.2 1.41-.59l7.78-7.78 2.81-2.81c.8-.78.8-2.07 0-2.86zM5.41 20L4 18.59l7.72-7.72 1.47 1.35L5.41 20z\"/>\n",
              "  </svg>\n",
              "      </button>\n",
              "      \n",
              "  <style>\n",
              "    .colab-df-container {\n",
              "      display:flex;\n",
              "      flex-wrap:wrap;\n",
              "      gap: 12px;\n",
              "    }\n",
              "\n",
              "    .colab-df-convert {\n",
              "      background-color: #E8F0FE;\n",
              "      border: none;\n",
              "      border-radius: 50%;\n",
              "      cursor: pointer;\n",
              "      display: none;\n",
              "      fill: #1967D2;\n",
              "      height: 32px;\n",
              "      padding: 0 0 0 0;\n",
              "      width: 32px;\n",
              "    }\n",
              "\n",
              "    .colab-df-convert:hover {\n",
              "      background-color: #E2EBFA;\n",
              "      box-shadow: 0px 1px 2px rgba(60, 64, 67, 0.3), 0px 1px 3px 1px rgba(60, 64, 67, 0.15);\n",
              "      fill: #174EA6;\n",
              "    }\n",
              "\n",
              "    [theme=dark] .colab-df-convert {\n",
              "      background-color: #3B4455;\n",
              "      fill: #D2E3FC;\n",
              "    }\n",
              "\n",
              "    [theme=dark] .colab-df-convert:hover {\n",
              "      background-color: #434B5C;\n",
              "      box-shadow: 0px 1px 3px 1px rgba(0, 0, 0, 0.15);\n",
              "      filter: drop-shadow(0px 1px 2px rgba(0, 0, 0, 0.3));\n",
              "      fill: #FFFFFF;\n",
              "    }\n",
              "  </style>\n",
              "\n",
              "      <script>\n",
              "        const buttonEl =\n",
              "          document.querySelector('#df-4c557c0e-9b6f-4bc7-9ad1-dac451244588 button.colab-df-convert');\n",
              "        buttonEl.style.display =\n",
              "          google.colab.kernel.accessAllowed ? 'block' : 'none';\n",
              "\n",
              "        async function convertToInteractive(key) {\n",
              "          const element = document.querySelector('#df-4c557c0e-9b6f-4bc7-9ad1-dac451244588');\n",
              "          const dataTable =\n",
              "            await google.colab.kernel.invokeFunction('convertToInteractive',\n",
              "                                                     [key], {});\n",
              "          if (!dataTable) return;\n",
              "\n",
              "          const docLinkHtml = 'Like what you see? Visit the ' +\n",
              "            '<a target=\"_blank\" href=https://colab.research.google.com/notebooks/data_table.ipynb>data table notebook</a>'\n",
              "            + ' to learn more about interactive tables.';\n",
              "          element.innerHTML = '';\n",
              "          dataTable['output_type'] = 'display_data';\n",
              "          await google.colab.output.renderOutput(dataTable, element);\n",
              "          const docLink = document.createElement('div');\n",
              "          docLink.innerHTML = docLinkHtml;\n",
              "          element.appendChild(docLink);\n",
              "        }\n",
              "      </script>\n",
              "    </div>\n",
              "  </div>\n",
              "  "
            ],
            "text/plain": [
              "               Score\n",
              "count  426340.000000\n",
              "mean        4.180928\n",
              "std         1.312447\n",
              "min         1.000000\n",
              "25%         4.000000\n",
              "50%         5.000000\n",
              "75%         5.000000\n",
              "max         5.000000"
            ]
          },
          "metadata": {},
          "execution_count": 20
        }
      ]
    },
    {
      "cell_type": "code",
      "source": [
        "train.loc[0]"
      ],
      "metadata": {
        "execution": {
          "iopub.status.busy": "2022-03-04T08:10:59.161208Z",
          "iopub.execute_input": "2022-03-04T08:10:59.161501Z",
          "iopub.status.idle": "2022-03-04T08:10:59.171239Z",
          "shell.execute_reply.started": "2022-03-04T08:10:59.161460Z",
          "shell.execute_reply": "2022-03-04T08:10:59.169873Z"
        },
        "trusted": true,
        "colab": {
          "base_uri": "https://localhost:8080/"
        },
        "id": "azTqybafmhwy",
        "outputId": "4c484267-4a7b-4149-db44-9ffac939a93d"
      },
      "execution_count": null,
      "outputs": [
        {
          "output_type": "execute_result",
          "data": {
            "text/plain": [
              "Score                                                          5\n",
              "Review_text    I received this product early from the seller!...\n",
              "Name: 0, dtype: object"
            ]
          },
          "metadata": {},
          "execution_count": 21
        }
      ]
    },
    {
      "cell_type": "code",
      "source": [
        "train.loc[0,'Review_text']"
      ],
      "metadata": {
        "execution": {
          "iopub.status.busy": "2022-03-04T08:10:59.173244Z",
          "iopub.execute_input": "2022-03-04T08:10:59.173991Z",
          "iopub.status.idle": "2022-03-04T08:10:59.204178Z",
          "shell.execute_reply.started": "2022-03-04T08:10:59.173947Z",
          "shell.execute_reply": "2022-03-04T08:10:59.203530Z"
        },
        "trusted": true,
        "colab": {
          "base_uri": "https://localhost:8080/",
          "height": 53
        },
        "id": "iKhBZJ7Dmhwz",
        "outputId": "765e4bb3-a15b-4ebd-d04d-a7b8396490ea"
      },
      "execution_count": null,
      "outputs": [
        {
          "output_type": "execute_result",
          "data": {
            "application/vnd.google.colaboratory.intrinsic+json": {
              "type": "string"
            },
            "text/plain": [
              "'I received this product early from the seller! They are a very tastey & a Great mid-day snack. I have shared them with my Glutten Free Friends & they will be ordering this product & more very soon. Very Good'"
            ]
          },
          "metadata": {},
          "execution_count": 22
        }
      ]
    },
    {
      "cell_type": "code",
      "source": [
        "train.loc[1]"
      ],
      "metadata": {
        "execution": {
          "iopub.status.busy": "2022-03-04T08:10:59.205394Z",
          "iopub.execute_input": "2022-03-04T08:10:59.205629Z",
          "iopub.status.idle": "2022-03-04T08:10:59.214317Z",
          "shell.execute_reply.started": "2022-03-04T08:10:59.205596Z",
          "shell.execute_reply": "2022-03-04T08:10:59.213263Z"
        },
        "trusted": true,
        "colab": {
          "base_uri": "https://localhost:8080/"
        },
        "id": "nC7lYk2wmhwz",
        "outputId": "110c6f86-e13d-4cde-c41f-9b5288d872df"
      },
      "execution_count": null,
      "outputs": [
        {
          "output_type": "execute_result",
          "data": {
            "text/plain": [
              "Score                                                          5\n",
              "Review_text    *****<br />Numi's Collection Assortment Melang...\n",
              "Name: 1, dtype: object"
            ]
          },
          "metadata": {},
          "execution_count": 23
        }
      ]
    },
    {
      "cell_type": "code",
      "source": [
        "train.loc[1,'Review_text']"
      ],
      "metadata": {
        "execution": {
          "iopub.status.busy": "2022-03-04T08:10:59.215506Z",
          "iopub.execute_input": "2022-03-04T08:10:59.215768Z",
          "iopub.status.idle": "2022-03-04T08:10:59.229976Z",
          "shell.execute_reply.started": "2022-03-04T08:10:59.215731Z",
          "shell.execute_reply": "2022-03-04T08:10:59.229115Z"
        },
        "trusted": true,
        "colab": {
          "base_uri": "https://localhost:8080/",
          "height": 140
        },
        "id": "mADL6MWpmhw0",
        "outputId": "81d3793c-18af-473c-c166-aa1b62ca5ecf"
      },
      "execution_count": null,
      "outputs": [
        {
          "output_type": "execute_result",
          "data": {
            "application/vnd.google.colaboratory.intrinsic+json": {
              "type": "string"
            },
            "text/plain": [
              "'*****<br />Numi\\'s Collection Assortment Melange includes:<br />5 Herbal Teas (caffeine-free, also called \"teasans\"):<br />* Dry Desert Lime: Lime Herbal Teasan<br />* Fields of Gold: Lemongrass Herbal Teasan<br />* Red Mellow Bush: Rooibos Herbal Teasan<br />* Bushmen\\'s Brew: Honeybush Herbal Teasan<br />* Simply Mint: Moroccan Mint<br /><br />2 Green Teas (lower in caffeine):<br />* Temple of Heaven: Gunpowder Green Tea<br />* Monkey King: Jasmine Green Tea<br /><br />2 Black Teas (contain caffeine):<br />* Chinese Breakfast: Yunnan Black Tea<br />* Smoky Tarry: Lapsang Souchong Black Tea<br /><br />This is a total of nine different teas, two tea bags of each one in each box. Numi teas are known for their high-quality, organic and kosher ingredients, and in my opinion, are some of the tastiest and best teas I have ever tried. They do not include artificial ingredients or flavorings.<br /><br />On the box, the manufacturer writes: \"From mist-covered mountains to sun-drenched deserts to fertile fields, we proudly bring you our tea palette. The flavors range from smooth earthiness, and light floral scents, to refreshingly sweet and sour notes. What they all share is the recollection of how some Ancient One tamed fire and water to coexist harmoniously, and steeped in them the gifts of Nature. Since that distant past, people have soothed, roused, healed, explored and celebrated with these wonderful infusions. We encourage you to do the same with Numi\\'s finest.\"<br /><br />The price is perfect, a big savings over single boxes. If you like Numi teas and want to sample a wonderful assortment, get it---you won\\'t be sorry. There may be some you like and others you don\\'t, but sampling them will be a delightful experience. If you are new to Numi this is an excellent way to sample their high-quality teas. I do not think you could find a better source of premium tea than Numi.<br /><br />Highly recommended.<br />***** Organic, Kosher, Tasty Assortment of Premium Teas & Teasans'"
            ]
          },
          "metadata": {},
          "execution_count": 24
        }
      ]
    },
    {
      "cell_type": "markdown",
      "source": [
        "# Visualisation"
      ],
      "metadata": {
        "id": "NhtwWuhamhw1"
      }
    },
    {
      "cell_type": "code",
      "source": [
        "plt.figure(figsize=(10,5))\n",
        "ax = sns.countplot(x='Score',data=train,palette='Set3')\n",
        "#sns.countplot()\n",
        "plt.title('Ratings dist across whole dataset')\n",
        "plt.xlabel('Reviews ratings')\n",
        "plt.ylabel(\"No. of reviews corresponding to each of 5 ratings\")\n",
        "plt.show()"
      ],
      "metadata": {
        "execution": {
          "iopub.status.busy": "2022-03-04T08:10:59.233410Z",
          "iopub.execute_input": "2022-03-04T08:10:59.233859Z",
          "iopub.status.idle": "2022-03-04T08:10:59.459780Z",
          "shell.execute_reply.started": "2022-03-04T08:10:59.233830Z",
          "shell.execute_reply": "2022-03-04T08:10:59.459060Z"
        },
        "trusted": true,
        "colab": {
          "base_uri": "https://localhost:8080/"
        },
        "id": "Uk2bGQJwmhw2",
        "outputId": "cd0567cc-e746-4a21-9399-fd64d7d776de"
      },
      "execution_count": null,
      "outputs": [
        {
          "output_type": "display_data",
          "data": {
            "image/png": "[encoded data removed]",
            "text/plain": [
              "<Figure size 720x360 with 1 Axes>"
            ]
          },
          "metadata": {
            "needs_background": "light"
          }
        }
      ]
    },
    {
      "cell_type": "code",
      "source": [
        "def generate_word_cloud(Text):\n",
        "    wordcloud = WordCloud(\n",
        "        background_color='white',\n",
        "        width = 3000,\n",
        "        height = 2000).generate(str(Text))\n",
        "    fig = plt.figure(\n",
        "        figsize = (20, 12),\n",
        "        facecolor = 'k',\n",
        "        edgecolor = 'k')\n",
        "    plt.imshow(wordcloud, interpolation = 'bilinear')\n",
        "    plt.axis('off')\n",
        "    plt.tight_layout(pad=0)\n",
        "    plt.show()\n",
        "# https://www.kaggle.com/sonalisingh1411/nlp-part-1-amazon-fine-food-sentiment-analysis"
      ],
      "metadata": {
        "execution": {
          "iopub.status.busy": "2022-03-04T08:10:59.461898Z",
          "iopub.execute_input": "2022-03-04T08:10:59.462178Z",
          "iopub.status.idle": "2022-03-04T08:10:59.469312Z",
          "shell.execute_reply.started": "2022-03-04T08:10:59.462140Z",
          "shell.execute_reply": "2022-03-04T08:10:59.468186Z"
        },
        "trusted": true,
        "id": "Ce9Szp4Hmhw2"
      },
      "execution_count": null,
      "outputs": []
    },
    {
      "cell_type": "code",
      "source": [
        "texts = train['Review_text']\n",
        "generate_word_cloud(texts)"
      ],
      "metadata": {
        "execution": {
          "iopub.status.busy": "2022-03-04T08:10:59.470661Z",
          "iopub.execute_input": "2022-03-04T08:10:59.470931Z",
          "iopub.status.idle": "2022-03-04T08:11:06.360584Z",
          "shell.execute_reply.started": "2022-03-04T08:10:59.470902Z",
          "shell.execute_reply": "2022-03-04T08:11:06.359854Z"
        },
        "trusted": true,
        "colab": {
          "base_uri": "https://localhost:8080/"
        },
        "id": "qt4hXmUrmhw3",
        "outputId": "7faab4d7-b065-4bd0-dda1-4e9f7ae99ff1"
      },
      "execution_count": null,
      "outputs": [
        {
          "output_type": "display_data",
          "data": {
            "image/png": "[encoded data removed]",
            "text/plain": [
              "<Figure size 1440x864 with 1 Axes>"
            ]
          },
          "metadata": {}
        }
      ]
    },
    {
      "cell_type": "markdown",
      "source": [
        "# Data Cleaning"
      ],
      "metadata": {
        "id": "epeq_KNumhw4"
      }
    },
    {
      "cell_type": "code",
      "source": [
        "train.duplicated().value_counts()"
      ],
      "metadata": {
        "execution": {
          "iopub.status.busy": "2022-03-04T08:11:06.362031Z",
          "iopub.execute_input": "2022-03-04T08:11:06.362394Z",
          "iopub.status.idle": "2022-03-04T08:11:07.012478Z",
          "shell.execute_reply.started": "2022-03-04T08:11:06.362361Z",
          "shell.execute_reply": "2022-03-04T08:11:07.011729Z"
        },
        "trusted": true,
        "colab": {
          "base_uri": "https://localhost:8080/"
        },
        "id": "XS-L-O8Wmhw4",
        "outputId": "c6ed3a0c-6b34-4094-e3d5-b9e06577194c"
      },
      "execution_count": null,
      "outputs": [
        {
          "output_type": "execute_result",
          "data": {
            "text/plain": [
              "False    308934\n",
              "True     117406\n",
              "dtype: int64"
            ]
          },
          "metadata": {},
          "execution_count": 5
        }
      ]
    },
    {
      "cell_type": "code",
      "source": [
        "train_unique = train.drop_duplicates(keep ='first')\n",
        "train_unique.duplicated().value_counts()"
      ],
      "metadata": {
        "execution": {
          "iopub.status.busy": "2022-03-04T08:11:07.013772Z",
          "iopub.execute_input": "2022-03-04T08:11:07.014090Z",
          "iopub.status.idle": "2022-03-04T08:11:08.188570Z",
          "shell.execute_reply.started": "2022-03-04T08:11:07.014049Z",
          "shell.execute_reply": "2022-03-04T08:11:08.187803Z"
        },
        "trusted": true,
        "colab": {
          "base_uri": "https://localhost:8080/"
        },
        "id": "rUAHJk_ymhw4",
        "outputId": "959e3ca8-81f9-4fda-efd6-02ec2e99fbc0"
      },
      "execution_count": null,
      "outputs": [
        {
          "output_type": "execute_result",
          "data": {
            "text/plain": [
              "False    308934\n",
              "dtype: int64"
            ]
          },
          "metadata": {},
          "execution_count": 6
        }
      ]
    },
    {
      "cell_type": "code",
      "source": [
        "def data_cleanup(sentence):\n",
        "    \n",
        "    # writing to lower case\n",
        "    sentence = sentence.lower()\n",
        "    \n",
        "    # open contractions\n",
        "    sentence = re.sub(r\"won't\", \"will not\", sentence)\n",
        "    sentence = re.sub(r\"n't\", \" not\", sentence)\n",
        "    sentence = re.sub(r\"\\'re\", \" are\", sentence)\n",
        "    sentence = re.sub(r\"\\'s\", \"\", sentence)\n",
        "    sentence = re.sub(r\"\\'d\", \" would\", sentence)\n",
        "    sentence = re.sub(r\"\\'ll\", \" will\", sentence)\n",
        "    sentence = re.sub(r\"\\'ve\", \" have\", sentence)\n",
        "    sentence = re.sub(r\"\\'m\", \" am\", sentence)\n",
        "    \n",
        "    # remove HTML tags\n",
        "    sentence = re.sub(r\"<.*?>\",' ',sentence)\n",
        "    \n",
        "    # remove punctuations\n",
        "    sentence = re.sub(r\"[^a-zA-Z]\",' ',sentence)\n",
        "    \n",
        "    # remove words with numbers\n",
        "    sentence = re.sub(r\"\\S*\\d\\S*\",' ',sentence).strip()\n",
        "    \n",
        "    # remove URLs\n",
        "    sentence = re.sub(r\"http\\S+\", \" \", sentence)\n",
        "    sentence = re.sub(r\"www.\\S+\", \" \", sentence)\n",
        "    \n",
        "    \n",
        "    \n",
        "    return sentence"
      ],
      "metadata": {
        "execution": {
          "iopub.status.busy": "2022-03-04T08:11:08.189655Z",
          "iopub.execute_input": "2022-03-04T08:11:08.190625Z",
          "iopub.status.idle": "2022-03-04T08:11:08.201790Z",
          "shell.execute_reply.started": "2022-03-04T08:11:08.190553Z",
          "shell.execute_reply": "2022-03-04T08:11:08.200150Z"
        },
        "trusted": true,
        "id": "5kdayfZtmhw4"
      },
      "execution_count": null,
      "outputs": []
    },
    {
      "cell_type": "code",
      "source": [
        "train_unique['clean_reviews'] = train_unique['Review_text'].apply(data_cleanup)"
      ],
      "metadata": {
        "execution": {
          "iopub.status.busy": "2022-03-04T08:11:08.203834Z",
          "iopub.execute_input": "2022-03-04T08:11:08.204098Z",
          "iopub.status.idle": "2022-03-04T08:11:43.023067Z",
          "shell.execute_reply.started": "2022-03-04T08:11:08.204068Z",
          "shell.execute_reply": "2022-03-04T08:11:43.022315Z"
        },
        "trusted": true,
        "colab": {
          "base_uri": "https://localhost:8080/"
        },
        "id": "bZbgHswmmhw5",
        "outputId": "3387eb3c-6cc4-4be8-f7da-6e834ae40eb7"
      },
      "execution_count": null,
      "outputs": [
        {
          "output_type": "stream",
          "name": "stderr",
          "text": [
            "/usr/local/lib/python3.7/dist-packages/ipykernel_launcher.py:1: SettingWithCopyWarning: \n",
            "A value is trying to be set on a copy of a slice from a DataFrame.\n",
            "Try using .loc[row_indexer,col_indexer] = value instead\n",
            "\n",
            "See the caveats in the documentation: https://pandas.pydata.org/pandas-docs/stable/user_guide/indexing.html#returning-a-view-versus-a-copy\n",
            "  \"\"\"Entry point for launching an IPython kernel.\n"
          ]
        }
      ]
    },
    {
      "cell_type": "code",
      "source": [
        "#defining the function to remove punctuation\n",
        "# def remove_punctuation(text):\n",
        "#     punctuationfree=\"\".join([i for i in text if i not in string.punctuation])\n",
        "#     return punctuationfree\n",
        "# #storing the puntuation free text\n",
        "# data['clean_msg']= data['v2'].apply(lambda x:remove_punctuation(x))\n",
        "# data.head()"
      ],
      "metadata": {
        "execution": {
          "iopub.status.busy": "2022-03-04T08:11:43.023995Z",
          "iopub.execute_input": "2022-03-04T08:11:43.024907Z",
          "iopub.status.idle": "2022-03-04T08:11:43.029482Z",
          "shell.execute_reply.started": "2022-03-04T08:11:43.024842Z",
          "shell.execute_reply": "2022-03-04T08:11:43.028494Z"
        },
        "trusted": true,
        "id": "HGZKqKCzmhw5"
      },
      "execution_count": null,
      "outputs": []
    },
    {
      "cell_type": "code",
      "source": [
        "train_unique.head()"
      ],
      "metadata": {
        "execution": {
          "iopub.status.busy": "2022-03-04T08:11:43.030739Z",
          "iopub.execute_input": "2022-03-04T08:11:43.030955Z",
          "iopub.status.idle": "2022-03-04T08:11:43.055822Z",
          "shell.execute_reply.started": "2022-03-04T08:11:43.030927Z",
          "shell.execute_reply": "2022-03-04T08:11:43.054431Z"
        },
        "trusted": true,
        "colab": {
          "base_uri": "https://localhost:8080/",
          "height": 206
        },
        "id": "RPWcvWvSmhw5",
        "outputId": "2e8f6a9e-2734-423f-d1cb-4e4260a9bc07"
      },
      "execution_count": null,
      "outputs": [
        {
          "output_type": "execute_result",
          "data": {
            "text/plain": [
              "   Score                                        Review_text  \\\n",
              "0      5  I received this product early from the seller!...   \n",
              "1      5  *****<br />Numi's Collection Assortment Melang...   \n",
              "2      5  I was very careful not to overcook this pasta,...   \n",
              "3      5  Buying this multi-pack I was misled by the pic...   \n",
              "4      5  These bars are so good! I loved them warmed up...   \n",
              "\n",
              "                                       clean_reviews  \n",
              "0  i received this product early from the seller ...  \n",
              "1  numi collection assortment melange includes   ...  \n",
              "2  i was very careful not to overcook this pasta ...  \n",
              "3  buying this multi pack i was misled by the pic...  \n",
              "4  these bars are so good  i loved them warmed up...  "
            ],
            "text/html": [
              "\n",
              "  <div id=\"df-5f96d3b6-cacc-448f-85d1-154e3e83637f\">\n",
              "    <div class=\"colab-df-container\">\n",
              "      <div>\n",
              "<style scoped>\n",
              "    .dataframe tbody tr th:only-of-type {\n",
              "        vertical-align: middle;\n",
              "    }\n",
              "\n",
              "    .dataframe tbody tr th {\n",
              "        vertical-align: top;\n",
              "    }\n",
              "\n",
              "    .dataframe thead th {\n",
              "        text-align: right;\n",
              "    }\n",
              "</style>\n",
              "<table border=\"1\" class=\"dataframe\">\n",
              "  <thead>\n",
              "    <tr style=\"text-align: right;\">\n",
              "      <th></th>\n",
              "      <th>Score</th>\n",
              "      <th>Review_text</th>\n",
              "      <th>clean_reviews</th>\n",
              "    </tr>\n",
              "  </thead>\n",
              "  <tbody>\n",
              "    <tr>\n",
              "      <th>0</th>\n",
              "      <td>5</td>\n",
              "      <td>I received this product early from the seller!...</td>\n",
              "      <td>i received this product early from the seller ...</td>\n",
              "    </tr>\n",
              "    <tr>\n",
              "      <th>1</th>\n",
              "      <td>5</td>\n",
              "      <td>*****&lt;br /&gt;Numi's Collection Assortment Melang...</td>\n",
              "      <td>numi collection assortment melange includes   ...</td>\n",
              "    </tr>\n",
              "    <tr>\n",
              "      <th>2</th>\n",
              "      <td>5</td>\n",
              "      <td>I was very careful not to overcook this pasta,...</td>\n",
              "      <td>i was very careful not to overcook this pasta ...</td>\n",
              "    </tr>\n",
              "    <tr>\n",
              "      <th>3</th>\n",
              "      <td>5</td>\n",
              "      <td>Buying this multi-pack I was misled by the pic...</td>\n",
              "      <td>buying this multi pack i was misled by the pic...</td>\n",
              "    </tr>\n",
              "    <tr>\n",
              "      <th>4</th>\n",
              "      <td>5</td>\n",
              "      <td>These bars are so good! I loved them warmed up...</td>\n",
              "      <td>these bars are so good  i loved them warmed up...</td>\n",
              "    </tr>\n",
              "  </tbody>\n",
              "</table>\n",
              "</div>\n",
              "      <button class=\"colab-df-convert\" onclick=\"convertToInteractive('df-5f96d3b6-cacc-448f-85d1-154e3e83637f')\"\n",
              "              title=\"Convert this dataframe to an interactive table.\"\n",
              "              style=\"display:none;\">\n",
              "        \n",
              "  <svg xmlns=\"http://www.w3.org/2000/svg\" height=\"24px\"viewBox=\"0 0 24 24\"\n",
              "       width=\"24px\">\n",
              "    <path d=\"M0 0h24v24H0V0z\" fill=\"none\"/>\n",
              "    <path d=\"M18.56 5.44l.94 2.06.94-2.06 2.06-.94-2.06-.94-.94-2.06-.94 2.06-2.06.94zm-11 1L8.5 8.5l.94-2.06 2.06-.94-2.06-.94L8.5 2.5l-.94 2.06-2.06.94zm10 10l.94 2.06.94-2.06 2.06-.94-2.06-.94-.94-2.06-.94 2.06-2.06.94z\"/><path d=\"M17.41 7.96l-1.37-1.37c-.4-.4-.92-.59-1.43-.59-.52 0-1.04.2-1.43.59L10.3 9.45l-7.72 7.72c-.78.78-.78 2.05 0 2.83L4 21.41c.39.39.9.59 1.41.59.51 0 1.02-.2 1.41-.59l7.78-7.78 2.81-2.81c.8-.78.8-2.07 0-2.86zM5.41 20L4 18.59l7.72-7.72 1.47 1.35L5.41 20z\"/>\n",
              "  </svg>\n",
              "      </button>\n",
              "      \n",
              "  <style>\n",
              "    .colab-df-container {\n",
              "      display:flex;\n",
              "      flex-wrap:wrap;\n",
              "      gap: 12px;\n",
              "    }\n",
              "\n",
              "    .colab-df-convert {\n",
              "      background-color: #E8F0FE;\n",
              "      border: none;\n",
              "      border-radius: 50%;\n",
              "      cursor: pointer;\n",
              "      display: none;\n",
              "      fill: #1967D2;\n",
              "      height: 32px;\n",
              "      padding: 0 0 0 0;\n",
              "      width: 32px;\n",
              "    }\n",
              "\n",
              "    .colab-df-convert:hover {\n",
              "      background-color: #E2EBFA;\n",
              "      box-shadow: 0px 1px 2px rgba(60, 64, 67, 0.3), 0px 1px 3px 1px rgba(60, 64, 67, 0.15);\n",
              "      fill: #174EA6;\n",
              "    }\n",
              "\n",
              "    [theme=dark] .colab-df-convert {\n",
              "      background-color: #3B4455;\n",
              "      fill: #D2E3FC;\n",
              "    }\n",
              "\n",
              "    [theme=dark] .colab-df-convert:hover {\n",
              "      background-color: #434B5C;\n",
              "      box-shadow: 0px 1px 3px 1px rgba(0, 0, 0, 0.15);\n",
              "      filter: drop-shadow(0px 1px 2px rgba(0, 0, 0, 0.3));\n",
              "      fill: #FFFFFF;\n",
              "    }\n",
              "  </style>\n",
              "\n",
              "      <script>\n",
              "        const buttonEl =\n",
              "          document.querySelector('#df-5f96d3b6-cacc-448f-85d1-154e3e83637f button.colab-df-convert');\n",
              "        buttonEl.style.display =\n",
              "          google.colab.kernel.accessAllowed ? 'block' : 'none';\n",
              "\n",
              "        async function convertToInteractive(key) {\n",
              "          const element = document.querySelector('#df-5f96d3b6-cacc-448f-85d1-154e3e83637f');\n",
              "          const dataTable =\n",
              "            await google.colab.kernel.invokeFunction('convertToInteractive',\n",
              "                                                     [key], {});\n",
              "          if (!dataTable) return;\n",
              "\n",
              "          const docLinkHtml = 'Like what you see? Visit the ' +\n",
              "            '<a target=\"_blank\" href=https://colab.research.google.com/notebooks/data_table.ipynb>data table notebook</a>'\n",
              "            + ' to learn more about interactive tables.';\n",
              "          element.innerHTML = '';\n",
              "          dataTable['output_type'] = 'display_data';\n",
              "          await google.colab.output.renderOutput(dataTable, element);\n",
              "          const docLink = document.createElement('div');\n",
              "          docLink.innerHTML = docLinkHtml;\n",
              "          element.appendChild(docLink);\n",
              "        }\n",
              "      </script>\n",
              "    </div>\n",
              "  </div>\n",
              "  "
            ]
          },
          "metadata": {},
          "execution_count": 14
        }
      ]
    },
    {
      "cell_type": "markdown",
      "source": [
        "# Tokenisation"
      ],
      "metadata": {
        "id": "spdP9vStmhw6"
      }
    },
    {
      "cell_type": "code",
      "source": [
        "# spacy\n",
        "from spacy.lang.en import English\n",
        "vocab = English()\n",
        "\n",
        "# Create a Tokenizer with the default settings for English\n",
        "# does NOT need modifications since the text is written using natural English\n",
        "tokenizer = vocab.tokenizer\n",
        "# nlp = spacy.load(\"en_core_web_sm\", exclude=[\"parser\", \"ner\", \"attrbute_ruler\"])\n",
        "\n",
        "start_time = time.time()\n",
        "# apply tokenizer\n",
        "train_unique['spacy_tokens'] = train_unique['clean_reviews'].apply(tokenizer)\n",
        "\n",
        "print(\"Time taken to run Spacy tokenisation (converting to spacy tokens) is \", time.time() - start_time, \" ms\")\n"
      ],
      "metadata": {
        "execution": {
          "iopub.status.busy": "2022-03-04T08:11:43.057764Z",
          "iopub.execute_input": "2022-03-04T08:11:43.058212Z",
          "iopub.status.idle": "2022-03-04T08:13:15.293740Z",
          "shell.execute_reply.started": "2022-03-04T08:11:43.058177Z",
          "shell.execute_reply": "2022-03-04T08:13:15.292563Z"
        },
        "trusted": true,
        "colab": {
          "base_uri": "https://localhost:8080/"
        },
        "id": "0t5MqLMfmhw6",
        "outputId": "14e4db63-5341-4599-b1d7-1a77e15f1c98"
      },
      "execution_count": null,
      "outputs": [
        {
          "output_type": "stream",
          "name": "stdout",
          "text": [
            "Time taken to run Spacy tokenisation (converting to spacy tokens) is  48.038718938827515  ms\n"
          ]
        },
        {
          "output_type": "stream",
          "name": "stderr",
          "text": [
            "/usr/local/lib/python3.7/dist-packages/ipykernel_launcher.py:12: SettingWithCopyWarning: \n",
            "A value is trying to be set on a copy of a slice from a DataFrame.\n",
            "Try using .loc[row_indexer,col_indexer] = value instead\n",
            "\n",
            "See the caveats in the documentation: https://pandas.pydata.org/pandas-docs/stable/user_guide/indexing.html#returning-a-view-versus-a-copy\n",
            "  if sys.path[0] == '':\n"
          ]
        }
      ]
    },
    {
      "cell_type": "code",
      "source": [
        "train_unique.head()"
      ],
      "metadata": {
        "execution": {
          "iopub.status.busy": "2022-03-04T08:13:15.295460Z",
          "iopub.execute_input": "2022-03-04T08:13:15.295733Z",
          "iopub.status.idle": "2022-03-04T08:13:15.316023Z",
          "shell.execute_reply.started": "2022-03-04T08:13:15.295683Z",
          "shell.execute_reply": "2022-03-04T08:13:15.314814Z"
        },
        "trusted": true,
        "colab": {
          "base_uri": "https://localhost:8080/"
        },
        "id": "3OA5C4xkmhw6",
        "outputId": "4ecf206a-5c79-4c9d-e9d5-c31a18fec0b4"
      },
      "execution_count": null,
      "outputs": [
        {
          "output_type": "execute_result",
          "data": {
            "text/html": [
              "\n",
              "  <div id=\"df-5c66a1ea-c9dc-413b-8d7c-4a6aabbae6e9\">\n",
              "    <div class=\"colab-df-container\">\n",
              "      <div>\n",
              "<style scoped>\n",
              "    .dataframe tbody tr th:only-of-type {\n",
              "        vertical-align: middle;\n",
              "    }\n",
              "\n",
              "    .dataframe tbody tr th {\n",
              "        vertical-align: top;\n",
              "    }\n",
              "\n",
              "    .dataframe thead th {\n",
              "        text-align: right;\n",
              "    }\n",
              "</style>\n",
              "<table border=\"1\" class=\"dataframe\">\n",
              "  <thead>\n",
              "    <tr style=\"text-align: right;\">\n",
              "      <th></th>\n",
              "      <th>Score</th>\n",
              "      <th>Review_text</th>\n",
              "      <th>clean_reviews</th>\n",
              "      <th>spacy_tokens</th>\n",
              "    </tr>\n",
              "  </thead>\n",
              "  <tbody>\n",
              "    <tr>\n",
              "      <th>0</th>\n",
              "      <td>5</td>\n",
              "      <td>I received this product early from the seller!...</td>\n",
              "      <td>i received this product early from the seller ...</td>\n",
              "      <td>(i, received, this, product, early, from, the,...</td>\n",
              "    </tr>\n",
              "    <tr>\n",
              "      <th>1</th>\n",
              "      <td>5</td>\n",
              "      <td>*****&lt;br /&gt;Numi's Collection Assortment Melang...</td>\n",
              "      <td>numi s collection assortment melange includes ...</td>\n",
              "      <td>(numi, s, collection, assortment, melange, inc...</td>\n",
              "    </tr>\n",
              "    <tr>\n",
              "      <th>2</th>\n",
              "      <td>5</td>\n",
              "      <td>I was very careful not to overcook this pasta,...</td>\n",
              "      <td>i was very careful not to overcook this pasta ...</td>\n",
              "      <td>(i, was, very, careful, not, to, overcook, thi...</td>\n",
              "    </tr>\n",
              "    <tr>\n",
              "      <th>3</th>\n",
              "      <td>5</td>\n",
              "      <td>Buying this multi-pack I was misled by the pic...</td>\n",
              "      <td>buying this multi pack i was misled by the pic...</td>\n",
              "      <td>(buying, this, multi, pack, i, was, misled, by...</td>\n",
              "    </tr>\n",
              "    <tr>\n",
              "      <th>4</th>\n",
              "      <td>5</td>\n",
              "      <td>These bars are so good! I loved them warmed up...</td>\n",
              "      <td>these bars are so good  i loved them warmed up...</td>\n",
              "      <td>(these, bars, are, so, good,  , i, loved, them...</td>\n",
              "    </tr>\n",
              "  </tbody>\n",
              "</table>\n",
              "</div>\n",
              "      <button class=\"colab-df-convert\" onclick=\"convertToInteractive('df-5c66a1ea-c9dc-413b-8d7c-4a6aabbae6e9')\"\n",
              "              title=\"Convert this dataframe to an interactive table.\"\n",
              "              style=\"display:none;\">\n",
              "        \n",
              "  <svg xmlns=\"http://www.w3.org/2000/svg\" height=\"24px\"viewBox=\"0 0 24 24\"\n",
              "       width=\"24px\">\n",
              "    <path d=\"M0 0h24v24H0V0z\" fill=\"none\"/>\n",
              "    <path d=\"M18.56 5.44l.94 2.06.94-2.06 2.06-.94-2.06-.94-.94-2.06-.94 2.06-2.06.94zm-11 1L8.5 8.5l.94-2.06 2.06-.94-2.06-.94L8.5 2.5l-.94 2.06-2.06.94zm10 10l.94 2.06.94-2.06 2.06-.94-2.06-.94-.94-2.06-.94 2.06-2.06.94z\"/><path d=\"M17.41 7.96l-1.37-1.37c-.4-.4-.92-.59-1.43-.59-.52 0-1.04.2-1.43.59L10.3 9.45l-7.72 7.72c-.78.78-.78 2.05 0 2.83L4 21.41c.39.39.9.59 1.41.59.51 0 1.02-.2 1.41-.59l7.78-7.78 2.81-2.81c.8-.78.8-2.07 0-2.86zM5.41 20L4 18.59l7.72-7.72 1.47 1.35L5.41 20z\"/>\n",
              "  </svg>\n",
              "      </button>\n",
              "      \n",
              "  <style>\n",
              "    .colab-df-container {\n",
              "      display:flex;\n",
              "      flex-wrap:wrap;\n",
              "      gap: 12px;\n",
              "    }\n",
              "\n",
              "    .colab-df-convert {\n",
              "      background-color: #E8F0FE;\n",
              "      border: none;\n",
              "      border-radius: 50%;\n",
              "      cursor: pointer;\n",
              "      display: none;\n",
              "      fill: #1967D2;\n",
              "      height: 32px;\n",
              "      padding: 0 0 0 0;\n",
              "      width: 32px;\n",
              "    }\n",
              "\n",
              "    .colab-df-convert:hover {\n",
              "      background-color: #E2EBFA;\n",
              "      box-shadow: 0px 1px 2px rgba(60, 64, 67, 0.3), 0px 1px 3px 1px rgba(60, 64, 67, 0.15);\n",
              "      fill: #174EA6;\n",
              "    }\n",
              "\n",
              "    [theme=dark] .colab-df-convert {\n",
              "      background-color: #3B4455;\n",
              "      fill: #D2E3FC;\n",
              "    }\n",
              "\n",
              "    [theme=dark] .colab-df-convert:hover {\n",
              "      background-color: #434B5C;\n",
              "      box-shadow: 0px 1px 3px 1px rgba(0, 0, 0, 0.15);\n",
              "      filter: drop-shadow(0px 1px 2px rgba(0, 0, 0, 0.3));\n",
              "      fill: #FFFFFF;\n",
              "    }\n",
              "  </style>\n",
              "\n",
              "      <script>\n",
              "        const buttonEl =\n",
              "          document.querySelector('#df-5c66a1ea-c9dc-413b-8d7c-4a6aabbae6e9 button.colab-df-convert');\n",
              "        buttonEl.style.display =\n",
              "          google.colab.kernel.accessAllowed ? 'block' : 'none';\n",
              "\n",
              "        async function convertToInteractive(key) {\n",
              "          const element = document.querySelector('#df-5c66a1ea-c9dc-413b-8d7c-4a6aabbae6e9');\n",
              "          const dataTable =\n",
              "            await google.colab.kernel.invokeFunction('convertToInteractive',\n",
              "                                                     [key], {});\n",
              "          if (!dataTable) return;\n",
              "\n",
              "          const docLinkHtml = 'Like what you see? Visit the ' +\n",
              "            '<a target=\"_blank\" href=https://colab.research.google.com/notebooks/data_table.ipynb>data table notebook</a>'\n",
              "            + ' to learn more about interactive tables.';\n",
              "          element.innerHTML = '';\n",
              "          dataTable['output_type'] = 'display_data';\n",
              "          await google.colab.output.renderOutput(dataTable, element);\n",
              "          const docLink = document.createElement('div');\n",
              "          docLink.innerHTML = docLinkHtml;\n",
              "          element.appendChild(docLink);\n",
              "        }\n",
              "      </script>\n",
              "    </div>\n",
              "  </div>\n",
              "  "
            ],
            "text/plain": [
              "   Score                                        Review_text  \\\n",
              "0      5  I received this product early from the seller!...   \n",
              "1      5  *****<br />Numi's Collection Assortment Melang...   \n",
              "2      5  I was very careful not to overcook this pasta,...   \n",
              "3      5  Buying this multi-pack I was misled by the pic...   \n",
              "4      5  These bars are so good! I loved them warmed up...   \n",
              "\n",
              "                                       clean_reviews  \\\n",
              "0  i received this product early from the seller ...   \n",
              "1  numi s collection assortment melange includes ...   \n",
              "2  i was very careful not to overcook this pasta ...   \n",
              "3  buying this multi pack i was misled by the pic...   \n",
              "4  these bars are so good  i loved them warmed up...   \n",
              "\n",
              "                                        spacy_tokens  \n",
              "0  (i, received, this, product, early, from, the,...  \n",
              "1  (numi, s, collection, assortment, melange, inc...  \n",
              "2  (i, was, very, careful, not, to, overcook, thi...  \n",
              "3  (buying, this, multi, pack, i, was, misled, by...  \n",
              "4  (these, bars, are, so, good,  , i, loved, them...  "
            ]
          },
          "metadata": {},
          "execution_count": 21
        }
      ]
    },
    {
      "cell_type": "code",
      "source": [
        "# nltk\n",
        "import nltk\n",
        "nltk.download('punkt')\n",
        "\n",
        "start_time = time.time()\n",
        "\n",
        "# apply tokenizer\n",
        "train_unique['nltk_tokens'] = train_unique['clean_reviews'].apply(nltk.word_tokenize)\n",
        "\n",
        "print(\"Time taken to run NLTK tokenisation is \", time.time() - start_time, \" ms\")\n",
        "\n",
        "train_unique.head()"
      ],
      "metadata": {
        "execution": {
          "iopub.status.busy": "2022-03-04T08:13:15.317810Z",
          "iopub.execute_input": "2022-03-04T08:13:15.318540Z",
          "iopub.status.idle": "2022-03-04T08:17:35.795889Z",
          "shell.execute_reply.started": "2022-03-04T08:13:15.318508Z",
          "shell.execute_reply": "2022-03-04T08:17:35.793877Z"
        },
        "trusted": true,
        "colab": {
          "base_uri": "https://localhost:8080/",
          "height": 362
        },
        "id": "va64hegFmhw7",
        "outputId": "e08cdf02-661e-48a2-f792-68df8f323cc3"
      },
      "execution_count": null,
      "outputs": [
        {
          "output_type": "stream",
          "name": "stdout",
          "text": [
            "[nltk_data] Downloading package punkt to /root/nltk_data...\n",
            "[nltk_data]   Unzipping tokenizers/punkt.zip.\n",
            "Time taken to run NLTK tokenisation is  78.10921478271484  ms\n"
          ]
        },
        {
          "output_type": "stream",
          "name": "stderr",
          "text": [
            "/usr/local/lib/python3.7/dist-packages/ipykernel_launcher.py:8: SettingWithCopyWarning: \n",
            "A value is trying to be set on a copy of a slice from a DataFrame.\n",
            "Try using .loc[row_indexer,col_indexer] = value instead\n",
            "\n",
            "See the caveats in the documentation: https://pandas.pydata.org/pandas-docs/stable/user_guide/indexing.html#returning-a-view-versus-a-copy\n",
            "  \n"
          ]
        },
        {
          "output_type": "execute_result",
          "data": {
            "text/plain": [
              "   Score                                        Review_text  \\\n",
              "0      5  I received this product early from the seller!...   \n",
              "1      5  *****<br />Numi's Collection Assortment Melang...   \n",
              "2      5  I was very careful not to overcook this pasta,...   \n",
              "3      5  Buying this multi-pack I was misled by the pic...   \n",
              "4      5  These bars are so good! I loved them warmed up...   \n",
              "\n",
              "                                       clean_reviews  \\\n",
              "0  i received this product early from the seller ...   \n",
              "1  numi collection assortment melange includes   ...   \n",
              "2  i was very careful not to overcook this pasta ...   \n",
              "3  buying this multi pack i was misled by the pic...   \n",
              "4  these bars are so good  i loved them warmed up...   \n",
              "\n",
              "                                              tokens  \\\n",
              "0  [2, 309, 9, 37, 1485, 46, 1, 745, 21, 19, 4, 3...   \n",
              "1  [2268, 2593, 1761, 13341, 2202, 1274, 406, 550...   \n",
              "2  [2, 20, 34, 1087, 10, 6, 6291, 9, 370, 338, 20...   \n",
              "3  [226, 9, 2427, 191, 2, 20, 10547, 91, 1, 914, ...   \n",
              "4  [28, 277, 19, 25, 26, 2, 297, 29, 3676, 65, 2,...   \n",
              "\n",
              "                                         nltk_tokens  \n",
              "0  [i, received, this, product, early, from, the,...  \n",
              "1  [numi, collection, assortment, melange, includ...  \n",
              "2  [i, was, very, careful, not, to, overcook, thi...  \n",
              "3  [buying, this, multi, pack, i, was, misled, by...  \n",
              "4  [these, bars, are, so, good, i, loved, them, w...  "
            ],
            "text/html": [
              "\n",
              "  <div id=\"df-2f278636-4769-4319-9a40-7f0c1f98fd52\">\n",
              "    <div class=\"colab-df-container\">\n",
              "      <div>\n",
              "<style scoped>\n",
              "    .dataframe tbody tr th:only-of-type {\n",
              "        vertical-align: middle;\n",
              "    }\n",
              "\n",
              "    .dataframe tbody tr th {\n",
              "        vertical-align: top;\n",
              "    }\n",
              "\n",
              "    .dataframe thead th {\n",
              "        text-align: right;\n",
              "    }\n",
              "</style>\n",
              "<table border=\"1\" class=\"dataframe\">\n",
              "  <thead>\n",
              "    <tr style=\"text-align: right;\">\n",
              "      <th></th>\n",
              "      <th>Score</th>\n",
              "      <th>Review_text</th>\n",
              "      <th>clean_reviews</th>\n",
              "      <th>tokens</th>\n",
              "      <th>nltk_tokens</th>\n",
              "    </tr>\n",
              "  </thead>\n",
              "  <tbody>\n",
              "    <tr>\n",
              "      <th>0</th>\n",
              "      <td>5</td>\n",
              "      <td>I received this product early from the seller!...</td>\n",
              "      <td>i received this product early from the seller ...</td>\n",
              "      <td>[2, 309, 9, 37, 1485, 46, 1, 745, 21, 19, 4, 3...</td>\n",
              "      <td>[i, received, this, product, early, from, the,...</td>\n",
              "    </tr>\n",
              "    <tr>\n",
              "      <th>1</th>\n",
              "      <td>5</td>\n",
              "      <td>*****&lt;br /&gt;Numi's Collection Assortment Melang...</td>\n",
              "      <td>numi collection assortment melange includes   ...</td>\n",
              "      <td>[2268, 2593, 1761, 13341, 2202, 1274, 406, 550...</td>\n",
              "      <td>[numi, collection, assortment, melange, includ...</td>\n",
              "    </tr>\n",
              "    <tr>\n",
              "      <th>2</th>\n",
              "      <td>5</td>\n",
              "      <td>I was very careful not to overcook this pasta,...</td>\n",
              "      <td>i was very careful not to overcook this pasta ...</td>\n",
              "      <td>[2, 20, 34, 1087, 10, 6, 6291, 9, 370, 338, 20...</td>\n",
              "      <td>[i, was, very, careful, not, to, overcook, thi...</td>\n",
              "    </tr>\n",
              "    <tr>\n",
              "      <th>3</th>\n",
              "      <td>5</td>\n",
              "      <td>Buying this multi-pack I was misled by the pic...</td>\n",
              "      <td>buying this multi pack i was misled by the pic...</td>\n",
              "      <td>[226, 9, 2427, 191, 2, 20, 10547, 91, 1, 914, ...</td>\n",
              "      <td>[buying, this, multi, pack, i, was, misled, by...</td>\n",
              "    </tr>\n",
              "    <tr>\n",
              "      <th>4</th>\n",
              "      <td>5</td>\n",
              "      <td>These bars are so good! I loved them warmed up...</td>\n",
              "      <td>these bars are so good  i loved them warmed up...</td>\n",
              "      <td>[28, 277, 19, 25, 26, 2, 297, 29, 3676, 65, 2,...</td>\n",
              "      <td>[these, bars, are, so, good, i, loved, them, w...</td>\n",
              "    </tr>\n",
              "  </tbody>\n",
              "</table>\n",
              "</div>\n",
              "      <button class=\"colab-df-convert\" onclick=\"convertToInteractive('df-2f278636-4769-4319-9a40-7f0c1f98fd52')\"\n",
              "              title=\"Convert this dataframe to an interactive table.\"\n",
              "              style=\"display:none;\">\n",
              "        \n",
              "  <svg xmlns=\"http://www.w3.org/2000/svg\" height=\"24px\"viewBox=\"0 0 24 24\"\n",
              "       width=\"24px\">\n",
              "    <path d=\"M0 0h24v24H0V0z\" fill=\"none\"/>\n",
              "    <path d=\"M18.56 5.44l.94 2.06.94-2.06 2.06-.94-2.06-.94-.94-2.06-.94 2.06-2.06.94zm-11 1L8.5 8.5l.94-2.06 2.06-.94-2.06-.94L8.5 2.5l-.94 2.06-2.06.94zm10 10l.94 2.06.94-2.06 2.06-.94-2.06-.94-.94-2.06-.94 2.06-2.06.94z\"/><path d=\"M17.41 7.96l-1.37-1.37c-.4-.4-.92-.59-1.43-.59-.52 0-1.04.2-1.43.59L10.3 9.45l-7.72 7.72c-.78.78-.78 2.05 0 2.83L4 21.41c.39.39.9.59 1.41.59.51 0 1.02-.2 1.41-.59l7.78-7.78 2.81-2.81c.8-.78.8-2.07 0-2.86zM5.41 20L4 18.59l7.72-7.72 1.47 1.35L5.41 20z\"/>\n",
              "  </svg>\n",
              "      </button>\n",
              "      \n",
              "  <style>\n",
              "    .colab-df-container {\n",
              "      display:flex;\n",
              "      flex-wrap:wrap;\n",
              "      gap: 12px;\n",
              "    }\n",
              "\n",
              "    .colab-df-convert {\n",
              "      background-color: #E8F0FE;\n",
              "      border: none;\n",
              "      border-radius: 50%;\n",
              "      cursor: pointer;\n",
              "      display: none;\n",
              "      fill: #1967D2;\n",
              "      height: 32px;\n",
              "      padding: 0 0 0 0;\n",
              "      width: 32px;\n",
              "    }\n",
              "\n",
              "    .colab-df-convert:hover {\n",
              "      background-color: #E2EBFA;\n",
              "      box-shadow: 0px 1px 2px rgba(60, 64, 67, 0.3), 0px 1px 3px 1px rgba(60, 64, 67, 0.15);\n",
              "      fill: #174EA6;\n",
              "    }\n",
              "\n",
              "    [theme=dark] .colab-df-convert {\n",
              "      background-color: #3B4455;\n",
              "      fill: #D2E3FC;\n",
              "    }\n",
              "\n",
              "    [theme=dark] .colab-df-convert:hover {\n",
              "      background-color: #434B5C;\n",
              "      box-shadow: 0px 1px 3px 1px rgba(0, 0, 0, 0.15);\n",
              "      filter: drop-shadow(0px 1px 2px rgba(0, 0, 0, 0.3));\n",
              "      fill: #FFFFFF;\n",
              "    }\n",
              "  </style>\n",
              "\n",
              "      <script>\n",
              "        const buttonEl =\n",
              "          document.querySelector('#df-2f278636-4769-4319-9a40-7f0c1f98fd52 button.colab-df-convert');\n",
              "        buttonEl.style.display =\n",
              "          google.colab.kernel.accessAllowed ? 'block' : 'none';\n",
              "\n",
              "        async function convertToInteractive(key) {\n",
              "          const element = document.querySelector('#df-2f278636-4769-4319-9a40-7f0c1f98fd52');\n",
              "          const dataTable =\n",
              "            await google.colab.kernel.invokeFunction('convertToInteractive',\n",
              "                                                     [key], {});\n",
              "          if (!dataTable) return;\n",
              "\n",
              "          const docLinkHtml = 'Like what you see? Visit the ' +\n",
              "            '<a target=\"_blank\" href=https://colab.research.google.com/notebooks/data_table.ipynb>data table notebook</a>'\n",
              "            + ' to learn more about interactive tables.';\n",
              "          element.innerHTML = '';\n",
              "          dataTable['output_type'] = 'display_data';\n",
              "          await google.colab.output.renderOutput(dataTable, element);\n",
              "          const docLink = document.createElement('div');\n",
              "          docLink.innerHTML = docLinkHtml;\n",
              "          element.appendChild(docLink);\n",
              "        }\n",
              "      </script>\n",
              "    </div>\n",
              "  </div>\n",
              "  "
            ]
          },
          "metadata": {},
          "execution_count": 31
        }
      ]
    },
    {
      "cell_type": "code",
      "source": [
        "print(\"Original Text\")\n",
        "print(train_unique.loc[4,'clean_reviews'])\n",
        "print(\"Spacy Tokens\")\n",
        "print(train_unique.loc[4,'spacy_tokens'])\n",
        "print(\"NLTK Tokens\")\n",
        "print(train_unique.loc[4,'nltk_tokens'])"
      ],
      "metadata": {
        "execution": {
          "iopub.status.busy": "2022-03-04T08:17:35.797436Z",
          "iopub.execute_input": "2022-03-04T08:17:35.797742Z",
          "iopub.status.idle": "2022-03-04T08:17:35.830317Z",
          "shell.execute_reply.started": "2022-03-04T08:17:35.797677Z",
          "shell.execute_reply": "2022-03-04T08:17:35.828810Z"
        },
        "trusted": true,
        "colab": {
          "base_uri": "https://localhost:8080/"
        },
        "id": "d6f7ozGLmhw7",
        "outputId": "cd659e5a-1ba5-488f-ff8e-3a5ed36429b6"
      },
      "execution_count": null,
      "outputs": [
        {
          "output_type": "stream",
          "name": "stdout",
          "text": [
            "Original Text\n",
            "these bars are so good  i loved them warmed up  i definitely think these are a great snack or breakfast  i received this product for free from influenster  yum\n",
            "Spacy Tokens\n",
            "these bars are so good  i loved them warmed up  i definitely think these are a great snack or breakfast  i received this product for free from influenster  yum\n",
            "NLTK Tokens\n",
            "['these', 'bars', 'are', 'so', 'good', 'i', 'loved', 'them', 'warmed', 'up', 'i', 'definitely', 'think', 'these', 'are', 'a', 'great', 'snack', 'or', 'breakfast', 'i', 'received', 'this', 'product', 'for', 'free', 'from', 'influenster', 'yum']\n"
          ]
        }
      ]
    },
    {
      "cell_type": "markdown",
      "source": [
        "Spacy tokenizes the extra spaces while NLTK skips them - > NLTK > Spacy"
      ],
      "metadata": {
        "id": "5z-0LPcZmhw7"
      }
    },
    {
      "cell_type": "markdown",
      "source": [
        "# Stop word removals"
      ],
      "metadata": {
        "id": "axr-3iTgmhw7"
      }
    },
    {
      "cell_type": "code",
      "source": [
        "from nltk.corpus import stopwords\n",
        "nltk.download('stopwords')\n",
        "\n",
        "spacy_stopwords = spacy.lang.en.stop_words.STOP_WORDS\n",
        "nltk_stopwords = set(stopwords.words('english'))\n",
        "common_stopwords = [word for word in spacy_stopwords if word in nltk_stopwords]\n",
        "print(\"There are\", len(common_stopwords), \" common stopwords\")\n",
        "print(common_stopwords)\n",
        "print()\n",
        "print(\"The unique stop words in Spacy are:\")\n",
        "print([word for word in spacy_stopwords if word not in nltk_stopwords])\n",
        "print(\"The unique stop words in NLTK are:\")\n",
        "print([word for word in nltk_stopwords if word not in spacy_stopwords])"
      ],
      "metadata": {
        "execution": {
          "iopub.status.busy": "2022-03-04T08:17:35.833293Z",
          "iopub.execute_input": "2022-03-04T08:17:35.833613Z",
          "iopub.status.idle": "2022-03-04T08:17:35.878216Z",
          "shell.execute_reply.started": "2022-03-04T08:17:35.833583Z",
          "shell.execute_reply": "2022-03-04T08:17:35.876327Z"
        },
        "trusted": true,
        "id": "LrEft7rymhw7"
      },
      "execution_count": null,
      "outputs": []
    },
    {
      "cell_type": "code",
      "source": [
        "# spacy\n",
        "def remove_stopwords(tokens):\n",
        "    return [token for token in tokens if not token.is_stop]\n",
        "    \n",
        "start_time = time.time()\n",
        "\n",
        "train_unique['spacy_tokens'] = train_unique['spacy_tokens'].apply(remove_stopwords)\n",
        "\n",
        "print(\"Time taken to remove stop words in Spacy is \", time.time() - start_time, \" ms\")\n"
      ],
      "metadata": {
        "execution": {
          "iopub.status.busy": "2022-03-04T08:17:35.880227Z",
          "iopub.execute_input": "2022-03-04T08:17:35.880551Z",
          "iopub.status.idle": "2022-03-04T08:17:59.008536Z",
          "shell.execute_reply.started": "2022-03-04T08:17:35.880508Z",
          "shell.execute_reply": "2022-03-04T08:17:59.008109Z"
        },
        "trusted": true,
        "id": "Tn2-W2i6mhw7"
      },
      "execution_count": null,
      "outputs": []
    },
    {
      "cell_type": "code",
      "source": [
        "# nltk\n",
        "from nltk.corpus import stopwords\n",
        "nltk.download('stopwords')\n",
        "stopwords = set(stopwords.words('english'))\n",
        "\n",
        "def remove_stopwords(tokens):\n",
        "    return [token for token in tokens if token not in stopwords]\n",
        "\n",
        "start_time = time.time()\n",
        "train_unique['nltk_tokens'] = train_unique['nltk_tokens'].apply(remove_stopwords)\n",
        "print(\"Time taken to remove stop words in NLTK is \", time.time() - start_time, \" ms\")\n"
      ],
      "metadata": {
        "execution": {
          "iopub.status.busy": "2022-03-04T08:17:59.009416Z",
          "iopub.execute_input": "2022-03-04T08:17:59.009842Z",
          "iopub.status.idle": "2022-03-04T08:18:06.397628Z",
          "shell.execute_reply.started": "2022-03-04T08:17:59.009819Z",
          "shell.execute_reply": "2022-03-04T08:18:06.396291Z"
        },
        "trusted": true,
        "colab": {
          "base_uri": "https://localhost:8080/"
        },
        "id": "6_c2uQRVmhw8",
        "outputId": "ca03f331-894b-4f8e-878a-79690dbd51da"
      },
      "execution_count": null,
      "outputs": [
        {
          "output_type": "stream",
          "name": "stdout",
          "text": [
            "[nltk_data] Downloading package stopwords to /root/nltk_data...\n",
            "[nltk_data]   Package stopwords is already up-to-date!\n",
            "Time taken to remove stop words in NLTK is  4.163117170333862  ms\n"
          ]
        },
        {
          "output_type": "stream",
          "name": "stderr",
          "text": [
            "/usr/local/lib/python3.7/dist-packages/ipykernel_launcher.py:10: SettingWithCopyWarning: \n",
            "A value is trying to be set on a copy of a slice from a DataFrame.\n",
            "Try using .loc[row_indexer,col_indexer] = value instead\n",
            "\n",
            "See the caveats in the documentation: https://pandas.pydata.org/pandas-docs/stable/user_guide/indexing.html#returning-a-view-versus-a-copy\n",
            "  # Remove the CWD from sys.path while we load stuff.\n"
          ]
        }
      ]
    },
    {
      "cell_type": "code",
      "source": [
        "train_unique.head()"
      ],
      "metadata": {
        "execution": {
          "iopub.status.busy": "2022-03-04T08:18:06.399215Z",
          "iopub.execute_input": "2022-03-04T08:18:06.399450Z",
          "iopub.status.idle": "2022-03-04T08:18:06.427282Z",
          "shell.execute_reply.started": "2022-03-04T08:18:06.399419Z",
          "shell.execute_reply": "2022-03-04T08:18:06.425635Z"
        },
        "trusted": true,
        "colab": {
          "base_uri": "https://localhost:8080/",
          "height": 206
        },
        "id": "VXye-K5mmhw8",
        "outputId": "72d99d1c-b824-47cc-879f-fa57faa12fff"
      },
      "execution_count": null,
      "outputs": [
        {
          "output_type": "execute_result",
          "data": {
            "text/plain": [
              "   Score                                        Review_text  \\\n",
              "0      5  I received this product early from the seller!...   \n",
              "1      5  *****<br />Numi's Collection Assortment Melang...   \n",
              "2      5  I was very careful not to overcook this pasta,...   \n",
              "3      5  Buying this multi-pack I was misled by the pic...   \n",
              "4      5  These bars are so good! I loved them warmed up...   \n",
              "\n",
              "                                       clean_reviews  \\\n",
              "0  i received this product early from the seller ...   \n",
              "1  numi collection assortment melange includes   ...   \n",
              "2  i was very careful not to overcook this pasta ...   \n",
              "3  buying this multi pack i was misled by the pic...   \n",
              "4  these bars are so good  i loved them warmed up...   \n",
              "\n",
              "                                              tokens  \\\n",
              "0  [2, 309, 9, 37, 1485, 46, 1, 745, 21, 19, 4, 3...   \n",
              "1  [2268, 2593, 1761, 13341, 2202, 1274, 406, 550...   \n",
              "2  [2, 20, 34, 1087, 10, 6, 6291, 9, 370, 338, 20...   \n",
              "3  [226, 9, 2427, 191, 2, 20, 10547, 91, 1, 914, ...   \n",
              "4  [28, 277, 19, 25, 26, 2, 297, 29, 3676, 65, 2,...   \n",
              "\n",
              "                                         nltk_tokens  \n",
              "0  [received, product, early, seller, tastey, gre...  \n",
              "1  [numi, collection, assortment, melange, includ...  \n",
              "2  [careful, overcook, pasta, making, sure, take,...  \n",
              "3  [buying, multi, pack, misled, picture, whole, ...  \n",
              "4  [bars, good, loved, warmed, definitely, think,...  "
            ],
            "text/html": [
              "\n",
              "  <div id=\"df-cca7406d-cec7-48d1-821e-69cc1a8a7845\">\n",
              "    <div class=\"colab-df-container\">\n",
              "      <div>\n",
              "<style scoped>\n",
              "    .dataframe tbody tr th:only-of-type {\n",
              "        vertical-align: middle;\n",
              "    }\n",
              "\n",
              "    .dataframe tbody tr th {\n",
              "        vertical-align: top;\n",
              "    }\n",
              "\n",
              "    .dataframe thead th {\n",
              "        text-align: right;\n",
              "    }\n",
              "</style>\n",
              "<table border=\"1\" class=\"dataframe\">\n",
              "  <thead>\n",
              "    <tr style=\"text-align: right;\">\n",
              "      <th></th>\n",
              "      <th>Score</th>\n",
              "      <th>Review_text</th>\n",
              "      <th>clean_reviews</th>\n",
              "      <th>tokens</th>\n",
              "      <th>nltk_tokens</th>\n",
              "    </tr>\n",
              "  </thead>\n",
              "  <tbody>\n",
              "    <tr>\n",
              "      <th>0</th>\n",
              "      <td>5</td>\n",
              "      <td>I received this product early from the seller!...</td>\n",
              "      <td>i received this product early from the seller ...</td>\n",
              "      <td>[2, 309, 9, 37, 1485, 46, 1, 745, 21, 19, 4, 3...</td>\n",
              "      <td>[received, product, early, seller, tastey, gre...</td>\n",
              "    </tr>\n",
              "    <tr>\n",
              "      <th>1</th>\n",
              "      <td>5</td>\n",
              "      <td>*****&lt;br /&gt;Numi's Collection Assortment Melang...</td>\n",
              "      <td>numi collection assortment melange includes   ...</td>\n",
              "      <td>[2268, 2593, 1761, 13341, 2202, 1274, 406, 550...</td>\n",
              "      <td>[numi, collection, assortment, melange, includ...</td>\n",
              "    </tr>\n",
              "    <tr>\n",
              "      <th>2</th>\n",
              "      <td>5</td>\n",
              "      <td>I was very careful not to overcook this pasta,...</td>\n",
              "      <td>i was very careful not to overcook this pasta ...</td>\n",
              "      <td>[2, 20, 34, 1087, 10, 6, 6291, 9, 370, 338, 20...</td>\n",
              "      <td>[careful, overcook, pasta, making, sure, take,...</td>\n",
              "    </tr>\n",
              "    <tr>\n",
              "      <th>3</th>\n",
              "      <td>5</td>\n",
              "      <td>Buying this multi-pack I was misled by the pic...</td>\n",
              "      <td>buying this multi pack i was misled by the pic...</td>\n",
              "      <td>[226, 9, 2427, 191, 2, 20, 10547, 91, 1, 914, ...</td>\n",
              "      <td>[buying, multi, pack, misled, picture, whole, ...</td>\n",
              "    </tr>\n",
              "    <tr>\n",
              "      <th>4</th>\n",
              "      <td>5</td>\n",
              "      <td>These bars are so good! I loved them warmed up...</td>\n",
              "      <td>these bars are so good  i loved them warmed up...</td>\n",
              "      <td>[28, 277, 19, 25, 26, 2, 297, 29, 3676, 65, 2,...</td>\n",
              "      <td>[bars, good, loved, warmed, definitely, think,...</td>\n",
              "    </tr>\n",
              "  </tbody>\n",
              "</table>\n",
              "</div>\n",
              "      <button class=\"colab-df-convert\" onclick=\"convertToInteractive('df-cca7406d-cec7-48d1-821e-69cc1a8a7845')\"\n",
              "              title=\"Convert this dataframe to an interactive table.\"\n",
              "              style=\"display:none;\">\n",
              "        \n",
              "  <svg xmlns=\"http://www.w3.org/2000/svg\" height=\"24px\"viewBox=\"0 0 24 24\"\n",
              "       width=\"24px\">\n",
              "    <path d=\"M0 0h24v24H0V0z\" fill=\"none\"/>\n",
              "    <path d=\"M18.56 5.44l.94 2.06.94-2.06 2.06-.94-2.06-.94-.94-2.06-.94 2.06-2.06.94zm-11 1L8.5 8.5l.94-2.06 2.06-.94-2.06-.94L8.5 2.5l-.94 2.06-2.06.94zm10 10l.94 2.06.94-2.06 2.06-.94-2.06-.94-.94-2.06-.94 2.06-2.06.94z\"/><path d=\"M17.41 7.96l-1.37-1.37c-.4-.4-.92-.59-1.43-.59-.52 0-1.04.2-1.43.59L10.3 9.45l-7.72 7.72c-.78.78-.78 2.05 0 2.83L4 21.41c.39.39.9.59 1.41.59.51 0 1.02-.2 1.41-.59l7.78-7.78 2.81-2.81c.8-.78.8-2.07 0-2.86zM5.41 20L4 18.59l7.72-7.72 1.47 1.35L5.41 20z\"/>\n",
              "  </svg>\n",
              "      </button>\n",
              "      \n",
              "  <style>\n",
              "    .colab-df-container {\n",
              "      display:flex;\n",
              "      flex-wrap:wrap;\n",
              "      gap: 12px;\n",
              "    }\n",
              "\n",
              "    .colab-df-convert {\n",
              "      background-color: #E8F0FE;\n",
              "      border: none;\n",
              "      border-radius: 50%;\n",
              "      cursor: pointer;\n",
              "      display: none;\n",
              "      fill: #1967D2;\n",
              "      height: 32px;\n",
              "      padding: 0 0 0 0;\n",
              "      width: 32px;\n",
              "    }\n",
              "\n",
              "    .colab-df-convert:hover {\n",
              "      background-color: #E2EBFA;\n",
              "      box-shadow: 0px 1px 2px rgba(60, 64, 67, 0.3), 0px 1px 3px 1px rgba(60, 64, 67, 0.15);\n",
              "      fill: #174EA6;\n",
              "    }\n",
              "\n",
              "    [theme=dark] .colab-df-convert {\n",
              "      background-color: #3B4455;\n",
              "      fill: #D2E3FC;\n",
              "    }\n",
              "\n",
              "    [theme=dark] .colab-df-convert:hover {\n",
              "      background-color: #434B5C;\n",
              "      box-shadow: 0px 1px 3px 1px rgba(0, 0, 0, 0.15);\n",
              "      filter: drop-shadow(0px 1px 2px rgba(0, 0, 0, 0.3));\n",
              "      fill: #FFFFFF;\n",
              "    }\n",
              "  </style>\n",
              "\n",
              "      <script>\n",
              "        const buttonEl =\n",
              "          document.querySelector('#df-cca7406d-cec7-48d1-821e-69cc1a8a7845 button.colab-df-convert');\n",
              "        buttonEl.style.display =\n",
              "          google.colab.kernel.accessAllowed ? 'block' : 'none';\n",
              "\n",
              "        async function convertToInteractive(key) {\n",
              "          const element = document.querySelector('#df-cca7406d-cec7-48d1-821e-69cc1a8a7845');\n",
              "          const dataTable =\n",
              "            await google.colab.kernel.invokeFunction('convertToInteractive',\n",
              "                                                     [key], {});\n",
              "          if (!dataTable) return;\n",
              "\n",
              "          const docLinkHtml = 'Like what you see? Visit the ' +\n",
              "            '<a target=\"_blank\" href=https://colab.research.google.com/notebooks/data_table.ipynb>data table notebook</a>'\n",
              "            + ' to learn more about interactive tables.';\n",
              "          element.innerHTML = '';\n",
              "          dataTable['output_type'] = 'display_data';\n",
              "          await google.colab.output.renderOutput(dataTable, element);\n",
              "          const docLink = document.createElement('div');\n",
              "          docLink.innerHTML = docLinkHtml;\n",
              "          element.appendChild(docLink);\n",
              "        }\n",
              "      </script>\n",
              "    </div>\n",
              "  </div>\n",
              "  "
            ]
          },
          "metadata": {},
          "execution_count": 33
        }
      ]
    },
    {
      "cell_type": "markdown",
      "source": [
        "Spacy has more robust stopwords, but these can take away meaning. NLTK > Spacy"
      ],
      "metadata": {
        "id": "Cz5vXyqZmhw8"
      }
    },
    {
      "cell_type": "markdown",
      "source": [
        "# Lemmatisation"
      ],
      "metadata": {
        "id": "DqvTpAu9mhw9"
      }
    },
    {
      "cell_type": "code",
      "source": [
        "# spacy\n",
        "def lemmatize(tokens):\n",
        "    return [token.lemma_ for token in tokens]\n",
        "\n",
        "# DOES NOT WORK BECAUSE IT HAS TO BE INITIALISED WITH THE NLP PIPELINE\n",
        "# AND THE NLP PIPELINE LEADS AN OVERLOAD OF MEMORY\n",
        "start_time = time.time()\n",
        "train_unique['spacy_tokens'] = train_unique['spacy_tokens'].apply(lemmatize)\n",
        "print(\"Time taken to run Spacy Lemmatisation is \", time.time() - start_time, \" ms\")\n"
      ],
      "metadata": {
        "execution": {
          "iopub.status.busy": "2022-03-04T08:30:19.817936Z",
          "iopub.execute_input": "2022-03-04T08:30:19.818159Z",
          "iopub.status.idle": "2022-03-04T08:30:19.823685Z",
          "shell.execute_reply.started": "2022-03-04T08:30:19.818131Z",
          "shell.execute_reply": "2022-03-04T08:30:19.822494Z"
        },
        "trusted": true,
        "id": "Q5MNqUn2mhw9",
        "colab": {
          "base_uri": "https://localhost:8080/"
        },
        "outputId": "9c3984a2-4001-4977-b75c-3b1ef06aaa33"
      },
      "execution_count": null,
      "outputs": [
        {
          "output_type": "stream",
          "name": "stdout",
          "text": [
            "Time taken to run Spacy Lemmatisation is  24.367894887924194  ms\n"
          ]
        },
        {
          "output_type": "stream",
          "name": "stderr",
          "text": [
            "/usr/local/lib/python3.7/dist-packages/ipykernel_launcher.py:8: SettingWithCopyWarning: \n",
            "A value is trying to be set on a copy of a slice from a DataFrame.\n",
            "Try using .loc[row_indexer,col_indexer] = value instead\n",
            "\n",
            "See the caveats in the documentation: https://pandas.pydata.org/pandas-docs/stable/user_guide/indexing.html#returning-a-view-versus-a-copy\n",
            "  \n"
          ]
        }
      ]
    },
    {
      "cell_type": "code",
      "source": [
        "# nltk\n",
        "#  Lemmatize using WordNet's built-in morphy function.\n",
        "#  Returns the input word unchanged if it cannot be found in WordNet.\n",
        "lemmatizer = WordNetLemmatizer()\n",
        "\n",
        "def lemmatize(tokens):\n",
        "    return [lemmatizer.lemmatize(token) for token in tokens]\n",
        "\n",
        "start_time = time.time()\n",
        "train_unique['nltk_tokens'] = train_unique['nltk_tokens'].apply(lemmatize)\n",
        "print(\"Time taken to run NLTK Lemmatisation is \", time.time() - start_time, \" ms\")"
      ],
      "metadata": {
        "execution": {
          "iopub.status.busy": "2022-03-04T08:30:19.825318Z",
          "iopub.execute_input": "2022-03-04T08:30:19.825629Z",
          "iopub.status.idle": "2022-03-04T08:33:25.259450Z",
          "shell.execute_reply.started": "2022-03-04T08:30:19.825590Z",
          "shell.execute_reply": "2022-03-04T08:33:25.257988Z"
        },
        "trusted": true,
        "colab": {
          "base_uri": "https://localhost:8080/"
        },
        "id": "DvmI40jdmhw9",
        "outputId": "b556a5ce-35d3-44ad-e44b-5a98d18939ad"
      },
      "execution_count": null,
      "outputs": [
        {
          "output_type": "stream",
          "name": "stdout",
          "text": [
            "Time taken to run NLTK Lemmatisation is  45.2444953918457  ms\n"
          ]
        },
        {
          "output_type": "stream",
          "name": "stderr",
          "text": [
            "/usr/local/lib/python3.7/dist-packages/ipykernel_launcher.py:10: SettingWithCopyWarning: \n",
            "A value is trying to be set on a copy of a slice from a DataFrame.\n",
            "Try using .loc[row_indexer,col_indexer] = value instead\n",
            "\n",
            "See the caveats in the documentation: https://pandas.pydata.org/pandas-docs/stable/user_guide/indexing.html#returning-a-view-versus-a-copy\n",
            "  # Remove the CWD from sys.path while we load stuff.\n"
          ]
        }
      ]
    },
    {
      "cell_type": "code",
      "source": [
        "train_unique.head()"
      ],
      "metadata": {
        "execution": {
          "iopub.status.busy": "2022-03-04T08:35:38.313307Z",
          "iopub.execute_input": "2022-03-04T08:35:38.313957Z",
          "iopub.status.idle": "2022-03-04T08:35:38.348533Z",
          "shell.execute_reply.started": "2022-03-04T08:35:38.313926Z",
          "shell.execute_reply": "2022-03-04T08:35:38.347294Z"
        },
        "trusted": true,
        "colab": {
          "base_uri": "https://localhost:8080/",
          "height": 206
        },
        "id": "ADYRbPeZmhw-",
        "outputId": "09f5d7d9-ea50-4234-ffba-817e24746d47"
      },
      "execution_count": null,
      "outputs": [
        {
          "output_type": "execute_result",
          "data": {
            "text/plain": [
              "   Score                                        Review_text  \\\n",
              "0      5  I received this product early from the seller!...   \n",
              "1      5  *****<br />Numi's Collection Assortment Melang...   \n",
              "2      5  I was very careful not to overcook this pasta,...   \n",
              "3      5  Buying this multi-pack I was misled by the pic...   \n",
              "4      5  These bars are so good! I loved them warmed up...   \n",
              "\n",
              "                                       clean_reviews  \\\n",
              "0  i received this product early from the seller ...   \n",
              "1  numi collection assortment melange includes   ...   \n",
              "2  i was very careful not to overcook this pasta ...   \n",
              "3  buying this multi pack i was misled by the pic...   \n",
              "4  these bars are so good  i loved them warmed up...   \n",
              "\n",
              "                                              tokens  \\\n",
              "0  [2, 309, 9, 37, 1485, 46, 1, 745, 21, 19, 4, 3...   \n",
              "1  [2268, 2593, 1761, 13341, 2202, 1274, 406, 550...   \n",
              "2  [2, 20, 34, 1087, 10, 6, 6291, 9, 370, 338, 20...   \n",
              "3  [226, 9, 2427, 191, 2, 20, 10547, 91, 1, 914, ...   \n",
              "4  [28, 277, 19, 25, 26, 2, 297, 29, 3676, 65, 2,...   \n",
              "\n",
              "                                         nltk_tokens  \n",
              "0  [received, product, early, seller, tastey, gre...  \n",
              "1  [numi, collection, assortment, melange, includ...  \n",
              "2  [careful, overcook, pasta, making, sure, take,...  \n",
              "3  [buying, multi, pack, misled, picture, whole, ...  \n",
              "4  [bar, good, loved, warmed, definitely, think, ...  "
            ],
            "text/html": [
              "\n",
              "  <div id=\"df-12131ffd-8e56-42d3-a0c3-1b62dccfb303\">\n",
              "    <div class=\"colab-df-container\">\n",
              "      <div>\n",
              "<style scoped>\n",
              "    .dataframe tbody tr th:only-of-type {\n",
              "        vertical-align: middle;\n",
              "    }\n",
              "\n",
              "    .dataframe tbody tr th {\n",
              "        vertical-align: top;\n",
              "    }\n",
              "\n",
              "    .dataframe thead th {\n",
              "        text-align: right;\n",
              "    }\n",
              "</style>\n",
              "<table border=\"1\" class=\"dataframe\">\n",
              "  <thead>\n",
              "    <tr style=\"text-align: right;\">\n",
              "      <th></th>\n",
              "      <th>Score</th>\n",
              "      <th>Review_text</th>\n",
              "      <th>clean_reviews</th>\n",
              "      <th>tokens</th>\n",
              "      <th>nltk_tokens</th>\n",
              "    </tr>\n",
              "  </thead>\n",
              "  <tbody>\n",
              "    <tr>\n",
              "      <th>0</th>\n",
              "      <td>5</td>\n",
              "      <td>I received this product early from the seller!...</td>\n",
              "      <td>i received this product early from the seller ...</td>\n",
              "      <td>[2, 309, 9, 37, 1485, 46, 1, 745, 21, 19, 4, 3...</td>\n",
              "      <td>[received, product, early, seller, tastey, gre...</td>\n",
              "    </tr>\n",
              "    <tr>\n",
              "      <th>1</th>\n",
              "      <td>5</td>\n",
              "      <td>*****&lt;br /&gt;Numi's Collection Assortment Melang...</td>\n",
              "      <td>numi collection assortment melange includes   ...</td>\n",
              "      <td>[2268, 2593, 1761, 13341, 2202, 1274, 406, 550...</td>\n",
              "      <td>[numi, collection, assortment, melange, includ...</td>\n",
              "    </tr>\n",
              "    <tr>\n",
              "      <th>2</th>\n",
              "      <td>5</td>\n",
              "      <td>I was very careful not to overcook this pasta,...</td>\n",
              "      <td>i was very careful not to overcook this pasta ...</td>\n",
              "      <td>[2, 20, 34, 1087, 10, 6, 6291, 9, 370, 338, 20...</td>\n",
              "      <td>[careful, overcook, pasta, making, sure, take,...</td>\n",
              "    </tr>\n",
              "    <tr>\n",
              "      <th>3</th>\n",
              "      <td>5</td>\n",
              "      <td>Buying this multi-pack I was misled by the pic...</td>\n",
              "      <td>buying this multi pack i was misled by the pic...</td>\n",
              "      <td>[226, 9, 2427, 191, 2, 20, 10547, 91, 1, 914, ...</td>\n",
              "      <td>[buying, multi, pack, misled, picture, whole, ...</td>\n",
              "    </tr>\n",
              "    <tr>\n",
              "      <th>4</th>\n",
              "      <td>5</td>\n",
              "      <td>These bars are so good! I loved them warmed up...</td>\n",
              "      <td>these bars are so good  i loved them warmed up...</td>\n",
              "      <td>[28, 277, 19, 25, 26, 2, 297, 29, 3676, 65, 2,...</td>\n",
              "      <td>[bar, good, loved, warmed, definitely, think, ...</td>\n",
              "    </tr>\n",
              "  </tbody>\n",
              "</table>\n",
              "</div>\n",
              "      <button class=\"colab-df-convert\" onclick=\"convertToInteractive('df-12131ffd-8e56-42d3-a0c3-1b62dccfb303')\"\n",
              "              title=\"Convert this dataframe to an interactive table.\"\n",
              "              style=\"display:none;\">\n",
              "        \n",
              "  <svg xmlns=\"http://www.w3.org/2000/svg\" height=\"24px\"viewBox=\"0 0 24 24\"\n",
              "       width=\"24px\">\n",
              "    <path d=\"M0 0h24v24H0V0z\" fill=\"none\"/>\n",
              "    <path d=\"M18.56 5.44l.94 2.06.94-2.06 2.06-.94-2.06-.94-.94-2.06-.94 2.06-2.06.94zm-11 1L8.5 8.5l.94-2.06 2.06-.94-2.06-.94L8.5 2.5l-.94 2.06-2.06.94zm10 10l.94 2.06.94-2.06 2.06-.94-2.06-.94-.94-2.06-.94 2.06-2.06.94z\"/><path d=\"M17.41 7.96l-1.37-1.37c-.4-.4-.92-.59-1.43-.59-.52 0-1.04.2-1.43.59L10.3 9.45l-7.72 7.72c-.78.78-.78 2.05 0 2.83L4 21.41c.39.39.9.59 1.41.59.51 0 1.02-.2 1.41-.59l7.78-7.78 2.81-2.81c.8-.78.8-2.07 0-2.86zM5.41 20L4 18.59l7.72-7.72 1.47 1.35L5.41 20z\"/>\n",
              "  </svg>\n",
              "      </button>\n",
              "      \n",
              "  <style>\n",
              "    .colab-df-container {\n",
              "      display:flex;\n",
              "      flex-wrap:wrap;\n",
              "      gap: 12px;\n",
              "    }\n",
              "\n",
              "    .colab-df-convert {\n",
              "      background-color: #E8F0FE;\n",
              "      border: none;\n",
              "      border-radius: 50%;\n",
              "      cursor: pointer;\n",
              "      display: none;\n",
              "      fill: #1967D2;\n",
              "      height: 32px;\n",
              "      padding: 0 0 0 0;\n",
              "      width: 32px;\n",
              "    }\n",
              "\n",
              "    .colab-df-convert:hover {\n",
              "      background-color: #E2EBFA;\n",
              "      box-shadow: 0px 1px 2px rgba(60, 64, 67, 0.3), 0px 1px 3px 1px rgba(60, 64, 67, 0.15);\n",
              "      fill: #174EA6;\n",
              "    }\n",
              "\n",
              "    [theme=dark] .colab-df-convert {\n",
              "      background-color: #3B4455;\n",
              "      fill: #D2E3FC;\n",
              "    }\n",
              "\n",
              "    [theme=dark] .colab-df-convert:hover {\n",
              "      background-color: #434B5C;\n",
              "      box-shadow: 0px 1px 3px 1px rgba(0, 0, 0, 0.15);\n",
              "      filter: drop-shadow(0px 1px 2px rgba(0, 0, 0, 0.3));\n",
              "      fill: #FFFFFF;\n",
              "    }\n",
              "  </style>\n",
              "\n",
              "      <script>\n",
              "        const buttonEl =\n",
              "          document.querySelector('#df-12131ffd-8e56-42d3-a0c3-1b62dccfb303 button.colab-df-convert');\n",
              "        buttonEl.style.display =\n",
              "          google.colab.kernel.accessAllowed ? 'block' : 'none';\n",
              "\n",
              "        async function convertToInteractive(key) {\n",
              "          const element = document.querySelector('#df-12131ffd-8e56-42d3-a0c3-1b62dccfb303');\n",
              "          const dataTable =\n",
              "            await google.colab.kernel.invokeFunction('convertToInteractive',\n",
              "                                                     [key], {});\n",
              "          if (!dataTable) return;\n",
              "\n",
              "          const docLinkHtml = 'Like what you see? Visit the ' +\n",
              "            '<a target=\"_blank\" href=https://colab.research.google.com/notebooks/data_table.ipynb>data table notebook</a>'\n",
              "            + ' to learn more about interactive tables.';\n",
              "          element.innerHTML = '';\n",
              "          dataTable['output_type'] = 'display_data';\n",
              "          await google.colab.output.renderOutput(dataTable, element);\n",
              "          const docLink = document.createElement('div');\n",
              "          docLink.innerHTML = docLinkHtml;\n",
              "          element.appendChild(docLink);\n",
              "        }\n",
              "      </script>\n",
              "    </div>\n",
              "  </div>\n",
              "  "
            ]
          },
          "metadata": {},
          "execution_count": 35
        }
      ]
    },
    {
      "cell_type": "markdown",
      "source": [
        "# Stemming\n",
        "Spacy does not offer stemmming"
      ],
      "metadata": {
        "id": "mCiNaT4Hmhw8"
      }
    },
    {
      "cell_type": "code",
      "source": [
        "#stemming\n",
        "from nltk.stem import PorterStemmer # can be used\n",
        "from nltk.stem import SnowballStemmer\n",
        "\n",
        "snowball_stemmer = SnowballStemmer('english')\n",
        "porter_stemmer = PorterStemmer()\n",
        "\n",
        "def snowball_stem(tokens):\n",
        "    return [snowball_stemmer.stem(token) for token in tokens]\n",
        "\n",
        "def porter_stem(tokens):\n",
        "    return [porter_stemmer.stem(token) for token in tokens]\n",
        "\n",
        "start_time = time.time()\n",
        "train_unique['snowball_tokens'] = train_unique['nltk_tokens'].apply(snowball_stem)\n",
        "print(\"Time taken to run Snowball Stemming is \", time.time() - start_time, \" ms\")\n",
        "start_time = time.time()\n",
        "train_unique['porter_tokens'] = train_unique['nltk_tokens'].apply(porter_stem)\n",
        "print(\"Time taken to run Porter Stemming is \", time.time() - start_time, \" ms\")\n",
        "\n"
      ],
      "metadata": {
        "execution": {
          "iopub.status.busy": "2022-03-04T08:18:06.428608Z",
          "iopub.execute_input": "2022-03-04T08:18:06.428857Z",
          "iopub.status.idle": "2022-03-04T08:30:19.772724Z",
          "shell.execute_reply.started": "2022-03-04T08:18:06.428830Z",
          "shell.execute_reply": "2022-03-04T08:30:19.771565Z"
        },
        "trusted": true,
        "colab": {
          "base_uri": "https://localhost:8080/"
        },
        "id": "RcK28W05mhw8",
        "outputId": "83583dba-c4f4-426a-e0f8-19dac656d7b9"
      },
      "execution_count": null,
      "outputs": [
        {
          "output_type": "stream",
          "name": "stderr",
          "text": [
            "/usr/local/lib/python3.7/dist-packages/ipykernel_launcher.py:15: SettingWithCopyWarning: \n",
            "A value is trying to be set on a copy of a slice from a DataFrame.\n",
            "Try using .loc[row_indexer,col_indexer] = value instead\n",
            "\n",
            "See the caveats in the documentation: https://pandas.pydata.org/pandas-docs/stable/user_guide/indexing.html#returning-a-view-versus-a-copy\n",
            "  from ipykernel import kernelapp as app\n"
          ]
        },
        {
          "output_type": "stream",
          "name": "stdout",
          "text": [
            "Time taken to run Snowball Stemming is  186.0142650604248  ms\n",
            "Time taken to run Porter Stemming is  295.29492378234863  ms\n"
          ]
        },
        {
          "output_type": "stream",
          "name": "stderr",
          "text": [
            "/usr/local/lib/python3.7/dist-packages/ipykernel_launcher.py:18: SettingWithCopyWarning: \n",
            "A value is trying to be set on a copy of a slice from a DataFrame.\n",
            "Try using .loc[row_indexer,col_indexer] = value instead\n",
            "\n",
            "See the caveats in the documentation: https://pandas.pydata.org/pandas-docs/stable/user_guide/indexing.html#returning-a-view-versus-a-copy\n"
          ]
        }
      ]
    },
    {
      "cell_type": "code",
      "source": [
        "train_unique.head()"
      ],
      "metadata": {
        "execution": {
          "iopub.status.busy": "2022-03-04T08:30:19.777494Z",
          "iopub.execute_input": "2022-03-04T08:30:19.777782Z",
          "iopub.status.idle": "2022-03-04T08:30:19.816621Z",
          "shell.execute_reply.started": "2022-03-04T08:30:19.777753Z",
          "shell.execute_reply": "2022-03-04T08:30:19.814723Z"
        },
        "trusted": true,
        "colab": {
          "base_uri": "https://localhost:8080/"
        },
        "id": "3RqlC7Mimhw9",
        "outputId": "96f848d1-4f7f-4a89-a885-097485e97286"
      },
      "execution_count": null,
      "outputs": [
        {
          "output_type": "execute_result",
          "data": {
            "text/html": [
              "\n",
              "  <div id=\"df-c9281a31-6b78-4f17-b907-71c01b82773e\">\n",
              "    <div class=\"colab-df-container\">\n",
              "      <div>\n",
              "<style scoped>\n",
              "    .dataframe tbody tr th:only-of-type {\n",
              "        vertical-align: middle;\n",
              "    }\n",
              "\n",
              "    .dataframe tbody tr th {\n",
              "        vertical-align: top;\n",
              "    }\n",
              "\n",
              "    .dataframe thead th {\n",
              "        text-align: right;\n",
              "    }\n",
              "</style>\n",
              "<table border=\"1\" class=\"dataframe\">\n",
              "  <thead>\n",
              "    <tr style=\"text-align: right;\">\n",
              "      <th></th>\n",
              "      <th>Score</th>\n",
              "      <th>Review_text</th>\n",
              "      <th>clean_reviews</th>\n",
              "      <th>spacy_tokens</th>\n",
              "      <th>nltk_tokens</th>\n",
              "      <th>snowball_tokens</th>\n",
              "      <th>porter_tokens</th>\n",
              "    </tr>\n",
              "  </thead>\n",
              "  <tbody>\n",
              "    <tr>\n",
              "      <th>0</th>\n",
              "      <td>5</td>\n",
              "      <td>I received this product early from the seller!...</td>\n",
              "      <td>i received this product early from the seller ...</td>\n",
              "      <td>[received, product, early, seller,  , tastey, ...</td>\n",
              "      <td>[received, product, early, seller, tastey, gre...</td>\n",
              "      <td>[receiv, product, earli, seller, tastey, great...</td>\n",
              "      <td>[receiv, product, earli, seller, tastey, great...</td>\n",
              "    </tr>\n",
              "    <tr>\n",
              "      <th>1</th>\n",
              "      <td>5</td>\n",
              "      <td>*****&lt;br /&gt;Numi's Collection Assortment Melang...</td>\n",
              "      <td>numi s collection assortment melange includes ...</td>\n",
              "      <td>[numi, s, collection, assortment, melange, inc...</td>\n",
              "      <td>[numi, collection, assortment, melange, includ...</td>\n",
              "      <td>[numi, collect, assort, melang, includ, herbal...</td>\n",
              "      <td>[numi, collect, assort, melang, includ, herbal...</td>\n",
              "    </tr>\n",
              "    <tr>\n",
              "      <th>2</th>\n",
              "      <td>5</td>\n",
              "      <td>I was very careful not to overcook this pasta,...</td>\n",
              "      <td>i was very careful not to overcook this pasta ...</td>\n",
              "      <td>[careful, overcook, pasta,  , making, sure, bi...</td>\n",
              "      <td>[careful, overcook, pasta, making, sure, take,...</td>\n",
              "      <td>[care, overcook, pasta, make, sure, take, bite...</td>\n",
              "      <td>[care, overcook, pasta, make, sure, take, bite...</td>\n",
              "    </tr>\n",
              "    <tr>\n",
              "      <th>3</th>\n",
              "      <td>5</td>\n",
              "      <td>Buying this multi-pack I was misled by the pic...</td>\n",
              "      <td>buying this multi pack i was misled by the pic...</td>\n",
              "      <td>[buying, multi, pack, misled, picture, hazel, ...</td>\n",
              "      <td>[buying, multi, pack, misled, picture, whole, ...</td>\n",
              "      <td>[buy, multi, pack, misl, pictur, whole, hazel,...</td>\n",
              "      <td>[buy, multi, pack, misl, pictur, whole, hazel,...</td>\n",
              "    </tr>\n",
              "    <tr>\n",
              "      <th>4</th>\n",
              "      <td>5</td>\n",
              "      <td>These bars are so good! I loved them warmed up...</td>\n",
              "      <td>these bars are so good  i loved them warmed up...</td>\n",
              "      <td>[bars, good,  , loved, warmed,  , definitely, ...</td>\n",
              "      <td>[bar, good, loved, warmed, definitely, think, ...</td>\n",
              "      <td>[bar, good, love, warm, definit, think, great,...</td>\n",
              "      <td>[bar, good, love, warm, definit, think, great,...</td>\n",
              "    </tr>\n",
              "  </tbody>\n",
              "</table>\n",
              "</div>\n",
              "      <button class=\"colab-df-convert\" onclick=\"convertToInteractive('df-c9281a31-6b78-4f17-b907-71c01b82773e')\"\n",
              "              title=\"Convert this dataframe to an interactive table.\"\n",
              "              style=\"display:none;\">\n",
              "        \n",
              "  <svg xmlns=\"http://www.w3.org/2000/svg\" height=\"24px\"viewBox=\"0 0 24 24\"\n",
              "       width=\"24px\">\n",
              "    <path d=\"M0 0h24v24H0V0z\" fill=\"none\"/>\n",
              "    <path d=\"M18.56 5.44l.94 2.06.94-2.06 2.06-.94-2.06-.94-.94-2.06-.94 2.06-2.06.94zm-11 1L8.5 8.5l.94-2.06 2.06-.94-2.06-.94L8.5 2.5l-.94 2.06-2.06.94zm10 10l.94 2.06.94-2.06 2.06-.94-2.06-.94-.94-2.06-.94 2.06-2.06.94z\"/><path d=\"M17.41 7.96l-1.37-1.37c-.4-.4-.92-.59-1.43-.59-.52 0-1.04.2-1.43.59L10.3 9.45l-7.72 7.72c-.78.78-.78 2.05 0 2.83L4 21.41c.39.39.9.59 1.41.59.51 0 1.02-.2 1.41-.59l7.78-7.78 2.81-2.81c.8-.78.8-2.07 0-2.86zM5.41 20L4 18.59l7.72-7.72 1.47 1.35L5.41 20z\"/>\n",
              "  </svg>\n",
              "      </button>\n",
              "      \n",
              "  <style>\n",
              "    .colab-df-container {\n",
              "      display:flex;\n",
              "      flex-wrap:wrap;\n",
              "      gap: 12px;\n",
              "    }\n",
              "\n",
              "    .colab-df-convert {\n",
              "      background-color: #E8F0FE;\n",
              "      border: none;\n",
              "      border-radius: 50%;\n",
              "      cursor: pointer;\n",
              "      display: none;\n",
              "      fill: #1967D2;\n",
              "      height: 32px;\n",
              "      padding: 0 0 0 0;\n",
              "      width: 32px;\n",
              "    }\n",
              "\n",
              "    .colab-df-convert:hover {\n",
              "      background-color: #E2EBFA;\n",
              "      box-shadow: 0px 1px 2px rgba(60, 64, 67, 0.3), 0px 1px 3px 1px rgba(60, 64, 67, 0.15);\n",
              "      fill: #174EA6;\n",
              "    }\n",
              "\n",
              "    [theme=dark] .colab-df-convert {\n",
              "      background-color: #3B4455;\n",
              "      fill: #D2E3FC;\n",
              "    }\n",
              "\n",
              "    [theme=dark] .colab-df-convert:hover {\n",
              "      background-color: #434B5C;\n",
              "      box-shadow: 0px 1px 3px 1px rgba(0, 0, 0, 0.15);\n",
              "      filter: drop-shadow(0px 1px 2px rgba(0, 0, 0, 0.3));\n",
              "      fill: #FFFFFF;\n",
              "    }\n",
              "  </style>\n",
              "\n",
              "      <script>\n",
              "        const buttonEl =\n",
              "          document.querySelector('#df-c9281a31-6b78-4f17-b907-71c01b82773e button.colab-df-convert');\n",
              "        buttonEl.style.display =\n",
              "          google.colab.kernel.accessAllowed ? 'block' : 'none';\n",
              "\n",
              "        async function convertToInteractive(key) {\n",
              "          const element = document.querySelector('#df-c9281a31-6b78-4f17-b907-71c01b82773e');\n",
              "          const dataTable =\n",
              "            await google.colab.kernel.invokeFunction('convertToInteractive',\n",
              "                                                     [key], {});\n",
              "          if (!dataTable) return;\n",
              "\n",
              "          const docLinkHtml = 'Like what you see? Visit the ' +\n",
              "            '<a target=\"_blank\" href=https://colab.research.google.com/notebooks/data_table.ipynb>data table notebook</a>'\n",
              "            + ' to learn more about interactive tables.';\n",
              "          element.innerHTML = '';\n",
              "          dataTable['output_type'] = 'display_data';\n",
              "          await google.colab.output.renderOutput(dataTable, element);\n",
              "          const docLink = document.createElement('div');\n",
              "          docLink.innerHTML = docLinkHtml;\n",
              "          element.appendChild(docLink);\n",
              "        }\n",
              "      </script>\n",
              "    </div>\n",
              "  </div>\n",
              "  "
            ],
            "text/plain": [
              "   Score                                        Review_text  \\\n",
              "0      5  I received this product early from the seller!...   \n",
              "1      5  *****<br />Numi's Collection Assortment Melang...   \n",
              "2      5  I was very careful not to overcook this pasta,...   \n",
              "3      5  Buying this multi-pack I was misled by the pic...   \n",
              "4      5  These bars are so good! I loved them warmed up...   \n",
              "\n",
              "                                       clean_reviews  \\\n",
              "0  i received this product early from the seller ...   \n",
              "1  numi s collection assortment melange includes ...   \n",
              "2  i was very careful not to overcook this pasta ...   \n",
              "3  buying this multi pack i was misled by the pic...   \n",
              "4  these bars are so good  i loved them warmed up...   \n",
              "\n",
              "                                        spacy_tokens  \\\n",
              "0  [received, product, early, seller,  , tastey, ...   \n",
              "1  [numi, s, collection, assortment, melange, inc...   \n",
              "2  [careful, overcook, pasta,  , making, sure, bi...   \n",
              "3  [buying, multi, pack, misled, picture, hazel, ...   \n",
              "4  [bars, good,  , loved, warmed,  , definitely, ...   \n",
              "\n",
              "                                         nltk_tokens  \\\n",
              "0  [received, product, early, seller, tastey, gre...   \n",
              "1  [numi, collection, assortment, melange, includ...   \n",
              "2  [careful, overcook, pasta, making, sure, take,...   \n",
              "3  [buying, multi, pack, misled, picture, whole, ...   \n",
              "4  [bar, good, loved, warmed, definitely, think, ...   \n",
              "\n",
              "                                     snowball_tokens  \\\n",
              "0  [receiv, product, earli, seller, tastey, great...   \n",
              "1  [numi, collect, assort, melang, includ, herbal...   \n",
              "2  [care, overcook, pasta, make, sure, take, bite...   \n",
              "3  [buy, multi, pack, misl, pictur, whole, hazel,...   \n",
              "4  [bar, good, love, warm, definit, think, great,...   \n",
              "\n",
              "                                       porter_tokens  \n",
              "0  [receiv, product, earli, seller, tastey, great...  \n",
              "1  [numi, collect, assort, melang, includ, herbal...  \n",
              "2  [care, overcook, pasta, make, sure, take, bite...  \n",
              "3  [buy, multi, pack, misl, pictur, whole, hazel,...  \n",
              "4  [bar, good, love, warm, definit, think, great,...  "
            ]
          },
          "metadata": {},
          "execution_count": 32
        }
      ]
    },
    {
      "cell_type": "markdown",
      "source": [
        "# Representation"
      ],
      "metadata": {
        "id": "MUtuhDwVmhw-"
      }
    },
    {
      "cell_type": "code",
      "source": [
        "# Exclude components not required when loading the spaCy model.\n",
        "# nlp = spacy.load(\"en_core_web_sm\", exclude=[\"tok2vec\", \"parser\", \"ner\", \"attrbute_ruler\"])\n",
        "# for t in train_unique['spacy_tokens'][0]:\n",
        "#     print(t.lemma_)"
      ],
      "metadata": {
        "execution": {
          "iopub.status.busy": "2022-03-03T21:49:58.624977Z",
          "iopub.execute_input": "2022-03-03T21:49:58.625382Z",
          "iopub.status.idle": "2022-03-03T21:49:58.638286Z",
          "shell.execute_reply.started": "2022-03-03T21:49:58.625343Z",
          "shell.execute_reply": "2022-03-03T21:49:58.634429Z"
        },
        "trusted": true,
        "id": "VdcKfU5omhw9"
      },
      "execution_count": null,
      "outputs": []
    },
    {
      "cell_type": "code",
      "source": [
        "from sklearn.feature_extraction.text import TfidfVectorizer\n",
        "from sklearn.linear_model import LogisticRegression"
      ],
      "metadata": {
        "execution": {
          "iopub.status.busy": "2022-03-03T13:08:45.746884Z",
          "iopub.execute_input": "2022-03-03T13:08:45.747184Z",
          "iopub.status.idle": "2022-03-03T13:08:46.935647Z",
          "shell.execute_reply.started": "2022-03-03T13:08:45.747157Z",
          "shell.execute_reply": "2022-03-03T13:08:46.934887Z"
        },
        "trusted": true,
        "id": "WCJGeav6mhw-"
      },
      "execution_count": null,
      "outputs": []
    },
    {
      "cell_type": "code",
      "source": [
        "tfidf = TfidfVectorizer()\n",
        "X_train = tfidf.fit_transform(train['Review_text'])"
      ],
      "metadata": {
        "execution": {
          "iopub.status.busy": "2022-03-03T13:08:46.937137Z",
          "iopub.execute_input": "2022-03-03T13:08:46.937428Z",
          "iopub.status.idle": "2022-03-03T13:09:28.901424Z",
          "shell.execute_reply.started": "2022-03-03T13:08:46.937385Z",
          "shell.execute_reply": "2022-03-03T13:09:28.900537Z"
        },
        "trusted": true,
        "id": "dPfbuA1Rmhw-"
      },
      "execution_count": null,
      "outputs": []
    },
    {
      "cell_type": "code",
      "source": [
        "model = LogisticRegression()\n",
        "model.fit(X_train, train.Score)"
      ],
      "metadata": {
        "colab": {
          "base_uri": "https://localhost:8080/"
        },
        "id": "RgIGI448mhw-",
        "outputId": "40a9331e-6ee8-4fde-a955-e687a8f70d96"
      },
      "execution_count": null,
      "outputs": [
        {
          "output_type": "stream",
          "name": "stderr",
          "text": [
            "/usr/local/lib/python3.7/dist-packages/sklearn/linear_model/_logistic.py:818: ConvergenceWarning: lbfgs failed to converge (status=1):\n",
            "STOP: TOTAL NO. of ITERATIONS REACHED LIMIT.\n",
            "\n",
            "Increase the number of iterations (max_iter) or scale the data as shown in:\n",
            "    https://scikit-learn.org/stable/modules/preprocessing.html\n",
            "Please also refer to the documentation for alternative solver options:\n",
            "    https://scikit-learn.org/stable/modules/linear_model.html#logistic-regression\n",
            "  extra_warning_msg=_LOGISTIC_SOLVER_CONVERGENCE_MSG,\n"
          ]
        },
        {
          "output_type": "execute_result",
          "data": {
            "text/plain": [
              "LogisticRegression()"
            ]
          },
          "metadata": {},
          "execution_count": 36
        }
      ]
    },
    {
      "cell_type": "code",
      "source": [
        "test = pd.read_csv('test.csv')"
      ],
      "metadata": {
        "id": "0bT9OcKKmhw-"
      },
      "execution_count": null,
      "outputs": []
    },
    {
      "cell_type": "code",
      "source": [
        "X_test = tfidf.transform(test['Review_text'])"
      ],
      "metadata": {
        "id": "j9GjPUW-mhw-"
      },
      "execution_count": null,
      "outputs": []
    },
    {
      "cell_type": "code",
      "source": [
        "y = model.predict(X_test) # Accuracy for baseline classifier LR is 77% on test set"
      ],
      "metadata": {
        "id": "dBs9NRaxmhw-"
      },
      "execution_count": null,
      "outputs": []
    },
    {
      "cell_type": "code",
      "source": [
        "# !touch ./SampleSubmission.csv"
      ],
      "metadata": {
        "id": "qlXM9--5ypZc"
      },
      "execution_count": null,
      "outputs": []
    },
    {
      "cell_type": "code",
      "source": [
        "# sample=pd.read_csv('SampleSubmission.csv') # Compare to majority class\n",
        "# sample.head()\n",
        "# sample.describe()"
      ],
      "metadata": {
        "id": "AHLjKfaamhw_"
      },
      "execution_count": null,
      "outputs": []
    },
    {
      "cell_type": "code",
      "source": [
        "# print(\"Test set score:{:.2f}\".format(np.mean(y==sample.Score)))\n"
      ],
      "metadata": {
        "id": "g1T2hOtGmhw_"
      },
      "execution_count": null,
      "outputs": []
    },
    {
      "cell_type": "code",
      "source": [
        "# sample['Score'] = y # save the labels for your model to csv file\n",
        "# sample.to_csv('mySubmission.csv', index=False)"
      ],
      "metadata": {
        "id": "JH-9E0Xamhw_"
      },
      "execution_count": null,
      "outputs": []
    },
    {
      "cell_type": "markdown",
      "source": [
        "**N-Grams**"
      ],
      "metadata": {
        "id": "Ql0c7Yum8R_1"
      }
    },
    {
      "cell_type": "code",
      "source": [
        ""
      ],
      "metadata": {
        "id": "jy9Pj6NLlQkO"
      },
      "execution_count": null,
      "outputs": []
    },
    {
      "cell_type": "code",
      "source": [
        "# allGrams = []\n",
        "# def generate_ngrams(n=1):\n",
        "#     # for sentence in train_unique['clean_reviews'][:4]: # added the top 4 clean_reviews for test putposes; Todo: remove [:4]\n",
        "#     first4_df = train_unique['clean_reviews'].head()\n",
        "#     for sentence in first4_df:\n",
        "#         n_grams = ngrams(sentence.split(), n)\n",
        "#         # print(n_grams)\n",
        "#         for grams in n_grams:\n",
        "#             print(grams)\n",
        "#             # allGrams.append(grams)\n",
        "#             bigram_series = (pd.Series(grams).value_counts())[:10]\n",
        "#             bigram_series.plot.barh(color='blue', figsize=(12, 8))\n",
        "#             # plt.title('Most Frequently Occuring Bigrams')\n",
        "#             plt.ylabel(f'{i}gram')\n",
        "#             plt.xlabel('# of Occurances')\n",
        "#             plt.savefig(f\"{i}gram.jpg\")"
      ],
      "metadata": {
        "id": "3AqdFQ6Otpzy"
      },
      "execution_count": null,
      "outputs": []
    },
    {
      "cell_type": "code",
      "source": [
        "def get_ngrams( n):\n",
        "    first4_df = train_unique['clean_reviews']\n",
        "    for sentence in first4_df:\n",
        "        n_grams = ngrams(sentence.split(), n)\n",
        "    return [' '.join(grams) for grams in n_grams]"
      ],
      "metadata": {
        "id": "uaMoHbPnWrrN"
      },
      "execution_count": null,
      "outputs": []
    },
    {
      "cell_type": "code",
      "source": [
        "get_ngrams(5)"
      ],
      "metadata": {
        "colab": {
          "base_uri": "https://localhost:8080/"
        },
        "id": "KMpoP5g5IKhq",
        "outputId": "6e5b8c82-2a36-41f2-de32-8bcbabc0b0f1"
      },
      "execution_count": null,
      "outputs": [
        {
          "output_type": "execute_result",
          "data": {
            "text/plain": [
              "['we eat a lot of',\n",
              " 'eat a lot of syrup',\n",
              " 'a lot of syrup in',\n",
              " 'lot of syrup in our',\n",
              " 'of syrup in our house',\n",
              " 'syrup in our house my',\n",
              " 'in our house my three',\n",
              " 'our house my three year',\n",
              " 'house my three year olds',\n",
              " 'my three year olds favorite',\n",
              " 'three year olds favorite foods',\n",
              " 'year olds favorite foods are',\n",
              " 'olds favorite foods are pancakes',\n",
              " 'favorite foods are pancakes and',\n",
              " 'foods are pancakes and waffles',\n",
              " 'are pancakes and waffles i',\n",
              " 'pancakes and waffles i have',\n",
              " 'and waffles i have been',\n",
              " 'waffles i have been buying',\n",
              " 'i have been buying pure',\n",
              " 'have been buying pure maple',\n",
              " 'been buying pure maple syrup',\n",
              " 'buying pure maple syrup at',\n",
              " 'pure maple syrup at the',\n",
              " 'maple syrup at the grocery',\n",
              " 'syrup at the grocery store',\n",
              " 'at the grocery store for',\n",
              " 'the grocery store for about',\n",
              " 'grocery store for about for',\n",
              " 'store for about for a',\n",
              " 'for about for a very',\n",
              " 'about for a very small',\n",
              " 'for a very small bottle',\n",
              " 'a very small bottle this',\n",
              " 'very small bottle this bottle',\n",
              " 'small bottle this bottle was',\n",
              " 'bottle this bottle was huge',\n",
              " 'this bottle was huge when',\n",
              " 'bottle was huge when it',\n",
              " 'was huge when it came',\n",
              " 'huge when it came and',\n",
              " 'when it came and i',\n",
              " 'it came and i couldn',\n",
              " 'came and i couldn not',\n",
              " 'and i couldn not believe',\n",
              " 'i couldn not believe how',\n",
              " 'couldn not believe how good',\n",
              " 'not believe how good a',\n",
              " 'believe how good a price',\n",
              " 'how good a price it',\n",
              " 'good a price it was',\n",
              " 'a price it was i',\n",
              " 'price it was i opened',\n",
              " 'it was i opened it',\n",
              " 'was i opened it up',\n",
              " 'i opened it up and',\n",
              " 'opened it up and this',\n",
              " 'it up and this is',\n",
              " 'up and this is so',\n",
              " 'and this is so much',\n",
              " 'this is so much better',\n",
              " 'is so much better than',\n",
              " 'so much better than what',\n",
              " 'much better than what i',\n",
              " 'better than what i was',\n",
              " 'than what i was buying',\n",
              " 'what i was buying at',\n",
              " 'i was buying at the',\n",
              " 'was buying at the grocery',\n",
              " 'buying at the grocery store',\n",
              " 'at the grocery store it',\n",
              " 'the grocery store it is',\n",
              " 'grocery store it is so',\n",
              " 'store it is so thick',\n",
              " 'it is so thick and',\n",
              " 'is so thick and dark',\n",
              " 'so thick and dark and',\n",
              " 'thick and dark and sweet',\n",
              " 'and dark and sweet what',\n",
              " 'dark and sweet what maple',\n",
              " 'and sweet what maple syrup',\n",
              " 'sweet what maple syrup should',\n",
              " 'what maple syrup should be',\n",
              " 'maple syrup should be i',\n",
              " 'syrup should be i feel',\n",
              " 'should be i feel now',\n",
              " 'be i feel now like',\n",
              " 'i feel now like the',\n",
              " 'feel now like the stuff',\n",
              " 'now like the stuff i',\n",
              " 'like the stuff i was',\n",
              " 'the stuff i was buying',\n",
              " 'stuff i was buying at',\n",
              " 'i was buying at the',\n",
              " 'was buying at the grocery',\n",
              " 'buying at the grocery store',\n",
              " 'at the grocery store was',\n",
              " 'the grocery store was watered',\n",
              " 'grocery store was watered down',\n",
              " 'store was watered down or',\n",
              " 'was watered down or something',\n",
              " 'watered down or something i',\n",
              " 'down or something i would',\n",
              " 'or something i would definitely',\n",
              " 'something i would definitely recommend',\n",
              " 'i would definitely recommend this',\n",
              " 'would definitely recommend this awesome',\n",
              " 'definitely recommend this awesome stuff',\n",
              " 'recommend this awesome stuff wow',\n",
              " 'this awesome stuff wow awesome',\n",
              " 'awesome stuff wow awesome syrup']"
            ]
          },
          "metadata": {},
          "execution_count": 46
        }
      ]
    },
    {
      "cell_type": "code",
      "source": [
        "from google.colab import files\n",
        "\n",
        "# for i in range(1,11):\n",
        "\n",
        "i=10\n",
        "bigram_series = (pd.Series(get_ngrams(i)).value_counts())[:10]\n",
        "bigram_series.plot.barh(color='red', figsize=(20, 8))\n",
        "plt.title(f'10 Most Frequently Occuring {i}-grams')\n",
        "plt.ylabel(f'{i}-igram')\n",
        "plt.xlabel('# of Occurances')\n",
        "# files.download(f\"unigram.jpg\")"
      ],
      "metadata": {
        "id": "th0iT-BjDDsh",
        "colab": {
          "base_uri": "https://localhost:8080/",
          "height": 269
        },
        "outputId": "720885da-c267-48df-9cf1-0101406c9a58"
      },
      "execution_count": null,
      "outputs": [
        {
          "output_type": "execute_result",
          "data": {
            "text/plain": [
              "Text(0.5, 0, '# of Occurances')"
            ]
          },
          "metadata": {},
          "execution_count": 47
        },
        {
          "output_type": "display_data",
          "data": {
            "image/png": "[encoded data removed]",
            "text/plain": [
              "<Figure size 1440x576 with 1 Axes>"
            ]
          },
          "metadata": {
            "needs_background": "light"
          }
        }
      ]
    },
    {
      "cell_type": "markdown",
      "source": [
        "**One Hot Encoding**"
      ],
      "metadata": {
        "id": "OzJrpa-5KpHk"
      }
    },
    {
      "cell_type": "code",
      "source": [
        "from sklearn.preprocessing import OneHotEncoder\n",
        "\n",
        "part1 = train_unique.head(50000)\n",
        "df_new = pd.get_dummies(part1, columns=[\"clean_reviews\"])"
      ],
      "metadata": {
        "id": "_eQr4mDiKrtg"
      },
      "execution_count": null,
      "outputs": []
    },
    {
      "cell_type": "code",
      "source": [
        "df_new.info()"
      ],
      "metadata": {
        "colab": {
          "base_uri": "https://localhost:8080/"
        },
        "id": "lMjvtyd7W1FI",
        "outputId": "765398da-11cf-4fe3-f69b-e0ff1bbbd8b2"
      },
      "execution_count": null,
      "outputs": [
        {
          "output_type": "stream",
          "name": "stdout",
          "text": [
            "<class 'pandas.core.frame.DataFrame'>\n",
            "Int64Index: 50000 entries, 0 to 54179\n",
            "Columns: 49998 entries, Score to clean_reviews_zukes are great training treats because they are small and quickly consumed so you can continue what you are working on   i have shopped everywhere for them and amazon is the best price i have found so we order them frequently  best price on zukes\n",
            "dtypes: int64(1), object(5), uint8(49992)\n",
            "memory usage: 2.3+ GB\n"
          ]
        }
      ]
    },
    {
      "cell_type": "markdown",
      "source": [
        "TF (Term Frequency) "
      ],
      "metadata": {
        "id": "ZAGFaqlJqJ8Y"
      }
    },
    {
      "cell_type": "code",
      "source": [
        "from sklearn.feature_extraction.text import TfidfTransformer\n",
        "test.head()"
      ],
      "metadata": {
        "colab": {
          "base_uri": "https://localhost:8080/",
          "height": 206
        },
        "id": "tG2MtnFuwB7n",
        "outputId": "bb2b98eb-9f94-4fd1-fa19-64a9470e2820"
      },
      "execution_count": null,
      "outputs": [
        {
          "output_type": "execute_result",
          "data": {
            "text/html": [
              "\n",
              "  <div id=\"df-e1a298f3-8646-4cb7-b430-6d61c56330d8\">\n",
              "    <div class=\"colab-df-container\">\n",
              "      <div>\n",
              "<style scoped>\n",
              "    .dataframe tbody tr th:only-of-type {\n",
              "        vertical-align: middle;\n",
              "    }\n",
              "\n",
              "    .dataframe tbody tr th {\n",
              "        vertical-align: top;\n",
              "    }\n",
              "\n",
              "    .dataframe thead th {\n",
              "        text-align: right;\n",
              "    }\n",
              "</style>\n",
              "<table border=\"1\" class=\"dataframe\">\n",
              "  <thead>\n",
              "    <tr style=\"text-align: right;\">\n",
              "      <th></th>\n",
              "      <th>Review_text</th>\n",
              "    </tr>\n",
              "  </thead>\n",
              "  <tbody>\n",
              "    <tr>\n",
              "      <th>0</th>\n",
              "      <td>This is a good tasting K-cup from a guy who dr...</td>\n",
              "    </tr>\n",
              "    <tr>\n",
              "      <th>1</th>\n",
              "      <td>these are a wonderful light crunchy breadstick...</td>\n",
              "    </tr>\n",
              "    <tr>\n",
              "      <th>2</th>\n",
              "      <td>Love this product! And has anyone mentioned th...</td>\n",
              "    </tr>\n",
              "    <tr>\n",
              "      <th>3</th>\n",
              "      <td>I just bought this and have used it around the...</td>\n",
              "    </tr>\n",
              "    <tr>\n",
              "      <th>4</th>\n",
              "      <td>great product.  actually we've used it all now...</td>\n",
              "    </tr>\n",
              "  </tbody>\n",
              "</table>\n",
              "</div>\n",
              "      <button class=\"colab-df-convert\" onclick=\"convertToInteractive('df-e1a298f3-8646-4cb7-b430-6d61c56330d8')\"\n",
              "              title=\"Convert this dataframe to an interactive table.\"\n",
              "              style=\"display:none;\">\n",
              "        \n",
              "  <svg xmlns=\"http://www.w3.org/2000/svg\" height=\"24px\"viewBox=\"0 0 24 24\"\n",
              "       width=\"24px\">\n",
              "    <path d=\"M0 0h24v24H0V0z\" fill=\"none\"/>\n",
              "    <path d=\"M18.56 5.44l.94 2.06.94-2.06 2.06-.94-2.06-.94-.94-2.06-.94 2.06-2.06.94zm-11 1L8.5 8.5l.94-2.06 2.06-.94-2.06-.94L8.5 2.5l-.94 2.06-2.06.94zm10 10l.94 2.06.94-2.06 2.06-.94-2.06-.94-.94-2.06-.94 2.06-2.06.94z\"/><path d=\"M17.41 7.96l-1.37-1.37c-.4-.4-.92-.59-1.43-.59-.52 0-1.04.2-1.43.59L10.3 9.45l-7.72 7.72c-.78.78-.78 2.05 0 2.83L4 21.41c.39.39.9.59 1.41.59.51 0 1.02-.2 1.41-.59l7.78-7.78 2.81-2.81c.8-.78.8-2.07 0-2.86zM5.41 20L4 18.59l7.72-7.72 1.47 1.35L5.41 20z\"/>\n",
              "  </svg>\n",
              "      </button>\n",
              "      \n",
              "  <style>\n",
              "    .colab-df-container {\n",
              "      display:flex;\n",
              "      flex-wrap:wrap;\n",
              "      gap: 12px;\n",
              "    }\n",
              "\n",
              "    .colab-df-convert {\n",
              "      background-color: #E8F0FE;\n",
              "      border: none;\n",
              "      border-radius: 50%;\n",
              "      cursor: pointer;\n",
              "      display: none;\n",
              "      fill: #1967D2;\n",
              "      height: 32px;\n",
              "      padding: 0 0 0 0;\n",
              "      width: 32px;\n",
              "    }\n",
              "\n",
              "    .colab-df-convert:hover {\n",
              "      background-color: #E2EBFA;\n",
              "      box-shadow: 0px 1px 2px rgba(60, 64, 67, 0.3), 0px 1px 3px 1px rgba(60, 64, 67, 0.15);\n",
              "      fill: #174EA6;\n",
              "    }\n",
              "\n",
              "    [theme=dark] .colab-df-convert {\n",
              "      background-color: #3B4455;\n",
              "      fill: #D2E3FC;\n",
              "    }\n",
              "\n",
              "    [theme=dark] .colab-df-convert:hover {\n",
              "      background-color: #434B5C;\n",
              "      box-shadow: 0px 1px 3px 1px rgba(0, 0, 0, 0.15);\n",
              "      filter: drop-shadow(0px 1px 2px rgba(0, 0, 0, 0.3));\n",
              "      fill: #FFFFFF;\n",
              "    }\n",
              "  </style>\n",
              "\n",
              "      <script>\n",
              "        const buttonEl =\n",
              "          document.querySelector('#df-e1a298f3-8646-4cb7-b430-6d61c56330d8 button.colab-df-convert');\n",
              "        buttonEl.style.display =\n",
              "          google.colab.kernel.accessAllowed ? 'block' : 'none';\n",
              "\n",
              "        async function convertToInteractive(key) {\n",
              "          const element = document.querySelector('#df-e1a298f3-8646-4cb7-b430-6d61c56330d8');\n",
              "          const dataTable =\n",
              "            await google.colab.kernel.invokeFunction('convertToInteractive',\n",
              "                                                     [key], {});\n",
              "          if (!dataTable) return;\n",
              "\n",
              "          const docLinkHtml = 'Like what you see? Visit the ' +\n",
              "            '<a target=\"_blank\" href=https://colab.research.google.com/notebooks/data_table.ipynb>data table notebook</a>'\n",
              "            + ' to learn more about interactive tables.';\n",
              "          element.innerHTML = '';\n",
              "          dataTable['output_type'] = 'display_data';\n",
              "          await google.colab.output.renderOutput(dataTable, element);\n",
              "          const docLink = document.createElement('div');\n",
              "          docLink.innerHTML = docLinkHtml;\n",
              "          element.appendChild(docLink);\n",
              "        }\n",
              "      </script>\n",
              "    </div>\n",
              "  </div>\n",
              "  "
            ],
            "text/plain": [
              "                                         Review_text\n",
              "0  This is a good tasting K-cup from a guy who dr...\n",
              "1  these are a wonderful light crunchy breadstick...\n",
              "2  Love this product! And has anyone mentioned th...\n",
              "3  I just bought this and have used it around the...\n",
              "4  great product.  actually we've used it all now..."
            ]
          },
          "metadata": {},
          "execution_count": 113
        }
      ]
    },
    {
      "cell_type": "code",
      "source": [
        "X_train = train_unique['clean_reviews']\n",
        "X_train.head()"
      ],
      "metadata": {
        "colab": {
          "base_uri": "https://localhost:8080/"
        },
        "id": "-JuBS85vxlUn",
        "outputId": "eb32bb7b-d8c2-4889-bbb2-3c60e96070cb"
      },
      "execution_count": null,
      "outputs": [
        {
          "output_type": "execute_result",
          "data": {
            "text/plain": [
              "0    i received this product early from the seller ...\n",
              "1    numi s collection assortment melange includes ...\n",
              "2    i was very careful not to overcook this pasta ...\n",
              "3    buying this multi pack i was misled by the pic...\n",
              "4    these bars are so good  i loved them warmed up...\n",
              "Name: clean_reviews, dtype: object"
            ]
          },
          "metadata": {},
          "execution_count": 119
        }
      ]
    },
    {
      "cell_type": "code",
      "source": [
        "X_train"
      ],
      "metadata": {
        "colab": {
          "base_uri": "https://localhost:8080/"
        },
        "id": "LcY3L8cN8LJ0",
        "outputId": "e9bb1e55-32ef-4d9e-b753-e36ce0759850"
      },
      "execution_count": null,
      "outputs": [
        {
          "output_type": "execute_result",
          "data": {
            "text/plain": [
              "0         i received this product early from the seller ...\n",
              "1         numi s collection assortment melange includes ...\n",
              "2         i was very careful not to overcook this pasta ...\n",
              "3         buying this multi pack i was misled by the pic...\n",
              "4         these bars are so good  i loved them warmed up...\n",
              "                                ...                        \n",
              "426331    this coconut water tastes great  the first tim...\n",
              "426333    being one that loves a dirty ketel one or grey...\n",
              "426335    i had been buying at a store  but they had a h...\n",
              "426337    i love real scottish haggis and this brand  th...\n",
              "426338    we eat a lot of syrup in our house   my three ...\n",
              "Name: clean_reviews, Length: 308934, dtype: object"
            ]
          },
          "metadata": {},
          "execution_count": 120
        }
      ]
    },
    {
      "cell_type": "code",
      "source": [
        "X_test=test\n",
        "X_test.head()"
      ],
      "metadata": {
        "colab": {
          "base_uri": "https://localhost:8080/",
          "height": 206
        },
        "id": "cu-_InXEx042",
        "outputId": "69b568df-74c9-46db-c243-e188908c12c1"
      },
      "execution_count": null,
      "outputs": [
        {
          "output_type": "execute_result",
          "data": {
            "text/html": [
              "\n",
              "  <div id=\"df-1d886f68-ef77-45f2-826a-80b9c555f8b5\">\n",
              "    <div class=\"colab-df-container\">\n",
              "      <div>\n",
              "<style scoped>\n",
              "    .dataframe tbody tr th:only-of-type {\n",
              "        vertical-align: middle;\n",
              "    }\n",
              "\n",
              "    .dataframe tbody tr th {\n",
              "        vertical-align: top;\n",
              "    }\n",
              "\n",
              "    .dataframe thead th {\n",
              "        text-align: right;\n",
              "    }\n",
              "</style>\n",
              "<table border=\"1\" class=\"dataframe\">\n",
              "  <thead>\n",
              "    <tr style=\"text-align: right;\">\n",
              "      <th></th>\n",
              "      <th>Review_text</th>\n",
              "    </tr>\n",
              "  </thead>\n",
              "  <tbody>\n",
              "    <tr>\n",
              "      <th>0</th>\n",
              "      <td>This is a good tasting K-cup from a guy who dr...</td>\n",
              "    </tr>\n",
              "    <tr>\n",
              "      <th>1</th>\n",
              "      <td>these are a wonderful light crunchy breadstick...</td>\n",
              "    </tr>\n",
              "    <tr>\n",
              "      <th>2</th>\n",
              "      <td>Love this product! And has anyone mentioned th...</td>\n",
              "    </tr>\n",
              "    <tr>\n",
              "      <th>3</th>\n",
              "      <td>I just bought this and have used it around the...</td>\n",
              "    </tr>\n",
              "    <tr>\n",
              "      <th>4</th>\n",
              "      <td>great product.  actually we've used it all now...</td>\n",
              "    </tr>\n",
              "  </tbody>\n",
              "</table>\n",
              "</div>\n",
              "      <button class=\"colab-df-convert\" onclick=\"convertToInteractive('df-1d886f68-ef77-45f2-826a-80b9c555f8b5')\"\n",
              "              title=\"Convert this dataframe to an interactive table.\"\n",
              "              style=\"display:none;\">\n",
              "        \n",
              "  <svg xmlns=\"http://www.w3.org/2000/svg\" height=\"24px\"viewBox=\"0 0 24 24\"\n",
              "       width=\"24px\">\n",
              "    <path d=\"M0 0h24v24H0V0z\" fill=\"none\"/>\n",
              "    <path d=\"M18.56 5.44l.94 2.06.94-2.06 2.06-.94-2.06-.94-.94-2.06-.94 2.06-2.06.94zm-11 1L8.5 8.5l.94-2.06 2.06-.94-2.06-.94L8.5 2.5l-.94 2.06-2.06.94zm10 10l.94 2.06.94-2.06 2.06-.94-2.06-.94-.94-2.06-.94 2.06-2.06.94z\"/><path d=\"M17.41 7.96l-1.37-1.37c-.4-.4-.92-.59-1.43-.59-.52 0-1.04.2-1.43.59L10.3 9.45l-7.72 7.72c-.78.78-.78 2.05 0 2.83L4 21.41c.39.39.9.59 1.41.59.51 0 1.02-.2 1.41-.59l7.78-7.78 2.81-2.81c.8-.78.8-2.07 0-2.86zM5.41 20L4 18.59l7.72-7.72 1.47 1.35L5.41 20z\"/>\n",
              "  </svg>\n",
              "      </button>\n",
              "      \n",
              "  <style>\n",
              "    .colab-df-container {\n",
              "      display:flex;\n",
              "      flex-wrap:wrap;\n",
              "      gap: 12px;\n",
              "    }\n",
              "\n",
              "    .colab-df-convert {\n",
              "      background-color: #E8F0FE;\n",
              "      border: none;\n",
              "      border-radius: 50%;\n",
              "      cursor: pointer;\n",
              "      display: none;\n",
              "      fill: #1967D2;\n",
              "      height: 32px;\n",
              "      padding: 0 0 0 0;\n",
              "      width: 32px;\n",
              "    }\n",
              "\n",
              "    .colab-df-convert:hover {\n",
              "      background-color: #E2EBFA;\n",
              "      box-shadow: 0px 1px 2px rgba(60, 64, 67, 0.3), 0px 1px 3px 1px rgba(60, 64, 67, 0.15);\n",
              "      fill: #174EA6;\n",
              "    }\n",
              "\n",
              "    [theme=dark] .colab-df-convert {\n",
              "      background-color: #3B4455;\n",
              "      fill: #D2E3FC;\n",
              "    }\n",
              "\n",
              "    [theme=dark] .colab-df-convert:hover {\n",
              "      background-color: #434B5C;\n",
              "      box-shadow: 0px 1px 3px 1px rgba(0, 0, 0, 0.15);\n",
              "      filter: drop-shadow(0px 1px 2px rgba(0, 0, 0, 0.3));\n",
              "      fill: #FFFFFF;\n",
              "    }\n",
              "  </style>\n",
              "\n",
              "      <script>\n",
              "        const buttonEl =\n",
              "          document.querySelector('#df-1d886f68-ef77-45f2-826a-80b9c555f8b5 button.colab-df-convert');\n",
              "        buttonEl.style.display =\n",
              "          google.colab.kernel.accessAllowed ? 'block' : 'none';\n",
              "\n",
              "        async function convertToInteractive(key) {\n",
              "          const element = document.querySelector('#df-1d886f68-ef77-45f2-826a-80b9c555f8b5');\n",
              "          const dataTable =\n",
              "            await google.colab.kernel.invokeFunction('convertToInteractive',\n",
              "                                                     [key], {});\n",
              "          if (!dataTable) return;\n",
              "\n",
              "          const docLinkHtml = 'Like what you see? Visit the ' +\n",
              "            '<a target=\"_blank\" href=https://colab.research.google.com/notebooks/data_table.ipynb>data table notebook</a>'\n",
              "            + ' to learn more about interactive tables.';\n",
              "          element.innerHTML = '';\n",
              "          dataTable['output_type'] = 'display_data';\n",
              "          await google.colab.output.renderOutput(dataTable, element);\n",
              "          const docLink = document.createElement('div');\n",
              "          docLink.innerHTML = docLinkHtml;\n",
              "          element.appendChild(docLink);\n",
              "        }\n",
              "      </script>\n",
              "    </div>\n",
              "  </div>\n",
              "  "
            ],
            "text/plain": [
              "                                         Review_text\n",
              "0  This is a good tasting K-cup from a guy who dr...\n",
              "1  these are a wonderful light crunchy breadstick...\n",
              "2  Love this product! And has anyone mentioned th...\n",
              "3  I just bought this and have used it around the...\n",
              "4  great product.  actually we've used it all now..."
            ]
          },
          "metadata": {},
          "execution_count": 115
        }
      ]
    },
    {
      "cell_type": "code",
      "source": [
        "vectorizer = TfidfVectorizer()\n",
        "vectorizer.fit(X_train)"
      ],
      "metadata": {
        "colab": {
          "base_uri": "https://localhost:8080/"
        },
        "id": "oc6YUdvZy5cr",
        "outputId": "65a5ea11-e5cf-4c82-e6bb-d50525a4179a"
      },
      "execution_count": null,
      "outputs": [
        {
          "output_type": "execute_result",
          "data": {
            "text/plain": [
              "TfidfVectorizer()"
            ]
          },
          "metadata": {},
          "execution_count": 129
        }
      ]
    },
    {
      "cell_type": "code",
      "source": [
        "X_train_tfidf = vectorizer.transform(X_train)"
      ],
      "metadata": {
        "id": "PeeJ2YKqmKjI"
      },
      "execution_count": null,
      "outputs": []
    },
    {
      "cell_type": "code",
      "source": [
        "X_train_tfidf"
      ],
      "metadata": {
        "colab": {
          "base_uri": "https://localhost:8080/"
        },
        "id": "tNvAyaeUyIBd",
        "outputId": "8a14d8c7-c785-4d95-cd50-cdb92df12c4a"
      },
      "execution_count": null,
      "outputs": [
        {
          "output_type": "execute_result",
          "data": {
            "text/plain": [
              "<308934x100540 sparse matrix of type '<class 'numpy.float64'>'\n",
              "\twith 17025589 stored elements in Compressed Sparse Row format>"
            ]
          },
          "metadata": {},
          "execution_count": 131
        }
      ]
    },
    {
      "cell_type": "code",
      "source": [
        "print(X_train_tfidf.shape)"
      ],
      "metadata": {
        "colab": {
          "base_uri": "https://localhost:8080/"
        },
        "id": "OKbxmgVM0U2m",
        "outputId": "14ddcf10-e507-45f4-edc6-12e8bcbbdbd4"
      },
      "execution_count": null,
      "outputs": [
        {
          "output_type": "stream",
          "name": "stdout",
          "text": [
            "(308934, 100540)\n"
          ]
        }
      ]
    },
    {
      "cell_type": "code",
      "source": [
        "from sklearn.metrics.pairwise import cosine_similarity\n",
        "# compute the cosine similarity matrix\n",
        "cosine_sim = cosine_similarity(X_train_tfidf, X_train_tfidf)"
      ],
      "metadata": {
        "id": "idNQ33v0Zh51"
      },
      "execution_count": null,
      "outputs": []
    },
    {
      "cell_type": "code",
      "source": [
        "from sklearn.manifold import MDS\n",
        "# compute the MDS coordinates\n",
        "mds = MDS(n_components=2, dissimilarity=\"precomputed\", random_state=1)"
      ],
      "metadata": {
        "id": "bidVGZ7sZti1"
      },
      "execution_count": null,
      "outputs": []
    },
    {
      "cell_type": "markdown",
      "source": [
        "Jaccard coefficient  for tf-idf \n",
        "representation ??\n"
      ],
      "metadata": {
        "id": "K08MwjCp3Zy6"
      }
    },
    {
      "cell_type": "code",
      "source": [
        "#Visualize TF-IDF\n",
        "\n",
        "pos = mds.fit_transform(cosine_sim)\n",
        "\t\n",
        "xs, ys = pos[:, 0], pos[:, 1]\n",
        "\n",
        "# create dataframe\n",
        "vistfidf_df = pd.DataFrame(dict(x=xs, y=ys, label=df['label']))\n",
        "\n",
        "# group by label\n",
        "groups = vistfidf_df.groupby('label')\n",
        "\n",
        "# set up plot\n",
        "fig, ax = plt.subplots(figsize=(15, 15))\n",
        "ax.margins(0.05)\n",
        "\n",
        "# plot each group\n",
        "for name, group in groups:\n",
        "    ax.plot(group.x, group.y, marker='o', linestyle='', ms=10, label=name)\n",
        "    ax.set_aspect('auto')\n",
        "    ax.tick_params(axis='x', which='both', bottom='off', top='off', labelbottom='off')\n",
        "    ax.tick_params(axis='y', which='both', left='off', top='off', labelleft='off')\n",
        "    ax.legend(numpoints=1)\n",
        "\n",
        "plt.show()"
      ],
      "metadata": {
        "id": "PE-6WLTuZ7f4"
      },
      "execution_count": null,
      "outputs": []
    },
    {
      "cell_type": "markdown",
      "source": [
        "## Representation\n",
        "Binary representation , frequency count , Tf-idf ?\n",
        "• Applications like clustering & topic modelling have reported to work \n",
        "better with raw term frequencies\n",
        "• Stemming or Lemmatization? Stemming useful when mining very small \n",
        "documents like discussion board posts or tweets.\n",
        "Studies have shown that techniques like stemming can sometimes \n",
        "degrade classification accuracy when working with larger documents. \n",
        "[Charu C. Aggarwal. “Machine Learning for Text.”]\n",
        "\n"
      ],
      "metadata": {
        "id": "pwSYwGIIymXN"
      }
    },
    {
      "cell_type": "markdown",
      "source": [
        "# Models\n",
        "\n",
        "Naive Bayes (simple, common) –  TODAY \n",
        "• k-Nearest Neighbors (simple, powerful)\n",
        "• Support-vector machines (generally more powerful)\n",
        "• Logistic Regression ... plus many other methods"
      ],
      "metadata": {
        "id": "dI5Tk5lwyrEe"
      }
    },
    {
      "cell_type": "code",
      "source": [
        "# Function that returns a pipeline given a vectorizer, classifier and [dim_reducer] \n",
        "\n",
        "def makePipeline(vectorizer, classifier, dim_reducer = None):\n",
        "    steps = [('vectorize', vectorizer)]\n",
        "    \n",
        "    if dim_reducer:\n",
        "        steps.append(('dim_reduce', dim_reducer))\n",
        "    \n",
        "    steps.append(('classify', classifier))\n",
        "\n",
        "    return Pipeline(steps)"
      ],
      "metadata": {
        "id": "kfAV-wmOyohu"
      },
      "execution_count": null,
      "outputs": []
    },
    {
      "cell_type": "markdown",
      "source": [
        "Add the KNN model"
      ],
      "metadata": {
        "id": "_yKR42iO5FrR"
      }
    },
    {
      "cell_type": "code",
      "source": [
        "fields = ['Review Type', 'N-Grams', 'Vectorizer', 'Model', 'Precision', 'Recall', 'Accuracy', 'F1']\n",
        "table = defaultdict(list)\n",
        "\n",
        "# Using Stratification to make sure that proportions of classes remain the same in the training and test splits \n",
        "cv = StratifiedKFold(n_splits=10, shuffle=True, random_state=22)\n",
        "\n",
        "for representation in ('binary', 'tf', 'tfidf', 'Lem-Stem'):\n",
        "    for n_grams in (1,2,3):\n",
        "        for vectorizer in (CountVectorizer(ngram_range=(n_grams,n_grams), lowercase= False), \\\n",
        "            TfidfVectorizer(ngram_range=(n_grams,n_grams), lowercase= False),\\\n",
        "                CountVectorizer(binary=True, ngram_range=(n_grams,n_grams), lowercase= False)):\n",
        "                for model in (MultinomialNB(), SGDClassifier(), LogisticRegression()):\n",
        "                    scores = defaultdict(list)\n",
        "                    for train_idx, test_idx in cv.split(df, df['Self Polarity']):\n",
        "                        \n",
        "                        X_train, X_test = df[preProcessType][train_idx], df[preProcessType][test_idx]\n",
        "                        y_train, y_test = df['Self Polarity'][train_idx], df['Self Polarity'][test_idx] \n",
        "                        \n",
        "                        pipeline = makePipeline(vectorizer=vectorizer, classifier=model)\n",
        "                        \n",
        "                        pipeline.fit(X_train, y_train)\n",
        "                        y_pred = pipeline.predict(X_test)\n",
        "\n",
        "                        scores['Precision'].append(precision_score(y_test, y_pred, average=None))\n",
        "                        scores['Recall'].append(recall_score(y_test, y_pred, average=None))\n",
        "                        scores['F1'].append(f1_score(y_test, y_pred, average=None))\n",
        "                        scores['Accuracy'].append(accuracy_score(y_test, y_pred))\n",
        "                    \n",
        "                    if n_grams == 1:\n",
        "                        n_grams_str = 'Unigram'\n",
        "                    elif n_grams == 2:\n",
        "                        n_grams_str = 'Bigram'\n",
        "                    else:\n",
        "                        n_grams_str = 'Trigram'\n",
        "                    \n",
        "                    for field, value in ((\"Tweet Type\", preProcessType), (\"N-Grams\", n_grams_str), \\\n",
        "                        (\"Vectorizer\", str(vectorizer)), (\"Model\", str(model))): \n",
        "\n",
        "                        table[field].append(value)\n",
        "\n",
        "                    for field in fields[4:]:\n",
        "                        table[field].append(mean(scores[field]))"
      ],
      "metadata": {
        "id": "Y1uZbB-u2ck-"
      },
      "execution_count": null,
      "outputs": []
    },
    {
      "cell_type": "markdown",
      "source": [
        "# Sequence Models\n",
        "\n",
        "So far you have investigated the document as a ‘bag of word model’. Bag of word models fail \n",
        "to take advantage of the semantic meaning present in word ordering. Experiment with a least \n",
        "one model that looks at the text as a sequence (RNN, LSTM,...). Document your results and \n",
        "compare to the bag of word representation models in steps 2-4."
      ],
      "metadata": {
        "id": "Y_58hreT7ZSU"
      }
    },
    {
      "cell_type": "code",
      "source": [
        "import tensorflow as tf\n",
        "from keras.models import Sequential\n",
        "from keras.layers.recurrent import LSTM, GRU,SimpleRNN\n",
        "from keras.layers.core import Dense, Activation, Dropout\n",
        "from keras.layers.embeddings import Embedding\n",
        "from tensorflow.keras.layers import BatchNormalization\n",
        "from keras.utils import np_utils\n",
        "from sklearn import preprocessing, decomposition, model_selection, metrics, pipeline\n",
        "from keras.layers import GlobalMaxPooling1D, Conv1D, MaxPooling1D, Flatten, Bidirectional, SpatialDropout1D\n",
        "from keras.preprocessing import sequence, text\n",
        "from keras.callbacks import EarlyStopping\n",
        "import pandas as pd\n",
        "import numpy as np\n",
        "\n"
      ],
      "metadata": {
        "id": "tyE3CR-v7ak3"
      },
      "execution_count": null,
      "outputs": []
    },
    {
      "cell_type": "code",
      "source": [
        "# loading the data\n",
        "# train_df = pd.read_csv('/content/train.csv')\n",
        "test_df = pd.read_csv('/content/test.csv')"
      ],
      "metadata": {
        "id": "qIjjXUIPQPT4"
      },
      "execution_count": null,
      "outputs": []
    },
    {
      "cell_type": "code",
      "source": [
        "train_unique.head()"
      ],
      "metadata": {
        "colab": {
          "base_uri": "https://localhost:8080/",
          "height": 206
        },
        "id": "qSjjvQ_YQgOm",
        "outputId": "90e9f8f6-b05a-4673-dec2-6cf4d2f3e2a4"
      },
      "execution_count": null,
      "outputs": [
        {
          "output_type": "execute_result",
          "data": {
            "text/plain": [
              "   Score                                        Review_text  \\\n",
              "0      5  I received this product early from the seller!...   \n",
              "1      5  *****<br />Numi's Collection Assortment Melang...   \n",
              "2      5  I was very careful not to overcook this pasta,...   \n",
              "3      5  Buying this multi-pack I was misled by the pic...   \n",
              "4      5  These bars are so good! I loved them warmed up...   \n",
              "\n",
              "                                       clean_reviews  \n",
              "0  i received this product early from the seller ...  \n",
              "1  numi collection assortment melange includes   ...  \n",
              "2  i was very careful not to overcook this pasta ...  \n",
              "3  buying this multi pack i was misled by the pic...  \n",
              "4  these bars are so good  i loved them warmed up...  "
            ],
            "text/html": [
              "\n",
              "  <div id=\"df-d2da1107-5ab7-4358-99b6-7512f925c9d4\">\n",
              "    <div class=\"colab-df-container\">\n",
              "      <div>\n",
              "<style scoped>\n",
              "    .dataframe tbody tr th:only-of-type {\n",
              "        vertical-align: middle;\n",
              "    }\n",
              "\n",
              "    .dataframe tbody tr th {\n",
              "        vertical-align: top;\n",
              "    }\n",
              "\n",
              "    .dataframe thead th {\n",
              "        text-align: right;\n",
              "    }\n",
              "</style>\n",
              "<table border=\"1\" class=\"dataframe\">\n",
              "  <thead>\n",
              "    <tr style=\"text-align: right;\">\n",
              "      <th></th>\n",
              "      <th>Score</th>\n",
              "      <th>Review_text</th>\n",
              "      <th>clean_reviews</th>\n",
              "    </tr>\n",
              "  </thead>\n",
              "  <tbody>\n",
              "    <tr>\n",
              "      <th>0</th>\n",
              "      <td>5</td>\n",
              "      <td>I received this product early from the seller!...</td>\n",
              "      <td>i received this product early from the seller ...</td>\n",
              "    </tr>\n",
              "    <tr>\n",
              "      <th>1</th>\n",
              "      <td>5</td>\n",
              "      <td>*****&lt;br /&gt;Numi's Collection Assortment Melang...</td>\n",
              "      <td>numi collection assortment melange includes   ...</td>\n",
              "    </tr>\n",
              "    <tr>\n",
              "      <th>2</th>\n",
              "      <td>5</td>\n",
              "      <td>I was very careful not to overcook this pasta,...</td>\n",
              "      <td>i was very careful not to overcook this pasta ...</td>\n",
              "    </tr>\n",
              "    <tr>\n",
              "      <th>3</th>\n",
              "      <td>5</td>\n",
              "      <td>Buying this multi-pack I was misled by the pic...</td>\n",
              "      <td>buying this multi pack i was misled by the pic...</td>\n",
              "    </tr>\n",
              "    <tr>\n",
              "      <th>4</th>\n",
              "      <td>5</td>\n",
              "      <td>These bars are so good! I loved them warmed up...</td>\n",
              "      <td>these bars are so good  i loved them warmed up...</td>\n",
              "    </tr>\n",
              "  </tbody>\n",
              "</table>\n",
              "</div>\n",
              "      <button class=\"colab-df-convert\" onclick=\"convertToInteractive('df-d2da1107-5ab7-4358-99b6-7512f925c9d4')\"\n",
              "              title=\"Convert this dataframe to an interactive table.\"\n",
              "              style=\"display:none;\">\n",
              "        \n",
              "  <svg xmlns=\"http://www.w3.org/2000/svg\" height=\"24px\"viewBox=\"0 0 24 24\"\n",
              "       width=\"24px\">\n",
              "    <path d=\"M0 0h24v24H0V0z\" fill=\"none\"/>\n",
              "    <path d=\"M18.56 5.44l.94 2.06.94-2.06 2.06-.94-2.06-.94-.94-2.06-.94 2.06-2.06.94zm-11 1L8.5 8.5l.94-2.06 2.06-.94-2.06-.94L8.5 2.5l-.94 2.06-2.06.94zm10 10l.94 2.06.94-2.06 2.06-.94-2.06-.94-.94-2.06-.94 2.06-2.06.94z\"/><path d=\"M17.41 7.96l-1.37-1.37c-.4-.4-.92-.59-1.43-.59-.52 0-1.04.2-1.43.59L10.3 9.45l-7.72 7.72c-.78.78-.78 2.05 0 2.83L4 21.41c.39.39.9.59 1.41.59.51 0 1.02-.2 1.41-.59l7.78-7.78 2.81-2.81c.8-.78.8-2.07 0-2.86zM5.41 20L4 18.59l7.72-7.72 1.47 1.35L5.41 20z\"/>\n",
              "  </svg>\n",
              "      </button>\n",
              "      \n",
              "  <style>\n",
              "    .colab-df-container {\n",
              "      display:flex;\n",
              "      flex-wrap:wrap;\n",
              "      gap: 12px;\n",
              "    }\n",
              "\n",
              "    .colab-df-convert {\n",
              "      background-color: #E8F0FE;\n",
              "      border: none;\n",
              "      border-radius: 50%;\n",
              "      cursor: pointer;\n",
              "      display: none;\n",
              "      fill: #1967D2;\n",
              "      height: 32px;\n",
              "      padding: 0 0 0 0;\n",
              "      width: 32px;\n",
              "    }\n",
              "\n",
              "    .colab-df-convert:hover {\n",
              "      background-color: #E2EBFA;\n",
              "      box-shadow: 0px 1px 2px rgba(60, 64, 67, 0.3), 0px 1px 3px 1px rgba(60, 64, 67, 0.15);\n",
              "      fill: #174EA6;\n",
              "    }\n",
              "\n",
              "    [theme=dark] .colab-df-convert {\n",
              "      background-color: #3B4455;\n",
              "      fill: #D2E3FC;\n",
              "    }\n",
              "\n",
              "    [theme=dark] .colab-df-convert:hover {\n",
              "      background-color: #434B5C;\n",
              "      box-shadow: 0px 1px 3px 1px rgba(0, 0, 0, 0.15);\n",
              "      filter: drop-shadow(0px 1px 2px rgba(0, 0, 0, 0.3));\n",
              "      fill: #FFFFFF;\n",
              "    }\n",
              "  </style>\n",
              "\n",
              "      <script>\n",
              "        const buttonEl =\n",
              "          document.querySelector('#df-d2da1107-5ab7-4358-99b6-7512f925c9d4 button.colab-df-convert');\n",
              "        buttonEl.style.display =\n",
              "          google.colab.kernel.accessAllowed ? 'block' : 'none';\n",
              "\n",
              "        async function convertToInteractive(key) {\n",
              "          const element = document.querySelector('#df-d2da1107-5ab7-4358-99b6-7512f925c9d4');\n",
              "          const dataTable =\n",
              "            await google.colab.kernel.invokeFunction('convertToInteractive',\n",
              "                                                     [key], {});\n",
              "          if (!dataTable) return;\n",
              "\n",
              "          const docLinkHtml = 'Like what you see? Visit the ' +\n",
              "            '<a target=\"_blank\" href=https://colab.research.google.com/notebooks/data_table.ipynb>data table notebook</a>'\n",
              "            + ' to learn more about interactive tables.';\n",
              "          element.innerHTML = '';\n",
              "          dataTable['output_type'] = 'display_data';\n",
              "          await google.colab.output.renderOutput(dataTable, element);\n",
              "          const docLink = document.createElement('div');\n",
              "          docLink.innerHTML = docLinkHtml;\n",
              "          element.appendChild(docLink);\n",
              "        }\n",
              "      </script>\n",
              "    </div>\n",
              "  </div>\n",
              "  "
            ]
          },
          "metadata": {},
          "execution_count": 17
        }
      ]
    },
    {
      "cell_type": "code",
      "source": [
        "test_df['clean_reviews'] = test_df['Review_text'].apply(data_cleanup)\n",
        "test_df.head()"
      ],
      "metadata": {
        "colab": {
          "base_uri": "https://localhost:8080/",
          "height": 206
        },
        "id": "u7BiCZw_Rmch",
        "outputId": "53b99467-9ea4-4ad9-96d1-ec26512e59ff"
      },
      "execution_count": null,
      "outputs": [
        {
          "output_type": "execute_result",
          "data": {
            "text/plain": [
              "                                         Review_text  \\\n",
              "0  This is a good tasting K-cup from a guy who dr...   \n",
              "1  these are a wonderful light crunchy breadstick...   \n",
              "2  Love this product! And has anyone mentioned th...   \n",
              "3  I just bought this and have used it around the...   \n",
              "4  great product.  actually we've used it all now...   \n",
              "\n",
              "                                       clean_reviews  \n",
              "0  this is a good tasting k cup from a guy who dr...  \n",
              "1  these are a wonderful light crunchy breadstick...  \n",
              "2  love this product  and has anyone mentioned th...  \n",
              "3  i just bought this and have used it around the...  \n",
              "4  great product   actually we have used it all n...  "
            ],
            "text/html": [
              "\n",
              "  <div id=\"df-98872ddc-de62-4f62-99f8-92ce344e87da\">\n",
              "    <div class=\"colab-df-container\">\n",
              "      <div>\n",
              "<style scoped>\n",
              "    .dataframe tbody tr th:only-of-type {\n",
              "        vertical-align: middle;\n",
              "    }\n",
              "\n",
              "    .dataframe tbody tr th {\n",
              "        vertical-align: top;\n",
              "    }\n",
              "\n",
              "    .dataframe thead th {\n",
              "        text-align: right;\n",
              "    }\n",
              "</style>\n",
              "<table border=\"1\" class=\"dataframe\">\n",
              "  <thead>\n",
              "    <tr style=\"text-align: right;\">\n",
              "      <th></th>\n",
              "      <th>Review_text</th>\n",
              "      <th>clean_reviews</th>\n",
              "    </tr>\n",
              "  </thead>\n",
              "  <tbody>\n",
              "    <tr>\n",
              "      <th>0</th>\n",
              "      <td>This is a good tasting K-cup from a guy who dr...</td>\n",
              "      <td>this is a good tasting k cup from a guy who dr...</td>\n",
              "    </tr>\n",
              "    <tr>\n",
              "      <th>1</th>\n",
              "      <td>these are a wonderful light crunchy breadstick...</td>\n",
              "      <td>these are a wonderful light crunchy breadstick...</td>\n",
              "    </tr>\n",
              "    <tr>\n",
              "      <th>2</th>\n",
              "      <td>Love this product! And has anyone mentioned th...</td>\n",
              "      <td>love this product  and has anyone mentioned th...</td>\n",
              "    </tr>\n",
              "    <tr>\n",
              "      <th>3</th>\n",
              "      <td>I just bought this and have used it around the...</td>\n",
              "      <td>i just bought this and have used it around the...</td>\n",
              "    </tr>\n",
              "    <tr>\n",
              "      <th>4</th>\n",
              "      <td>great product.  actually we've used it all now...</td>\n",
              "      <td>great product   actually we have used it all n...</td>\n",
              "    </tr>\n",
              "  </tbody>\n",
              "</table>\n",
              "</div>\n",
              "      <button class=\"colab-df-convert\" onclick=\"convertToInteractive('df-98872ddc-de62-4f62-99f8-92ce344e87da')\"\n",
              "              title=\"Convert this dataframe to an interactive table.\"\n",
              "              style=\"display:none;\">\n",
              "        \n",
              "  <svg xmlns=\"http://www.w3.org/2000/svg\" height=\"24px\"viewBox=\"0 0 24 24\"\n",
              "       width=\"24px\">\n",
              "    <path d=\"M0 0h24v24H0V0z\" fill=\"none\"/>\n",
              "    <path d=\"M18.56 5.44l.94 2.06.94-2.06 2.06-.94-2.06-.94-.94-2.06-.94 2.06-2.06.94zm-11 1L8.5 8.5l.94-2.06 2.06-.94-2.06-.94L8.5 2.5l-.94 2.06-2.06.94zm10 10l.94 2.06.94-2.06 2.06-.94-2.06-.94-.94-2.06-.94 2.06-2.06.94z\"/><path d=\"M17.41 7.96l-1.37-1.37c-.4-.4-.92-.59-1.43-.59-.52 0-1.04.2-1.43.59L10.3 9.45l-7.72 7.72c-.78.78-.78 2.05 0 2.83L4 21.41c.39.39.9.59 1.41.59.51 0 1.02-.2 1.41-.59l7.78-7.78 2.81-2.81c.8-.78.8-2.07 0-2.86zM5.41 20L4 18.59l7.72-7.72 1.47 1.35L5.41 20z\"/>\n",
              "  </svg>\n",
              "      </button>\n",
              "      \n",
              "  <style>\n",
              "    .colab-df-container {\n",
              "      display:flex;\n",
              "      flex-wrap:wrap;\n",
              "      gap: 12px;\n",
              "    }\n",
              "\n",
              "    .colab-df-convert {\n",
              "      background-color: #E8F0FE;\n",
              "      border: none;\n",
              "      border-radius: 50%;\n",
              "      cursor: pointer;\n",
              "      display: none;\n",
              "      fill: #1967D2;\n",
              "      height: 32px;\n",
              "      padding: 0 0 0 0;\n",
              "      width: 32px;\n",
              "    }\n",
              "\n",
              "    .colab-df-convert:hover {\n",
              "      background-color: #E2EBFA;\n",
              "      box-shadow: 0px 1px 2px rgba(60, 64, 67, 0.3), 0px 1px 3px 1px rgba(60, 64, 67, 0.15);\n",
              "      fill: #174EA6;\n",
              "    }\n",
              "\n",
              "    [theme=dark] .colab-df-convert {\n",
              "      background-color: #3B4455;\n",
              "      fill: #D2E3FC;\n",
              "    }\n",
              "\n",
              "    [theme=dark] .colab-df-convert:hover {\n",
              "      background-color: #434B5C;\n",
              "      box-shadow: 0px 1px 3px 1px rgba(0, 0, 0, 0.15);\n",
              "      filter: drop-shadow(0px 1px 2px rgba(0, 0, 0, 0.3));\n",
              "      fill: #FFFFFF;\n",
              "    }\n",
              "  </style>\n",
              "\n",
              "      <script>\n",
              "        const buttonEl =\n",
              "          document.querySelector('#df-98872ddc-de62-4f62-99f8-92ce344e87da button.colab-df-convert');\n",
              "        buttonEl.style.display =\n",
              "          google.colab.kernel.accessAllowed ? 'block' : 'none';\n",
              "\n",
              "        async function convertToInteractive(key) {\n",
              "          const element = document.querySelector('#df-98872ddc-de62-4f62-99f8-92ce344e87da');\n",
              "          const dataTable =\n",
              "            await google.colab.kernel.invokeFunction('convertToInteractive',\n",
              "                                                     [key], {});\n",
              "          if (!dataTable) return;\n",
              "\n",
              "          const docLinkHtml = 'Like what you see? Visit the ' +\n",
              "            '<a target=\"_blank\" href=https://colab.research.google.com/notebooks/data_table.ipynb>data table notebook</a>'\n",
              "            + ' to learn more about interactive tables.';\n",
              "          element.innerHTML = '';\n",
              "          dataTable['output_type'] = 'display_data';\n",
              "          await google.colab.output.renderOutput(dataTable, element);\n",
              "          const docLink = document.createElement('div');\n",
              "          docLink.innerHTML = docLinkHtml;\n",
              "          element.appendChild(docLink);\n",
              "        }\n",
              "      </script>\n",
              "    </div>\n",
              "  </div>\n",
              "  "
            ]
          },
          "metadata": {},
          "execution_count": 18
        }
      ]
    },
    {
      "cell_type": "code",
      "source": [
        "# apply tokenisation and stop word removal and lemma\n",
        "train_unique['sequence'] = train_unique['nltk_tokens'].apply(lambda x: \" \".join(x))"
      ],
      "metadata": {
        "colab": {
          "base_uri": "https://localhost:8080/"
        },
        "id": "86g3Rvp9wFty",
        "outputId": "ed7ebe40-1fdb-4e31-a777-059624d4260d"
      },
      "execution_count": null,
      "outputs": [
        {
          "output_type": "stream",
          "name": "stderr",
          "text": [
            "/usr/local/lib/python3.7/dist-packages/ipykernel_launcher.py:2: SettingWithCopyWarning: \n",
            "A value is trying to be set on a copy of a slice from a DataFrame.\n",
            "Try using .loc[row_indexer,col_indexer] = value instead\n",
            "\n",
            "See the caveats in the documentation: https://pandas.pydata.org/pandas-docs/stable/user_guide/indexing.html#returning-a-view-versus-a-copy\n",
            "  \n"
          ]
        }
      ]
    },
    {
      "cell_type": "code",
      "source": [
        "train_unique['sequence'].head()"
      ],
      "metadata": {
        "colab": {
          "base_uri": "https://localhost:8080/"
        },
        "id": "O1-kuRIjwxKQ",
        "outputId": "0df82f29-dce7-4555-c98b-ae5685612c3f"
      },
      "execution_count": null,
      "outputs": [
        {
          "output_type": "execute_result",
          "data": {
            "text/plain": [
              "0    received product early seller tastey great mid...\n",
              "1    numi collection assortment melange includes he...\n",
              "2    careful overcook pasta making sure take bite e...\n",
              "3    buying multi pack misled picture whole hazel n...\n",
              "4    bar good loved warmed definitely think great s...\n",
              "Name: sequence, dtype: object"
            ]
          },
          "metadata": {},
          "execution_count": 37
        }
      ]
    },
    {
      "cell_type": "code",
      "source": [
        "from keras.preprocessing.text import Tokenizer\n",
        "\n",
        "tokenizer = Tokenizer(num_words=6000)\n",
        "tokenizer.fit_on_texts(train_unique['sequence'])\n",
        "\n",
        "word_index = tokenizer.word_index\n",
        "train_unique['tokens'] = tokenizer.texts_to_sequences(train_unique['sequence'])\n",
        "\n",
        "vocab_size = len(tokenizer.word_index) + 1\n",
        "print(\"Vocabulary Size :\", vocab_size)"
      ],
      "metadata": {
        "colab": {
          "base_uri": "https://localhost:8080/"
        },
        "id": "t6MY00jXn9kw",
        "outputId": "230fcddf-a042-441e-c3ea-2560afe92d6e"
      },
      "execution_count": null,
      "outputs": [
        {
          "output_type": "stream",
          "name": "stdout",
          "text": [
            "Vocabulary Size : 92638\n"
          ]
        },
        {
          "output_type": "stream",
          "name": "stderr",
          "text": [
            "/usr/local/lib/python3.7/dist-packages/ipykernel_launcher.py:7: SettingWithCopyWarning: \n",
            "A value is trying to be set on a copy of a slice from a DataFrame.\n",
            "Try using .loc[row_indexer,col_indexer] = value instead\n",
            "\n",
            "See the caveats in the documentation: https://pandas.pydata.org/pandas-docs/stable/user_guide/indexing.html#returning-a-view-versus-a-copy\n",
            "  import sys\n"
          ]
        }
      ]
    },
    {
      "cell_type": "code",
      "source": [
        "train_unique.head()"
      ],
      "metadata": {
        "colab": {
          "base_uri": "https://localhost:8080/",
          "height": 337
        },
        "id": "3hr8SEJpoCAG",
        "outputId": "a0c96e3f-c40d-454e-88ab-9381ea80f050"
      },
      "execution_count": null,
      "outputs": [
        {
          "output_type": "execute_result",
          "data": {
            "text/plain": [
              "   Score                                        Review_text  \\\n",
              "0      5  I received this product early from the seller!...   \n",
              "1      5  *****<br />Numi's Collection Assortment Melang...   \n",
              "2      5  I was very careful not to overcook this pasta,...   \n",
              "3      5  Buying this multi-pack I was misled by the pic...   \n",
              "4      5  These bars are so good! I loved them warmed up...   \n",
              "\n",
              "                                       clean_reviews  \\\n",
              "0  i received this product early from the seller ...   \n",
              "1  numi collection assortment melange includes   ...   \n",
              "2  i was very careful not to overcook this pasta ...   \n",
              "3  buying this multi pack i was misled by the pic...   \n",
              "4  these bars are so good  i loved them warmed up...   \n",
              "\n",
              "                                              tokens  \\\n",
              "0  [222, 5, 1318, 564, 3939, 4, 1781, 39, 68, 168...   \n",
              "1  [2020, 2275, 1527, 1967, 1105, 10, 452, 50, 24...   \n",
              "2  [953, 5549, 251, 241, 124, 112, 395, 100, 239,...   \n",
              "3  [147, 2154, 81, 717, 123, 229, 164, 3355, 901,...   \n",
              "4  [75, 2, 209, 3281, 143, 59, 4, 68, 269, 222, 5...   \n",
              "\n",
              "                                         nltk_tokens  \\\n",
              "0  [received, product, early, seller, tastey, gre...   \n",
              "1  [numi, collection, assortment, melange, includ...   \n",
              "2  [careful, overcook, pasta, making, sure, take,...   \n",
              "3  [buying, multi, pack, misled, picture, whole, ...   \n",
              "4  [bar, good, loved, warmed, definitely, think, ...   \n",
              "\n",
              "                                            sequence  \n",
              "0  received product early seller tastey great mid...  \n",
              "1  numi collection assortment melange includes he...  \n",
              "2  careful overcook pasta making sure take bite e...  \n",
              "3  buying multi pack misled picture whole hazel n...  \n",
              "4  bar good loved warmed definitely think great s...  "
            ],
            "text/html": [
              "\n",
              "  <div id=\"df-7f427bc2-cb3f-4d89-a380-b28ad56b5a79\">\n",
              "    <div class=\"colab-df-container\">\n",
              "      <div>\n",
              "<style scoped>\n",
              "    .dataframe tbody tr th:only-of-type {\n",
              "        vertical-align: middle;\n",
              "    }\n",
              "\n",
              "    .dataframe tbody tr th {\n",
              "        vertical-align: top;\n",
              "    }\n",
              "\n",
              "    .dataframe thead th {\n",
              "        text-align: right;\n",
              "    }\n",
              "</style>\n",
              "<table border=\"1\" class=\"dataframe\">\n",
              "  <thead>\n",
              "    <tr style=\"text-align: right;\">\n",
              "      <th></th>\n",
              "      <th>Score</th>\n",
              "      <th>Review_text</th>\n",
              "      <th>clean_reviews</th>\n",
              "      <th>tokens</th>\n",
              "      <th>nltk_tokens</th>\n",
              "      <th>sequence</th>\n",
              "    </tr>\n",
              "  </thead>\n",
              "  <tbody>\n",
              "    <tr>\n",
              "      <th>0</th>\n",
              "      <td>5</td>\n",
              "      <td>I received this product early from the seller!...</td>\n",
              "      <td>i received this product early from the seller ...</td>\n",
              "      <td>[222, 5, 1318, 564, 3939, 4, 1781, 39, 68, 168...</td>\n",
              "      <td>[received, product, early, seller, tastey, gre...</td>\n",
              "      <td>received product early seller tastey great mid...</td>\n",
              "    </tr>\n",
              "    <tr>\n",
              "      <th>1</th>\n",
              "      <td>5</td>\n",
              "      <td>*****&lt;br /&gt;Numi's Collection Assortment Melang...</td>\n",
              "      <td>numi collection assortment melange includes   ...</td>\n",
              "      <td>[2020, 2275, 1527, 1967, 1105, 10, 452, 50, 24...</td>\n",
              "      <td>[numi, collection, assortment, melange, includ...</td>\n",
              "      <td>numi collection assortment melange includes he...</td>\n",
              "    </tr>\n",
              "    <tr>\n",
              "      <th>2</th>\n",
              "      <td>5</td>\n",
              "      <td>I was very careful not to overcook this pasta,...</td>\n",
              "      <td>i was very careful not to overcook this pasta ...</td>\n",
              "      <td>[953, 5549, 251, 241, 124, 112, 395, 100, 239,...</td>\n",
              "      <td>[careful, overcook, pasta, making, sure, take,...</td>\n",
              "      <td>careful overcook pasta making sure take bite e...</td>\n",
              "    </tr>\n",
              "    <tr>\n",
              "      <th>3</th>\n",
              "      <td>5</td>\n",
              "      <td>Buying this multi-pack I was misled by the pic...</td>\n",
              "      <td>buying this multi pack i was misled by the pic...</td>\n",
              "      <td>[147, 2154, 81, 717, 123, 229, 164, 3355, 901,...</td>\n",
              "      <td>[buying, multi, pack, misled, picture, whole, ...</td>\n",
              "      <td>buying multi pack misled picture whole hazel n...</td>\n",
              "    </tr>\n",
              "    <tr>\n",
              "      <th>4</th>\n",
              "      <td>5</td>\n",
              "      <td>These bars are so good! I loved them warmed up...</td>\n",
              "      <td>these bars are so good  i loved them warmed up...</td>\n",
              "      <td>[75, 2, 209, 3281, 143, 59, 4, 68, 269, 222, 5...</td>\n",
              "      <td>[bar, good, loved, warmed, definitely, think, ...</td>\n",
              "      <td>bar good loved warmed definitely think great s...</td>\n",
              "    </tr>\n",
              "  </tbody>\n",
              "</table>\n",
              "</div>\n",
              "      <button class=\"colab-df-convert\" onclick=\"convertToInteractive('df-7f427bc2-cb3f-4d89-a380-b28ad56b5a79')\"\n",
              "              title=\"Convert this dataframe to an interactive table.\"\n",
              "              style=\"display:none;\">\n",
              "        \n",
              "  <svg xmlns=\"http://www.w3.org/2000/svg\" height=\"24px\"viewBox=\"0 0 24 24\"\n",
              "       width=\"24px\">\n",
              "    <path d=\"M0 0h24v24H0V0z\" fill=\"none\"/>\n",
              "    <path d=\"M18.56 5.44l.94 2.06.94-2.06 2.06-.94-2.06-.94-.94-2.06-.94 2.06-2.06.94zm-11 1L8.5 8.5l.94-2.06 2.06-.94-2.06-.94L8.5 2.5l-.94 2.06-2.06.94zm10 10l.94 2.06.94-2.06 2.06-.94-2.06-.94-.94-2.06-.94 2.06-2.06.94z\"/><path d=\"M17.41 7.96l-1.37-1.37c-.4-.4-.92-.59-1.43-.59-.52 0-1.04.2-1.43.59L10.3 9.45l-7.72 7.72c-.78.78-.78 2.05 0 2.83L4 21.41c.39.39.9.59 1.41.59.51 0 1.02-.2 1.41-.59l7.78-7.78 2.81-2.81c.8-.78.8-2.07 0-2.86zM5.41 20L4 18.59l7.72-7.72 1.47 1.35L5.41 20z\"/>\n",
              "  </svg>\n",
              "      </button>\n",
              "      \n",
              "  <style>\n",
              "    .colab-df-container {\n",
              "      display:flex;\n",
              "      flex-wrap:wrap;\n",
              "      gap: 12px;\n",
              "    }\n",
              "\n",
              "    .colab-df-convert {\n",
              "      background-color: #E8F0FE;\n",
              "      border: none;\n",
              "      border-radius: 50%;\n",
              "      cursor: pointer;\n",
              "      display: none;\n",
              "      fill: #1967D2;\n",
              "      height: 32px;\n",
              "      padding: 0 0 0 0;\n",
              "      width: 32px;\n",
              "    }\n",
              "\n",
              "    .colab-df-convert:hover {\n",
              "      background-color: #E2EBFA;\n",
              "      box-shadow: 0px 1px 2px rgba(60, 64, 67, 0.3), 0px 1px 3px 1px rgba(60, 64, 67, 0.15);\n",
              "      fill: #174EA6;\n",
              "    }\n",
              "\n",
              "    [theme=dark] .colab-df-convert {\n",
              "      background-color: #3B4455;\n",
              "      fill: #D2E3FC;\n",
              "    }\n",
              "\n",
              "    [theme=dark] .colab-df-convert:hover {\n",
              "      background-color: #434B5C;\n",
              "      box-shadow: 0px 1px 3px 1px rgba(0, 0, 0, 0.15);\n",
              "      filter: drop-shadow(0px 1px 2px rgba(0, 0, 0, 0.3));\n",
              "      fill: #FFFFFF;\n",
              "    }\n",
              "  </style>\n",
              "\n",
              "      <script>\n",
              "        const buttonEl =\n",
              "          document.querySelector('#df-7f427bc2-cb3f-4d89-a380-b28ad56b5a79 button.colab-df-convert');\n",
              "        buttonEl.style.display =\n",
              "          google.colab.kernel.accessAllowed ? 'block' : 'none';\n",
              "\n",
              "        async function convertToInteractive(key) {\n",
              "          const element = document.querySelector('#df-7f427bc2-cb3f-4d89-a380-b28ad56b5a79');\n",
              "          const dataTable =\n",
              "            await google.colab.kernel.invokeFunction('convertToInteractive',\n",
              "                                                     [key], {});\n",
              "          if (!dataTable) return;\n",
              "\n",
              "          const docLinkHtml = 'Like what you see? Visit the ' +\n",
              "            '<a target=\"_blank\" href=https://colab.research.google.com/notebooks/data_table.ipynb>data table notebook</a>'\n",
              "            + ' to learn more about interactive tables.';\n",
              "          element.innerHTML = '';\n",
              "          dataTable['output_type'] = 'display_data';\n",
              "          await google.colab.output.renderOutput(dataTable, element);\n",
              "          const docLink = document.createElement('div');\n",
              "          docLink.innerHTML = docLinkHtml;\n",
              "          element.appendChild(docLink);\n",
              "        }\n",
              "      </script>\n",
              "    </div>\n",
              "  </div>\n",
              "  "
            ]
          },
          "metadata": {},
          "execution_count": 45
        }
      ]
    },
    {
      "cell_type": "code",
      "source": [
        "max_len = 1500\n",
        "padded_seq = sequence.pad_sequences(train_unique['tokens'], maxlen = max_len, padding='post')"
      ],
      "metadata": {
        "id": "t0oTfNKyoGl6"
      },
      "execution_count": null,
      "outputs": []
    },
    {
      "cell_type": "code",
      "source": [
        "padded_seq.shape"
      ],
      "metadata": {
        "colab": {
          "base_uri": "https://localhost:8080/"
        },
        "id": "fY81ZnTGoJT5",
        "outputId": "2a2c18d7-6723-42e3-f73d-64aa07dee32b"
      },
      "execution_count": null,
      "outputs": [
        {
          "output_type": "execute_result",
          "data": {
            "text/plain": [
              "(308934, 1500)"
            ]
          },
          "metadata": {},
          "execution_count": 41
        }
      ]
    },
    {
      "cell_type": "code",
      "source": [
        "train_df, test_df = train_test_split(train_unique, test_size = 0.2, random_state = 42)\n",
        "print(\"Training data size : \", train_df.shape)\n",
        "print(\"Test data size : \", test_df.shape)"
      ],
      "metadata": {
        "colab": {
          "base_uri": "https://localhost:8080/"
        },
        "id": "Y_ZvQrpHxPU7",
        "outputId": "5e280334-69bb-4180-ba94-439fa0a09d90"
      },
      "execution_count": null,
      "outputs": [
        {
          "output_type": "stream",
          "name": "stdout",
          "text": [
            "Training data size :  (247147, 6)\n",
            "Test data size :  (61787, 6)\n"
          ]
        }
      ]
    },
    {
      "cell_type": "code",
      "source": [
        "embedding_vecor_length = 32\n",
        "model = Sequential()\n",
        "model.add(Embedding(6000+1, embedding_vecor_length, input_length=max_len))\n",
        "model.add(LSTM(100))\n",
        "model.add(Dense(1, activation='sigmoid'))\n",
        "model.compile(loss='binary_crossentropy', optimizer='adam', metrics=['accuracy'])\n",
        "\n",
        "model.summary()"
      ],
      "metadata": {
        "colab": {
          "base_uri": "https://localhost:8080/"
        },
        "id": "eC1qiJmboNvo",
        "outputId": "99625d9a-294f-4fd7-e226-a05b89b3a013"
      },
      "execution_count": null,
      "outputs": [
        {
          "output_type": "stream",
          "name": "stdout",
          "text": [
            "Model: \"sequential_2\"\n",
            "_________________________________________________________________\n",
            " Layer (type)                Output Shape              Param #   \n",
            "=================================================================\n",
            " embedding_2 (Embedding)     (None, 1500, 32)          192032    \n",
            "                                                                 \n",
            " lstm_1 (LSTM)               (None, 100)               53200     \n",
            "                                                                 \n",
            " dense_2 (Dense)             (None, 1)                 101       \n",
            "                                                                 \n",
            "=================================================================\n",
            "Total params: 245,333\n",
            "Trainable params: 245,333\n",
            "Non-trainable params: 0\n",
            "_________________________________________________________________\n"
          ]
        }
      ]
    },
    {
      "cell_type": "code",
      "source": [
        "from sklearn.preprocessing import LabelEncoder\n",
        "\n",
        "encoder = LabelEncoder()\n",
        "encoder.fit(y_train.to_list())\n",
        "\n",
        "y_train = encoder.transform(y_train.to_list())\n",
        "# y_test = encoder.transform(train_unique.Score.to_list())\n",
        "\n",
        "y_train = y_train.reshape(-1,1)\n",
        "# y_test = y_test.reshape(-1,1)\n",
        "\n",
        "print(\"y_train shape:\", y_train.shape)\n",
        "# print(\"y_test shape:\", y_test.shape)"
      ],
      "metadata": {
        "colab": {
          "base_uri": "https://localhost:8080/"
        },
        "id": "lhxbouuS3DVf",
        "outputId": "8cd258f8-3272-4ab2-e7f6-173e406e43c2"
      },
      "execution_count": null,
      "outputs": [
        {
          "output_type": "stream",
          "name": "stdout",
          "text": [
            "y_train shape: (247147, 1)\n"
          ]
        }
      ]
    },
    {
      "cell_type": "code",
      "source": [
        "model.fit(x_train,y_train, epochs=5, batch_size=64, validation_split=0.3)\n"
      ],
      "metadata": {
        "colab": {
          "base_uri": "https://localhost:8080/"
        },
        "id": "T0cs-pfx2dDN",
        "outputId": "2120dd23-db73-43fc-db19-f15951bcbf0d"
      },
      "execution_count": null,
      "outputs": [
        {
          "output_type": "stream",
          "name": "stdout",
          "text": [
            "Epoch 1/5\n",
            "1449/2704 [===============>..............] - ETA: 30:27 - loss: -187.2098 - accuracy: 0.0523"
          ]
        }
      ]
    },
    {
      "cell_type": "code",
      "source": [
        "from sklearn.model_selection import train_test_split\n",
        "\n",
        "x_train, x_val, y_train, y_val = train_test_split(padded_seq, train_unique['Score'], test_size = 0.2, random_state=42)"
      ],
      "metadata": {
        "id": "obXEFbmhoRuw"
      },
      "execution_count": null,
      "outputs": []
    },
    {
      "cell_type": "code",
      "source": [
        "model.fit(x_train, y_train, epochs=5, batch_size=640)"
      ],
      "metadata": {
        "colab": {
          "base_uri": "https://localhost:8080/",
          "height": 346
        },
        "id": "ugky7i5voYoa",
        "outputId": "5b509b01-aae6-4043-b1b9-4c3854c58a47"
      },
      "execution_count": null,
      "outputs": [
        {
          "output_type": "stream",
          "name": "stdout",
          "text": [
            "Epoch 1/5\n",
            "194/387 [==============>...............] - ETA: 17:09 - loss: -60.6654 - accuracy: 0.0921"
          ]
        },
        {
          "output_type": "error",
          "ename": "KeyboardInterrupt",
          "evalue": "ignored",
          "traceback": [
            "\u001b[0;31m---------------------------------------------------------------------------\u001b[0m",
            "\u001b[0;31mKeyboardInterrupt\u001b[0m                         Traceback (most recent call last)",
            "\u001b[0;32m<ipython-input-28-9d47de1a0b16>\u001b[0m in \u001b[0;36m<module>\u001b[0;34m()\u001b[0m\n\u001b[0;32m----> 1\u001b[0;31m \u001b[0mmodel\u001b[0m\u001b[0;34m.\u001b[0m\u001b[0mfit\u001b[0m\u001b[0;34m(\u001b[0m\u001b[0mx_train\u001b[0m\u001b[0;34m,\u001b[0m \u001b[0my_train\u001b[0m\u001b[0;34m,\u001b[0m \u001b[0mepochs\u001b[0m\u001b[0;34m=\u001b[0m\u001b[0;36m5\u001b[0m\u001b[0;34m,\u001b[0m \u001b[0mbatch_size\u001b[0m\u001b[0;34m=\u001b[0m\u001b[0;36m640\u001b[0m\u001b[0;34m)\u001b[0m\u001b[0;34m\u001b[0m\u001b[0;34m\u001b[0m\u001b[0m\n\u001b[0m",
            "\u001b[0;32m/usr/local/lib/python3.7/dist-packages/keras/utils/traceback_utils.py\u001b[0m in \u001b[0;36merror_handler\u001b[0;34m(*args, **kwargs)\u001b[0m\n\u001b[1;32m     62\u001b[0m     \u001b[0mfiltered_tb\u001b[0m \u001b[0;34m=\u001b[0m \u001b[0;32mNone\u001b[0m\u001b[0;34m\u001b[0m\u001b[0;34m\u001b[0m\u001b[0m\n\u001b[1;32m     63\u001b[0m     \u001b[0;32mtry\u001b[0m\u001b[0;34m:\u001b[0m\u001b[0;34m\u001b[0m\u001b[0;34m\u001b[0m\u001b[0m\n\u001b[0;32m---> 64\u001b[0;31m       \u001b[0;32mreturn\u001b[0m \u001b[0mfn\u001b[0m\u001b[0;34m(\u001b[0m\u001b[0;34m*\u001b[0m\u001b[0margs\u001b[0m\u001b[0;34m,\u001b[0m \u001b[0;34m**\u001b[0m\u001b[0mkwargs\u001b[0m\u001b[0;34m)\u001b[0m\u001b[0;34m\u001b[0m\u001b[0;34m\u001b[0m\u001b[0m\n\u001b[0m\u001b[1;32m     65\u001b[0m     \u001b[0;32mexcept\u001b[0m \u001b[0mException\u001b[0m \u001b[0;32mas\u001b[0m \u001b[0me\u001b[0m\u001b[0;34m:\u001b[0m  \u001b[0;31m# pylint: disable=broad-except\u001b[0m\u001b[0;34m\u001b[0m\u001b[0;34m\u001b[0m\u001b[0m\n\u001b[1;32m     66\u001b[0m       \u001b[0mfiltered_tb\u001b[0m \u001b[0;34m=\u001b[0m \u001b[0m_process_traceback_frames\u001b[0m\u001b[0;34m(\u001b[0m\u001b[0me\u001b[0m\u001b[0;34m.\u001b[0m\u001b[0m__traceback__\u001b[0m\u001b[0;34m)\u001b[0m\u001b[0;34m\u001b[0m\u001b[0;34m\u001b[0m\u001b[0m\n",
            "\u001b[0;32m/usr/local/lib/python3.7/dist-packages/keras/engine/training.py\u001b[0m in \u001b[0;36mfit\u001b[0;34m(self, x, y, batch_size, epochs, verbose, callbacks, validation_split, validation_data, shuffle, class_weight, sample_weight, initial_epoch, steps_per_epoch, validation_steps, validation_batch_size, validation_freq, max_queue_size, workers, use_multiprocessing)\u001b[0m\n\u001b[1;32m   1382\u001b[0m                 _r=1):\n\u001b[1;32m   1383\u001b[0m               \u001b[0mcallbacks\u001b[0m\u001b[0;34m.\u001b[0m\u001b[0mon_train_batch_begin\u001b[0m\u001b[0;34m(\u001b[0m\u001b[0mstep\u001b[0m\u001b[0;34m)\u001b[0m\u001b[0;34m\u001b[0m\u001b[0;34m\u001b[0m\u001b[0m\n\u001b[0;32m-> 1384\u001b[0;31m               \u001b[0mtmp_logs\u001b[0m \u001b[0;34m=\u001b[0m \u001b[0mself\u001b[0m\u001b[0;34m.\u001b[0m\u001b[0mtrain_function\u001b[0m\u001b[0;34m(\u001b[0m\u001b[0miterator\u001b[0m\u001b[0;34m)\u001b[0m\u001b[0;34m\u001b[0m\u001b[0;34m\u001b[0m\u001b[0m\n\u001b[0m\u001b[1;32m   1385\u001b[0m               \u001b[0;32mif\u001b[0m \u001b[0mdata_handler\u001b[0m\u001b[0;34m.\u001b[0m\u001b[0mshould_sync\u001b[0m\u001b[0;34m:\u001b[0m\u001b[0;34m\u001b[0m\u001b[0;34m\u001b[0m\u001b[0m\n\u001b[1;32m   1386\u001b[0m                 \u001b[0mcontext\u001b[0m\u001b[0;34m.\u001b[0m\u001b[0masync_wait\u001b[0m\u001b[0;34m(\u001b[0m\u001b[0;34m)\u001b[0m\u001b[0;34m\u001b[0m\u001b[0;34m\u001b[0m\u001b[0m\n",
            "\u001b[0;32m/usr/local/lib/python3.7/dist-packages/tensorflow/python/util/traceback_utils.py\u001b[0m in \u001b[0;36merror_handler\u001b[0;34m(*args, **kwargs)\u001b[0m\n\u001b[1;32m    148\u001b[0m     \u001b[0mfiltered_tb\u001b[0m \u001b[0;34m=\u001b[0m \u001b[0;32mNone\u001b[0m\u001b[0;34m\u001b[0m\u001b[0;34m\u001b[0m\u001b[0m\n\u001b[1;32m    149\u001b[0m     \u001b[0;32mtry\u001b[0m\u001b[0;34m:\u001b[0m\u001b[0;34m\u001b[0m\u001b[0;34m\u001b[0m\u001b[0m\n\u001b[0;32m--> 150\u001b[0;31m       \u001b[0;32mreturn\u001b[0m \u001b[0mfn\u001b[0m\u001b[0;34m(\u001b[0m\u001b[0;34m*\u001b[0m\u001b[0margs\u001b[0m\u001b[0;34m,\u001b[0m \u001b[0;34m**\u001b[0m\u001b[0mkwargs\u001b[0m\u001b[0;34m)\u001b[0m\u001b[0;34m\u001b[0m\u001b[0;34m\u001b[0m\u001b[0m\n\u001b[0m\u001b[1;32m    151\u001b[0m     \u001b[0;32mexcept\u001b[0m \u001b[0mException\u001b[0m \u001b[0;32mas\u001b[0m \u001b[0me\u001b[0m\u001b[0;34m:\u001b[0m\u001b[0;34m\u001b[0m\u001b[0;34m\u001b[0m\u001b[0m\n\u001b[1;32m    152\u001b[0m       \u001b[0mfiltered_tb\u001b[0m \u001b[0;34m=\u001b[0m \u001b[0m_process_traceback_frames\u001b[0m\u001b[0;34m(\u001b[0m\u001b[0me\u001b[0m\u001b[0;34m.\u001b[0m\u001b[0m__traceback__\u001b[0m\u001b[0;34m)\u001b[0m\u001b[0;34m\u001b[0m\u001b[0;34m\u001b[0m\u001b[0m\n",
            "\u001b[0;32m/usr/local/lib/python3.7/dist-packages/tensorflow/python/eager/def_function.py\u001b[0m in \u001b[0;36m__call__\u001b[0;34m(self, *args, **kwds)\u001b[0m\n\u001b[1;32m    913\u001b[0m \u001b[0;34m\u001b[0m\u001b[0m\n\u001b[1;32m    914\u001b[0m       \u001b[0;32mwith\u001b[0m \u001b[0mOptionalXlaContext\u001b[0m\u001b[0;34m(\u001b[0m\u001b[0mself\u001b[0m\u001b[0;34m.\u001b[0m\u001b[0m_jit_compile\u001b[0m\u001b[0;34m)\u001b[0m\u001b[0;34m:\u001b[0m\u001b[0;34m\u001b[0m\u001b[0;34m\u001b[0m\u001b[0m\n\u001b[0;32m--> 915\u001b[0;31m         \u001b[0mresult\u001b[0m \u001b[0;34m=\u001b[0m \u001b[0mself\u001b[0m\u001b[0;34m.\u001b[0m\u001b[0m_call\u001b[0m\u001b[0;34m(\u001b[0m\u001b[0;34m*\u001b[0m\u001b[0margs\u001b[0m\u001b[0;34m,\u001b[0m \u001b[0;34m**\u001b[0m\u001b[0mkwds\u001b[0m\u001b[0;34m)\u001b[0m\u001b[0;34m\u001b[0m\u001b[0;34m\u001b[0m\u001b[0m\n\u001b[0m\u001b[1;32m    916\u001b[0m \u001b[0;34m\u001b[0m\u001b[0m\n\u001b[1;32m    917\u001b[0m       \u001b[0mnew_tracing_count\u001b[0m \u001b[0;34m=\u001b[0m \u001b[0mself\u001b[0m\u001b[0;34m.\u001b[0m\u001b[0mexperimental_get_tracing_count\u001b[0m\u001b[0;34m(\u001b[0m\u001b[0;34m)\u001b[0m\u001b[0;34m\u001b[0m\u001b[0;34m\u001b[0m\u001b[0m\n",
            "\u001b[0;32m/usr/local/lib/python3.7/dist-packages/tensorflow/python/eager/def_function.py\u001b[0m in \u001b[0;36m_call\u001b[0;34m(self, *args, **kwds)\u001b[0m\n\u001b[1;32m    945\u001b[0m       \u001b[0;31m# In this case we have created variables on the first call, so we run the\u001b[0m\u001b[0;34m\u001b[0m\u001b[0;34m\u001b[0m\u001b[0;34m\u001b[0m\u001b[0m\n\u001b[1;32m    946\u001b[0m       \u001b[0;31m# defunned version which is guaranteed to never create variables.\u001b[0m\u001b[0;34m\u001b[0m\u001b[0;34m\u001b[0m\u001b[0;34m\u001b[0m\u001b[0m\n\u001b[0;32m--> 947\u001b[0;31m       \u001b[0;32mreturn\u001b[0m \u001b[0mself\u001b[0m\u001b[0;34m.\u001b[0m\u001b[0m_stateless_fn\u001b[0m\u001b[0;34m(\u001b[0m\u001b[0;34m*\u001b[0m\u001b[0margs\u001b[0m\u001b[0;34m,\u001b[0m \u001b[0;34m**\u001b[0m\u001b[0mkwds\u001b[0m\u001b[0;34m)\u001b[0m  \u001b[0;31m# pylint: disable=not-callable\u001b[0m\u001b[0;34m\u001b[0m\u001b[0;34m\u001b[0m\u001b[0m\n\u001b[0m\u001b[1;32m    948\u001b[0m     \u001b[0;32melif\u001b[0m \u001b[0mself\u001b[0m\u001b[0;34m.\u001b[0m\u001b[0m_stateful_fn\u001b[0m \u001b[0;32mis\u001b[0m \u001b[0;32mnot\u001b[0m \u001b[0;32mNone\u001b[0m\u001b[0;34m:\u001b[0m\u001b[0;34m\u001b[0m\u001b[0;34m\u001b[0m\u001b[0m\n\u001b[1;32m    949\u001b[0m       \u001b[0;31m# Release the lock early so that multiple threads can perform the call\u001b[0m\u001b[0;34m\u001b[0m\u001b[0;34m\u001b[0m\u001b[0;34m\u001b[0m\u001b[0m\n",
            "\u001b[0;32m/usr/local/lib/python3.7/dist-packages/tensorflow/python/eager/function.py\u001b[0m in \u001b[0;36m__call__\u001b[0;34m(self, *args, **kwargs)\u001b[0m\n\u001b[1;32m   2955\u001b[0m        filtered_flat_args) = self._maybe_define_function(args, kwargs)\n\u001b[1;32m   2956\u001b[0m     return graph_function._call_flat(\n\u001b[0;32m-> 2957\u001b[0;31m         filtered_flat_args, captured_inputs=graph_function.captured_inputs)  # pylint: disable=protected-access\n\u001b[0m\u001b[1;32m   2958\u001b[0m \u001b[0;34m\u001b[0m\u001b[0m\n\u001b[1;32m   2959\u001b[0m   \u001b[0;34m@\u001b[0m\u001b[0mproperty\u001b[0m\u001b[0;34m\u001b[0m\u001b[0;34m\u001b[0m\u001b[0m\n",
            "\u001b[0;32m/usr/local/lib/python3.7/dist-packages/tensorflow/python/eager/function.py\u001b[0m in \u001b[0;36m_call_flat\u001b[0;34m(self, args, captured_inputs, cancellation_manager)\u001b[0m\n\u001b[1;32m   1852\u001b[0m       \u001b[0;31m# No tape is watching; skip to running the function.\u001b[0m\u001b[0;34m\u001b[0m\u001b[0;34m\u001b[0m\u001b[0;34m\u001b[0m\u001b[0m\n\u001b[1;32m   1853\u001b[0m       return self._build_call_outputs(self._inference_function.call(\n\u001b[0;32m-> 1854\u001b[0;31m           ctx, args, cancellation_manager=cancellation_manager))\n\u001b[0m\u001b[1;32m   1855\u001b[0m     forward_backward = self._select_forward_and_backward_functions(\n\u001b[1;32m   1856\u001b[0m         \u001b[0margs\u001b[0m\u001b[0;34m,\u001b[0m\u001b[0;34m\u001b[0m\u001b[0;34m\u001b[0m\u001b[0m\n",
            "\u001b[0;32m/usr/local/lib/python3.7/dist-packages/tensorflow/python/eager/function.py\u001b[0m in \u001b[0;36mcall\u001b[0;34m(self, ctx, args, cancellation_manager)\u001b[0m\n\u001b[1;32m    502\u001b[0m               \u001b[0minputs\u001b[0m\u001b[0;34m=\u001b[0m\u001b[0margs\u001b[0m\u001b[0;34m,\u001b[0m\u001b[0;34m\u001b[0m\u001b[0;34m\u001b[0m\u001b[0m\n\u001b[1;32m    503\u001b[0m               \u001b[0mattrs\u001b[0m\u001b[0;34m=\u001b[0m\u001b[0mattrs\u001b[0m\u001b[0;34m,\u001b[0m\u001b[0;34m\u001b[0m\u001b[0;34m\u001b[0m\u001b[0m\n\u001b[0;32m--> 504\u001b[0;31m               ctx=ctx)\n\u001b[0m\u001b[1;32m    505\u001b[0m         \u001b[0;32melse\u001b[0m\u001b[0;34m:\u001b[0m\u001b[0;34m\u001b[0m\u001b[0;34m\u001b[0m\u001b[0m\n\u001b[1;32m    506\u001b[0m           outputs = execute.execute_with_cancellation(\n",
            "\u001b[0;32m/usr/local/lib/python3.7/dist-packages/tensorflow/python/eager/execute.py\u001b[0m in \u001b[0;36mquick_execute\u001b[0;34m(op_name, num_outputs, inputs, attrs, ctx, name)\u001b[0m\n\u001b[1;32m     53\u001b[0m     \u001b[0mctx\u001b[0m\u001b[0;34m.\u001b[0m\u001b[0mensure_initialized\u001b[0m\u001b[0;34m(\u001b[0m\u001b[0;34m)\u001b[0m\u001b[0;34m\u001b[0m\u001b[0;34m\u001b[0m\u001b[0m\n\u001b[1;32m     54\u001b[0m     tensors = pywrap_tfe.TFE_Py_Execute(ctx._handle, device_name, op_name,\n\u001b[0;32m---> 55\u001b[0;31m                                         inputs, attrs, num_outputs)\n\u001b[0m\u001b[1;32m     56\u001b[0m   \u001b[0;32mexcept\u001b[0m \u001b[0mcore\u001b[0m\u001b[0;34m.\u001b[0m\u001b[0m_NotOkStatusException\u001b[0m \u001b[0;32mas\u001b[0m \u001b[0me\u001b[0m\u001b[0;34m:\u001b[0m\u001b[0;34m\u001b[0m\u001b[0;34m\u001b[0m\u001b[0m\n\u001b[1;32m     57\u001b[0m     \u001b[0;32mif\u001b[0m \u001b[0mname\u001b[0m \u001b[0;32mis\u001b[0m \u001b[0;32mnot\u001b[0m \u001b[0;32mNone\u001b[0m\u001b[0;34m:\u001b[0m\u001b[0;34m\u001b[0m\u001b[0;34m\u001b[0m\u001b[0m\n",
            "\u001b[0;31mKeyboardInterrupt\u001b[0m: "
          ]
        }
      ]
    },
    {
      "cell_type": "markdown",
      "source": [
        "# Extra"
      ],
      "metadata": {
        "id": "cAfYofhQn8Rn"
      }
    },
    {
      "cell_type": "code",
      "source": [
        "from keras.preprocessing.text import Tokenizer\n",
        "\n",
        "tokenizer = Tokenizer()\n",
        "tokenizer.fit_on_texts(train_unique['clean_reviews'])\n",
        "\n",
        "word_index = tokenizer.word_index\n",
        "vocab_size = len(tokenizer.word_index) + 1\n",
        "print(\"Vocabulary Size :\", vocab_size)"
      ],
      "metadata": {
        "colab": {
          "base_uri": "https://localhost:8080/"
        },
        "id": "lvXt5C_mKrTr",
        "outputId": "35f4cb79-755a-4763-f4cd-a9bcfe1ff7b0"
      },
      "execution_count": null,
      "outputs": [
        {
          "output_type": "stream",
          "name": "stdout",
          "text": [
            "Vocabulary Size : 100567\n"
          ]
        }
      ]
    },
    {
      "cell_type": "code",
      "source": [
        "VOCAB_SIZE = 100000\n",
        "encoder = tf.keras.layers.TextVectorization(\n",
        "    max_tokens=VOCAB_SIZE)\n",
        "encoder.adapt(train_unique['clean_reviews'])"
      ],
      "metadata": {
        "id": "AblAG5ucZAtL"
      },
      "execution_count": null,
      "outputs": []
    },
    {
      "cell_type": "code",
      "source": [
        "vocab = np.array(encoder.get_vocabulary())\n",
        "len(vocab)"
      ],
      "metadata": {
        "colab": {
          "base_uri": "https://localhost:8080/"
        },
        "id": "GVLeMD1Zd2O2",
        "outputId": "2f931d64-c7cd-43c4-e348-857a998760da"
      },
      "execution_count": null,
      "outputs": [
        {
          "output_type": "execute_result",
          "data": {
            "text/plain": [
              "100000"
            ]
          },
          "metadata": {},
          "execution_count": 42
        }
      ]
    },
    {
      "cell_type": "code",
      "source": [
        "encoded_example = encoder(train_unique['clean_reviews'][0])[:3].numpy()\n",
        "encoded_example"
      ],
      "metadata": {
        "colab": {
          "base_uri": "https://localhost:8080/"
        },
        "id": "UboMalcxcmKn",
        "outputId": "e60d623b-db32-485a-c124-60da06662d30"
      },
      "execution_count": null,
      "outputs": [
        {
          "output_type": "execute_result",
          "data": {
            "text/plain": [
              "array([  3, 313,  10])"
            ]
          },
          "metadata": {},
          "execution_count": 38
        }
      ]
    },
    {
      "cell_type": "code",
      "source": [
        "model = tf.keras.Sequential([\n",
        "    tf.keras.layers.InputLayer(input_shape=(1,), dtype=tf.string),\n",
        "    encoder,\n",
        "    tf.keras.layers.Embedding(\n",
        "        input_dim=len(encoder.get_vocabulary()),\n",
        "        output_dim=64,\n",
        "        # Use masking to handle the variable sequence lengths\n",
        "        mask_zero=True),\n",
        "    tf.keras.layers.Bidirectional(tf.keras.layers.LSTM(64)),\n",
        "    tf.keras.layers.Dense(64, activation='relu'),\n",
        "    tf.keras.layers.Dense(1)\n",
        "])"
      ],
      "metadata": {
        "id": "PXqNMyfwdiDP"
      },
      "execution_count": null,
      "outputs": []
    },
    {
      "cell_type": "code",
      "source": [
        "model.summary()"
      ],
      "metadata": {
        "colab": {
          "base_uri": "https://localhost:8080/"
        },
        "id": "g9qjsAhof9nQ",
        "outputId": "9d64754c-a27f-44ea-faaa-e70363672db2"
      },
      "execution_count": null,
      "outputs": [
        {
          "output_type": "stream",
          "name": "stdout",
          "text": [
            "Model: \"sequential_1\"\n",
            "_________________________________________________________________\n",
            " Layer (type)                Output Shape              Param #   \n",
            "=================================================================\n",
            " text_vectorization_2 (TextV  (None, None)             0         \n",
            " ectorization)                                                   \n",
            "                                                                 \n",
            " embedding_1 (Embedding)     (None, None, 64)          6400000   \n",
            "                                                                 \n",
            " bidirectional_1 (Bidirectio  (None, 128)              66048     \n",
            " nal)                                                            \n",
            "                                                                 \n",
            " dense_2 (Dense)             (None, 64)                8256      \n",
            "                                                                 \n",
            " dense_3 (Dense)             (None, 1)                 65        \n",
            "                                                                 \n",
            "=================================================================\n",
            "Total params: 6,474,369\n",
            "Trainable params: 6,474,369\n",
            "Non-trainable params: 0\n",
            "_________________________________________________________________\n"
          ]
        }
      ]
    },
    {
      "cell_type": "code",
      "source": [
        "sample_text = ('The movie was cool. The animation and the graphics '\n",
        "               'were out of this world. I would recommend this movie.')\n",
        "predictions = model.predict(np.array([sample_text]))\n",
        "print(predictions[0])"
      ],
      "metadata": {
        "colab": {
          "base_uri": "https://localhost:8080/"
        },
        "id": "gBmBiqQTgAvN",
        "outputId": "26e8d8f3-920e-47cd-e10c-63c737be2453"
      },
      "execution_count": null,
      "outputs": [
        {
          "output_type": "stream",
          "name": "stdout",
          "text": [
            "[0.00954798]\n"
          ]
        }
      ]
    },
    {
      "cell_type": "code",
      "source": [
        "model.compile(loss=tf.keras.losses.BinaryCrossentropy(from_logits=True),\n",
        "              optimizer=tf.keras.optimizers.Adam(1e-4),\n",
        "              metrics=['accuracy'])"
      ],
      "metadata": {
        "id": "m0aFtDTwgI90"
      },
      "execution_count": null,
      "outputs": []
    },
    {
      "cell_type": "code",
      "source": [
        "from sklearn.model_selection import train_test_split\n",
        "x_train, x_val, y_train, y_val = train_test_split(train_unique['clean_reviews'], train_unique['Score'], test_size = 0.2, random_state=42)"
      ],
      "metadata": {
        "id": "0qxxAiqWgLrV"
      },
      "execution_count": null,
      "outputs": []
    },
    {
      "cell_type": "code",
      "source": [
        "from sklearn.preprocessing import LabelEncoder\n",
        "\n",
        "encoder = LabelEncoder()\n",
        "encoder.fit(train_unique.Score.to_list())\n",
        "\n",
        "y_train = encoder.transform(train_unique.Score.to_list())\n",
        "# y_test = encoder.transform(train_unique.Score.to_list())\n",
        "\n",
        "y_train = y_train.reshape(-1,1)\n",
        "# y_test = y_test.reshape(-1,1)\n",
        "\n",
        "print(\"y_train shape:\", y_train.shape)\n",
        "# print(\"y_test shape:\", y_test.shape)"
      ],
      "metadata": {
        "colab": {
          "base_uri": "https://localhost:8080/"
        },
        "id": "-MtA-xYyNnqa",
        "outputId": "03f4c28c-6a4e-4df2-910d-7bbf32b9d1f1"
      },
      "execution_count": null,
      "outputs": [
        {
          "output_type": "stream",
          "name": "stdout",
          "text": [
            "y_train shape: (308934, 1)\n"
          ]
        }
      ]
    },
    {
      "cell_type": "code",
      "source": [
        "print(train_unique.head())\n",
        "print(y_train[:5])"
      ],
      "metadata": {
        "colab": {
          "base_uri": "https://localhost:8080/"
        },
        "id": "FUQviiw7ODgy",
        "outputId": "a0a98bee-03ae-40b6-cdd0-79ee7076386d"
      },
      "execution_count": null,
      "outputs": [
        {
          "output_type": "stream",
          "name": "stdout",
          "text": [
            "   Score                                        Review_text  \\\n",
            "0      5  I received this product early from the seller!...   \n",
            "1      5  *****<br />Numi's Collection Assortment Melang...   \n",
            "2      5  I was very careful not to overcook this pasta,...   \n",
            "3      5  Buying this multi-pack I was misled by the pic...   \n",
            "4      5  These bars are so good! I loved them warmed up...   \n",
            "\n",
            "                                       clean_reviews  \\\n",
            "0  i received this product early from the seller ...   \n",
            "1  numi s collection assortment melange includes ...   \n",
            "2  i was very careful not to overcook this pasta ...   \n",
            "3  buying this multi pack i was misled by the pic...   \n",
            "4  these bars are so good  i loved them warmed up...   \n",
            "\n",
            "                                         nltk_tokens  \n",
            "0  [i, received, this, product, early, from, the,...  \n",
            "1  [numi, s, collection, assortment, melange, inc...  \n",
            "2  [i, was, very, careful, not, to, overcook, thi...  \n",
            "3  [buying, this, multi, pack, i, was, misled, by...  \n",
            "4  [these, bars, are, so, good, i, loved, them, w...  \n",
            "[[4]\n",
            " [4]\n",
            " [4]\n",
            " [4]\n",
            " [4]]\n"
          ]
        }
      ]
    },
    {
      "cell_type": "code",
      "source": [
        "history = model.fit(train_unique['clean_reviews'], y_train, epochs=10,\n",
        "                    validation_split=0.2,\n",
        "                    validation_steps=30)"
      ],
      "metadata": {
        "colab": {
          "base_uri": "https://localhost:8080/",
          "height": 434
        },
        "id": "r_zRpf1rgnyq",
        "outputId": "4417dee0-547a-41b2-abde-93336a04c751"
      },
      "execution_count": null,
      "outputs": [
        {
          "output_type": "stream",
          "name": "stdout",
          "text": [
            "Epoch 1/10\n",
            "7724/7724 [==============================] - 2984s 386ms/step - loss: -111461.1562 - accuracy: 0.0530 - val_loss: -196635.9688 - val_accuracy: 0.0916\n",
            "Epoch 2/10\n",
            "1786/7724 [=====>........................] - ETA: 34:56 - loss: -140565.2656 - accuracy: 0.0543"
          ]
        },
        {
          "output_type": "error",
          "ename": "KeyboardInterrupt",
          "evalue": "ignored",
          "traceback": [
            "\u001b[0;31m---------------------------------------------------------------------------\u001b[0m",
            "\u001b[0;31mKeyboardInterrupt\u001b[0m                         Traceback (most recent call last)",
            "\u001b[0;32m<ipython-input-55-b584d70352ba>\u001b[0m in \u001b[0;36m<module>\u001b[0;34m()\u001b[0m\n\u001b[1;32m      1\u001b[0m history = model.fit(train_unique['clean_reviews'], y_train, epochs=10,\n\u001b[1;32m      2\u001b[0m                     \u001b[0mvalidation_split\u001b[0m\u001b[0;34m=\u001b[0m\u001b[0;36m0.2\u001b[0m\u001b[0;34m,\u001b[0m\u001b[0;34m\u001b[0m\u001b[0;34m\u001b[0m\u001b[0m\n\u001b[0;32m----> 3\u001b[0;31m                     validation_steps=30)\n\u001b[0m",
            "\u001b[0;32m/usr/local/lib/python3.7/dist-packages/keras/utils/traceback_utils.py\u001b[0m in \u001b[0;36merror_handler\u001b[0;34m(*args, **kwargs)\u001b[0m\n\u001b[1;32m     62\u001b[0m     \u001b[0mfiltered_tb\u001b[0m \u001b[0;34m=\u001b[0m \u001b[0;32mNone\u001b[0m\u001b[0;34m\u001b[0m\u001b[0;34m\u001b[0m\u001b[0m\n\u001b[1;32m     63\u001b[0m     \u001b[0;32mtry\u001b[0m\u001b[0;34m:\u001b[0m\u001b[0;34m\u001b[0m\u001b[0;34m\u001b[0m\u001b[0m\n\u001b[0;32m---> 64\u001b[0;31m       \u001b[0;32mreturn\u001b[0m \u001b[0mfn\u001b[0m\u001b[0;34m(\u001b[0m\u001b[0;34m*\u001b[0m\u001b[0margs\u001b[0m\u001b[0;34m,\u001b[0m \u001b[0;34m**\u001b[0m\u001b[0mkwargs\u001b[0m\u001b[0;34m)\u001b[0m\u001b[0;34m\u001b[0m\u001b[0;34m\u001b[0m\u001b[0m\n\u001b[0m\u001b[1;32m     65\u001b[0m     \u001b[0;32mexcept\u001b[0m \u001b[0mException\u001b[0m \u001b[0;32mas\u001b[0m \u001b[0me\u001b[0m\u001b[0;34m:\u001b[0m  \u001b[0;31m# pylint: disable=broad-except\u001b[0m\u001b[0;34m\u001b[0m\u001b[0;34m\u001b[0m\u001b[0m\n\u001b[1;32m     66\u001b[0m       \u001b[0mfiltered_tb\u001b[0m \u001b[0;34m=\u001b[0m \u001b[0m_process_traceback_frames\u001b[0m\u001b[0;34m(\u001b[0m\u001b[0me\u001b[0m\u001b[0;34m.\u001b[0m\u001b[0m__traceback__\u001b[0m\u001b[0;34m)\u001b[0m\u001b[0;34m\u001b[0m\u001b[0;34m\u001b[0m\u001b[0m\n",
            "\u001b[0;32m/usr/local/lib/python3.7/dist-packages/keras/engine/training.py\u001b[0m in \u001b[0;36mfit\u001b[0;34m(self, x, y, batch_size, epochs, verbose, callbacks, validation_split, validation_data, shuffle, class_weight, sample_weight, initial_epoch, steps_per_epoch, validation_steps, validation_batch_size, validation_freq, max_queue_size, workers, use_multiprocessing)\u001b[0m\n\u001b[1;32m   1382\u001b[0m                 _r=1):\n\u001b[1;32m   1383\u001b[0m               \u001b[0mcallbacks\u001b[0m\u001b[0;34m.\u001b[0m\u001b[0mon_train_batch_begin\u001b[0m\u001b[0;34m(\u001b[0m\u001b[0mstep\u001b[0m\u001b[0;34m)\u001b[0m\u001b[0;34m\u001b[0m\u001b[0;34m\u001b[0m\u001b[0m\n\u001b[0;32m-> 1384\u001b[0;31m               \u001b[0mtmp_logs\u001b[0m \u001b[0;34m=\u001b[0m \u001b[0mself\u001b[0m\u001b[0;34m.\u001b[0m\u001b[0mtrain_function\u001b[0m\u001b[0;34m(\u001b[0m\u001b[0miterator\u001b[0m\u001b[0;34m)\u001b[0m\u001b[0;34m\u001b[0m\u001b[0;34m\u001b[0m\u001b[0m\n\u001b[0m\u001b[1;32m   1385\u001b[0m               \u001b[0;32mif\u001b[0m \u001b[0mdata_handler\u001b[0m\u001b[0;34m.\u001b[0m\u001b[0mshould_sync\u001b[0m\u001b[0;34m:\u001b[0m\u001b[0;34m\u001b[0m\u001b[0;34m\u001b[0m\u001b[0m\n\u001b[1;32m   1386\u001b[0m                 \u001b[0mcontext\u001b[0m\u001b[0;34m.\u001b[0m\u001b[0masync_wait\u001b[0m\u001b[0;34m(\u001b[0m\u001b[0;34m)\u001b[0m\u001b[0;34m\u001b[0m\u001b[0;34m\u001b[0m\u001b[0m\n",
            "\u001b[0;32m/usr/local/lib/python3.7/dist-packages/tensorflow/python/util/traceback_utils.py\u001b[0m in \u001b[0;36merror_handler\u001b[0;34m(*args, **kwargs)\u001b[0m\n\u001b[1;32m    148\u001b[0m     \u001b[0mfiltered_tb\u001b[0m \u001b[0;34m=\u001b[0m \u001b[0;32mNone\u001b[0m\u001b[0;34m\u001b[0m\u001b[0;34m\u001b[0m\u001b[0m\n\u001b[1;32m    149\u001b[0m     \u001b[0;32mtry\u001b[0m\u001b[0;34m:\u001b[0m\u001b[0;34m\u001b[0m\u001b[0;34m\u001b[0m\u001b[0m\n\u001b[0;32m--> 150\u001b[0;31m       \u001b[0;32mreturn\u001b[0m \u001b[0mfn\u001b[0m\u001b[0;34m(\u001b[0m\u001b[0;34m*\u001b[0m\u001b[0margs\u001b[0m\u001b[0;34m,\u001b[0m \u001b[0;34m**\u001b[0m\u001b[0mkwargs\u001b[0m\u001b[0;34m)\u001b[0m\u001b[0;34m\u001b[0m\u001b[0;34m\u001b[0m\u001b[0m\n\u001b[0m\u001b[1;32m    151\u001b[0m     \u001b[0;32mexcept\u001b[0m \u001b[0mException\u001b[0m \u001b[0;32mas\u001b[0m \u001b[0me\u001b[0m\u001b[0;34m:\u001b[0m\u001b[0;34m\u001b[0m\u001b[0;34m\u001b[0m\u001b[0m\n\u001b[1;32m    152\u001b[0m       \u001b[0mfiltered_tb\u001b[0m \u001b[0;34m=\u001b[0m \u001b[0m_process_traceback_frames\u001b[0m\u001b[0;34m(\u001b[0m\u001b[0me\u001b[0m\u001b[0;34m.\u001b[0m\u001b[0m__traceback__\u001b[0m\u001b[0;34m)\u001b[0m\u001b[0;34m\u001b[0m\u001b[0;34m\u001b[0m\u001b[0m\n",
            "\u001b[0;32m/usr/local/lib/python3.7/dist-packages/tensorflow/python/eager/def_function.py\u001b[0m in \u001b[0;36m__call__\u001b[0;34m(self, *args, **kwds)\u001b[0m\n\u001b[1;32m    913\u001b[0m \u001b[0;34m\u001b[0m\u001b[0m\n\u001b[1;32m    914\u001b[0m       \u001b[0;32mwith\u001b[0m \u001b[0mOptionalXlaContext\u001b[0m\u001b[0;34m(\u001b[0m\u001b[0mself\u001b[0m\u001b[0;34m.\u001b[0m\u001b[0m_jit_compile\u001b[0m\u001b[0;34m)\u001b[0m\u001b[0;34m:\u001b[0m\u001b[0;34m\u001b[0m\u001b[0;34m\u001b[0m\u001b[0m\n\u001b[0;32m--> 915\u001b[0;31m         \u001b[0mresult\u001b[0m \u001b[0;34m=\u001b[0m \u001b[0mself\u001b[0m\u001b[0;34m.\u001b[0m\u001b[0m_call\u001b[0m\u001b[0;34m(\u001b[0m\u001b[0;34m*\u001b[0m\u001b[0margs\u001b[0m\u001b[0;34m,\u001b[0m \u001b[0;34m**\u001b[0m\u001b[0mkwds\u001b[0m\u001b[0;34m)\u001b[0m\u001b[0;34m\u001b[0m\u001b[0;34m\u001b[0m\u001b[0m\n\u001b[0m\u001b[1;32m    916\u001b[0m \u001b[0;34m\u001b[0m\u001b[0m\n\u001b[1;32m    917\u001b[0m       \u001b[0mnew_tracing_count\u001b[0m \u001b[0;34m=\u001b[0m \u001b[0mself\u001b[0m\u001b[0;34m.\u001b[0m\u001b[0mexperimental_get_tracing_count\u001b[0m\u001b[0;34m(\u001b[0m\u001b[0;34m)\u001b[0m\u001b[0;34m\u001b[0m\u001b[0;34m\u001b[0m\u001b[0m\n",
            "\u001b[0;32m/usr/local/lib/python3.7/dist-packages/tensorflow/python/eager/def_function.py\u001b[0m in \u001b[0;36m_call\u001b[0;34m(self, *args, **kwds)\u001b[0m\n\u001b[1;32m    945\u001b[0m       \u001b[0;31m# In this case we have created variables on the first call, so we run the\u001b[0m\u001b[0;34m\u001b[0m\u001b[0;34m\u001b[0m\u001b[0;34m\u001b[0m\u001b[0m\n\u001b[1;32m    946\u001b[0m       \u001b[0;31m# defunned version which is guaranteed to never create variables.\u001b[0m\u001b[0;34m\u001b[0m\u001b[0;34m\u001b[0m\u001b[0;34m\u001b[0m\u001b[0m\n\u001b[0;32m--> 947\u001b[0;31m       \u001b[0;32mreturn\u001b[0m \u001b[0mself\u001b[0m\u001b[0;34m.\u001b[0m\u001b[0m_stateless_fn\u001b[0m\u001b[0;34m(\u001b[0m\u001b[0;34m*\u001b[0m\u001b[0margs\u001b[0m\u001b[0;34m,\u001b[0m \u001b[0;34m**\u001b[0m\u001b[0mkwds\u001b[0m\u001b[0;34m)\u001b[0m  \u001b[0;31m# pylint: disable=not-callable\u001b[0m\u001b[0;34m\u001b[0m\u001b[0;34m\u001b[0m\u001b[0m\n\u001b[0m\u001b[1;32m    948\u001b[0m     \u001b[0;32melif\u001b[0m \u001b[0mself\u001b[0m\u001b[0;34m.\u001b[0m\u001b[0m_stateful_fn\u001b[0m \u001b[0;32mis\u001b[0m \u001b[0;32mnot\u001b[0m \u001b[0;32mNone\u001b[0m\u001b[0;34m:\u001b[0m\u001b[0;34m\u001b[0m\u001b[0;34m\u001b[0m\u001b[0m\n\u001b[1;32m    949\u001b[0m       \u001b[0;31m# Release the lock early so that multiple threads can perform the call\u001b[0m\u001b[0;34m\u001b[0m\u001b[0;34m\u001b[0m\u001b[0;34m\u001b[0m\u001b[0m\n",
            "\u001b[0;32m/usr/local/lib/python3.7/dist-packages/tensorflow/python/eager/function.py\u001b[0m in \u001b[0;36m__call__\u001b[0;34m(self, *args, **kwargs)\u001b[0m\n\u001b[1;32m   2955\u001b[0m        filtered_flat_args) = self._maybe_define_function(args, kwargs)\n\u001b[1;32m   2956\u001b[0m     return graph_function._call_flat(\n\u001b[0;32m-> 2957\u001b[0;31m         filtered_flat_args, captured_inputs=graph_function.captured_inputs)  # pylint: disable=protected-access\n\u001b[0m\u001b[1;32m   2958\u001b[0m \u001b[0;34m\u001b[0m\u001b[0m\n\u001b[1;32m   2959\u001b[0m   \u001b[0;34m@\u001b[0m\u001b[0mproperty\u001b[0m\u001b[0;34m\u001b[0m\u001b[0;34m\u001b[0m\u001b[0m\n",
            "\u001b[0;32m/usr/local/lib/python3.7/dist-packages/tensorflow/python/eager/function.py\u001b[0m in \u001b[0;36m_call_flat\u001b[0;34m(self, args, captured_inputs, cancellation_manager)\u001b[0m\n\u001b[1;32m   1852\u001b[0m       \u001b[0;31m# No tape is watching; skip to running the function.\u001b[0m\u001b[0;34m\u001b[0m\u001b[0;34m\u001b[0m\u001b[0;34m\u001b[0m\u001b[0m\n\u001b[1;32m   1853\u001b[0m       return self._build_call_outputs(self._inference_function.call(\n\u001b[0;32m-> 1854\u001b[0;31m           ctx, args, cancellation_manager=cancellation_manager))\n\u001b[0m\u001b[1;32m   1855\u001b[0m     forward_backward = self._select_forward_and_backward_functions(\n\u001b[1;32m   1856\u001b[0m         \u001b[0margs\u001b[0m\u001b[0;34m,\u001b[0m\u001b[0;34m\u001b[0m\u001b[0;34m\u001b[0m\u001b[0m\n",
            "\u001b[0;32m/usr/local/lib/python3.7/dist-packages/tensorflow/python/eager/function.py\u001b[0m in \u001b[0;36mcall\u001b[0;34m(self, ctx, args, cancellation_manager)\u001b[0m\n\u001b[1;32m    502\u001b[0m               \u001b[0minputs\u001b[0m\u001b[0;34m=\u001b[0m\u001b[0margs\u001b[0m\u001b[0;34m,\u001b[0m\u001b[0;34m\u001b[0m\u001b[0;34m\u001b[0m\u001b[0m\n\u001b[1;32m    503\u001b[0m               \u001b[0mattrs\u001b[0m\u001b[0;34m=\u001b[0m\u001b[0mattrs\u001b[0m\u001b[0;34m,\u001b[0m\u001b[0;34m\u001b[0m\u001b[0;34m\u001b[0m\u001b[0m\n\u001b[0;32m--> 504\u001b[0;31m               ctx=ctx)\n\u001b[0m\u001b[1;32m    505\u001b[0m         \u001b[0;32melse\u001b[0m\u001b[0;34m:\u001b[0m\u001b[0;34m\u001b[0m\u001b[0;34m\u001b[0m\u001b[0m\n\u001b[1;32m    506\u001b[0m           outputs = execute.execute_with_cancellation(\n",
            "\u001b[0;32m/usr/local/lib/python3.7/dist-packages/tensorflow/python/eager/execute.py\u001b[0m in \u001b[0;36mquick_execute\u001b[0;34m(op_name, num_outputs, inputs, attrs, ctx, name)\u001b[0m\n\u001b[1;32m     53\u001b[0m     \u001b[0mctx\u001b[0m\u001b[0;34m.\u001b[0m\u001b[0mensure_initialized\u001b[0m\u001b[0;34m(\u001b[0m\u001b[0;34m)\u001b[0m\u001b[0;34m\u001b[0m\u001b[0;34m\u001b[0m\u001b[0m\n\u001b[1;32m     54\u001b[0m     tensors = pywrap_tfe.TFE_Py_Execute(ctx._handle, device_name, op_name,\n\u001b[0;32m---> 55\u001b[0;31m                                         inputs, attrs, num_outputs)\n\u001b[0m\u001b[1;32m     56\u001b[0m   \u001b[0;32mexcept\u001b[0m \u001b[0mcore\u001b[0m\u001b[0;34m.\u001b[0m\u001b[0m_NotOkStatusException\u001b[0m \u001b[0;32mas\u001b[0m \u001b[0me\u001b[0m\u001b[0;34m:\u001b[0m\u001b[0;34m\u001b[0m\u001b[0;34m\u001b[0m\u001b[0m\n\u001b[1;32m     57\u001b[0m     \u001b[0;32mif\u001b[0m \u001b[0mname\u001b[0m \u001b[0;32mis\u001b[0m \u001b[0;32mnot\u001b[0m \u001b[0;32mNone\u001b[0m\u001b[0;34m:\u001b[0m\u001b[0;34m\u001b[0m\u001b[0;34m\u001b[0m\u001b[0m\n",
            "\u001b[0;31mKeyboardInterrupt\u001b[0m: "
          ]
        }
      ]
    },
    {
      "cell_type": "code",
      "source": [
        "test_loss, test_acc = model.evaluate(x_val, y_val)\n",
        "\n",
        "print('Test Loss:', test_loss)\n",
        "print('Test Accuracy:', test_acc)"
      ],
      "metadata": {
        "id": "6vPo190nhLCI"
      },
      "execution_count": null,
      "outputs": []
    },
    {
      "cell_type": "code",
      "source": [
        "vocab = np.array(encoder.get_vocabulary())\n",
        "vocab[:20]"
      ],
      "metadata": {
        "colab": {
          "base_uri": "https://localhost:8080/"
        },
        "id": "OufqT08mcX-H",
        "outputId": "89241cc3-e1a3-47a3-84e7-5a65eb88a32b"
      },
      "execution_count": null,
      "outputs": [
        {
          "output_type": "execute_result",
          "data": {
            "text/plain": [
              "array(['', '[UNK]', 'the', 'i', 'and', 'a', 'it', 'to', 'of', 'is',\n",
              "       'this', 'not', 'for', 'in', 'my', 'that', 'have', 'but', 'you',\n",
              "       'with'], dtype='<U105')"
            ]
          },
          "metadata": {},
          "execution_count": 37
        }
      ]
    },
    {
      "cell_type": "code",
      "source": [
        "max_len = 1\n",
        "for text in train_df['Review_text']:\n",
        "  if len(text.split(\" \")) > max_len:\n",
        "    max_len = len(text.split(\" \"))\n",
        "print(\"Maximum length of the review is\", max_len, \"words\")"
      ],
      "metadata": {
        "colab": {
          "base_uri": "https://localhost:8080/"
        },
        "id": "BYWWgcApQ35e",
        "outputId": "9ebc2400-c573-43be-affa-eb4f09b881ee"
      },
      "execution_count": null,
      "outputs": [
        {
          "output_type": "stream",
          "name": "stdout",
          "text": [
            "Maximum length of the review is 3545 words\n"
          ]
        }
      ]
    },
    {
      "cell_type": "code",
      "source": [
        "from keras.preprocessing.sequence import pad_sequences\n",
        "\n",
        "MAX_SEQUENCE_LENGTH = max_len\n",
        "x_train = pad_sequences(tokenizer.texts_to_sequences(train_df['Review_text']),\n",
        "                        maxlen = MAX_SEQUENCE_LENGTH)\n",
        "x_test = pad_sequences(tokenizer.texts_to_sequences(test_df['Review_text']),\n",
        "                       maxlen = MAX_SEQUENCE_LENGTH)\n",
        "\n",
        "print(\"Training X Shape:\",x_train.shape)\n",
        "print(\"Testing X Shape:\",x_test.shape)"
      ],
      "metadata": {
        "colab": {
          "base_uri": "https://localhost:8080/"
        },
        "id": "GxdhqS6cQl-g",
        "outputId": "38c4828b-58b9-427f-caef-8a37900802d8"
      },
      "execution_count": null,
      "outputs": [
        {
          "output_type": "stream",
          "name": "stdout",
          "text": [
            "Training X Shape: (426340, 3545)\n",
            "Testing X Shape: (142114, 3545)\n"
          ]
        }
      ]
    },
    {
      "cell_type": "code",
      "source": [
        ""
      ],
      "metadata": {
        "id": "TM1SPFytRp-t"
      },
      "execution_count": null,
      "outputs": []
    }
  ]
}